{
 "cells": [
  {
   "cell_type": "markdown",
   "metadata": {},
   "source": [
    "## Import all dependencies and libraries"
   ]
  },
  {
   "cell_type": "code",
   "execution_count": 1321,
   "metadata": {},
   "outputs": [],
   "source": [
    "#Dependencies\n",
    "%matplotlib inline\n",
    "import matplotlib.pyplot as plt\n",
    "import seaborn as sns\n",
    "import numpy as np\n",
    "import pandas as pd \n",
    "from scipy.spatial.distance import squareform\n",
    "from scipy.spatial.distance import pdist"
   ]
  },
  {
   "cell_type": "markdown",
   "metadata": {},
   "source": [
    "## Transform source data to csv"
   ]
  },
  {
   "cell_type": "code",
   "execution_count": 1322,
   "metadata": {},
   "outputs": [],
   "source": [
    "# Importing library\n",
    "import os\n",
    "# Getting all the arff files from the current directory\n",
    "files = [arff for arff in os.listdir('.') if arff.endswith(\".arff\")]\n",
    "\n",
    "# Function for converting arff list to csv list\n",
    "def toCsv(content):\n",
    "    data = False\n",
    "    header = \"\"\n",
    "    newContent = []\n",
    "    for line in content:\n",
    "        if not data:\n",
    "            if \"@attribute\" in line:\n",
    "                attri = line.split()\n",
    "                columnName = attri[attri.index(\"@attribute\")+1]\n",
    "                header = header + columnName + \",\"\n",
    "            elif \"@data\" in line:\n",
    "                data = True\n",
    "                header = header[:-1]\n",
    "                header += '\\n'\n",
    "                newContent.append(header)\n",
    "        else:\n",
    "            newContent.append(line)\n",
    "    return newContent\n",
    "\n",
    "# Main loop for reading and writing files\n",
    "for file in files:\n",
    "    with open(file , \"r\") as inFile:\n",
    "        content = inFile.readlines()\n",
    "        name,ext = os.path.splitext(inFile.name)\n",
    "        new = toCsv(content)\n",
    "        with open(name+\".csv\", \"w\") as outFile:\n",
    "            outFile.writelines(new)"
   ]
  },
  {
   "cell_type": "markdown",
   "metadata": {},
   "source": [
    "## Import data"
   ]
  },
  {
   "cell_type": "code",
   "execution_count": 1323,
   "metadata": {},
   "outputs": [
    {
     "name": "stdout",
     "output_type": "stream",
     "text": [
      "(140, 18)\n"
     ]
    },
    {
     "data": {
      "text/html": [
       "<div>\n",
       "<style scoped>\n",
       "    .dataframe tbody tr th:only-of-type {\n",
       "        vertical-align: middle;\n",
       "    }\n",
       "\n",
       "    .dataframe tbody tr th {\n",
       "        vertical-align: top;\n",
       "    }\n",
       "\n",
       "    .dataframe thead th {\n",
       "        text-align: right;\n",
       "    }\n",
       "</style>\n",
       "<table border=\"1\" class=\"dataframe\">\n",
       "  <thead>\n",
       "    <tr style=\"text-align: right;\">\n",
       "      <th></th>\n",
       "      <th>Hour</th>\n",
       "      <th>Immobilized_bus</th>\n",
       "      <th>Broken_Truck</th>\n",
       "      <th>Vehicle_excess</th>\n",
       "      <th>Accident_victim</th>\n",
       "      <th>Running_over</th>\n",
       "      <th>Fire_vehicles</th>\n",
       "      <th>Occurrence_involving_freight</th>\n",
       "      <th>Incident_involving_dangerous_freight</th>\n",
       "      <th>Lack_of_electricity</th>\n",
       "      <th>Fire</th>\n",
       "      <th>Point_of_flooding</th>\n",
       "      <th>Manifestations</th>\n",
       "      <th>Defect_in_the_network_of_trolleybuses</th>\n",
       "      <th>Tree_on_the_road</th>\n",
       "      <th>Semaphore_off</th>\n",
       "      <th>Intermittent_Semaphore</th>\n",
       "      <th>Slowness_in_traffic_percent</th>\n",
       "    </tr>\n",
       "  </thead>\n",
       "  <tbody>\n",
       "    <tr>\n",
       "      <th>0</th>\n",
       "      <td>7:00</td>\n",
       "      <td>0.0</td>\n",
       "      <td>0.0</td>\n",
       "      <td>T</td>\n",
       "      <td>0.0</td>\n",
       "      <td>0.0</td>\n",
       "      <td>NO</td>\n",
       "      <td>0.0</td>\n",
       "      <td>0.0</td>\n",
       "      <td>0.0</td>\n",
       "      <td>0.0</td>\n",
       "      <td>0.0</td>\n",
       "      <td>0.0</td>\n",
       "      <td>0.0</td>\n",
       "      <td>0.0</td>\n",
       "      <td>0.0</td>\n",
       "      <td>0.0</td>\n",
       "      <td>4.1</td>\n",
       "    </tr>\n",
       "    <tr>\n",
       "      <th>1</th>\n",
       "      <td>7:30</td>\n",
       "      <td>0.0</td>\n",
       "      <td>0.0</td>\n",
       "      <td>F</td>\n",
       "      <td>0.0</td>\n",
       "      <td>0.0</td>\n",
       "      <td>NO</td>\n",
       "      <td>0.0</td>\n",
       "      <td>0.0</td>\n",
       "      <td>0.0</td>\n",
       "      <td>0.0</td>\n",
       "      <td>0.0</td>\n",
       "      <td>0.0</td>\n",
       "      <td>0.0</td>\n",
       "      <td>0.0</td>\n",
       "      <td>0.0</td>\n",
       "      <td>0.0</td>\n",
       "      <td>6.6</td>\n",
       "    </tr>\n",
       "    <tr>\n",
       "      <th>2</th>\n",
       "      <td>8:00</td>\n",
       "      <td>0.0</td>\n",
       "      <td>0.0</td>\n",
       "      <td>F</td>\n",
       "      <td>0.0</td>\n",
       "      <td>0.0</td>\n",
       "      <td>NO</td>\n",
       "      <td>0.0</td>\n",
       "      <td>0.0</td>\n",
       "      <td>0.0</td>\n",
       "      <td>0.0</td>\n",
       "      <td>0.0</td>\n",
       "      <td>0.0</td>\n",
       "      <td>0.0</td>\n",
       "      <td>0.0</td>\n",
       "      <td>0.0</td>\n",
       "      <td>0.0</td>\n",
       "      <td>8.7</td>\n",
       "    </tr>\n",
       "    <tr>\n",
       "      <th>3</th>\n",
       "      <td>8:30</td>\n",
       "      <td>0.0</td>\n",
       "      <td>0.0</td>\n",
       "      <td>F</td>\n",
       "      <td>0.0</td>\n",
       "      <td>0.0</td>\n",
       "      <td>NO</td>\n",
       "      <td>0.0</td>\n",
       "      <td>0.0</td>\n",
       "      <td>0.0</td>\n",
       "      <td>0.0</td>\n",
       "      <td>0.0</td>\n",
       "      <td>0.0</td>\n",
       "      <td>0.0</td>\n",
       "      <td>0.0</td>\n",
       "      <td>0.0</td>\n",
       "      <td>0.0</td>\n",
       "      <td>9.2</td>\n",
       "    </tr>\n",
       "    <tr>\n",
       "      <th>4</th>\n",
       "      <td>9:00</td>\n",
       "      <td>0.0</td>\n",
       "      <td>0.0</td>\n",
       "      <td>F</td>\n",
       "      <td>0.0</td>\n",
       "      <td>0.0</td>\n",
       "      <td>NO</td>\n",
       "      <td>0.0</td>\n",
       "      <td>0.0</td>\n",
       "      <td>0.0</td>\n",
       "      <td>0.0</td>\n",
       "      <td>0.0</td>\n",
       "      <td>0.0</td>\n",
       "      <td>0.0</td>\n",
       "      <td>0.0</td>\n",
       "      <td>0.0</td>\n",
       "      <td>0.0</td>\n",
       "      <td>11.1</td>\n",
       "    </tr>\n",
       "  </tbody>\n",
       "</table>\n",
       "</div>"
      ],
      "text/plain": [
       "   Hour  Immobilized_bus  Broken_Truck Vehicle_excess Accident_victim  \\\n",
       "0  7:00              0.0           0.0              T             0.0   \n",
       "1  7:30              0.0           0.0              F             0.0   \n",
       "2  8:00              0.0           0.0              F             0.0   \n",
       "3  8:30              0.0           0.0              F             0.0   \n",
       "4  9:00              0.0           0.0              F             0.0   \n",
       "\n",
       "  Running_over Fire_vehicles  Occurrence_involving_freight  \\\n",
       "0          0.0            NO                           0.0   \n",
       "1          0.0            NO                           0.0   \n",
       "2          0.0            NO                           0.0   \n",
       "3          0.0            NO                           0.0   \n",
       "4          0.0            NO                           0.0   \n",
       "\n",
       "  Incident_involving_dangerous_freight  Lack_of_electricity  Fire  \\\n",
       "0                                  0.0                  0.0   0.0   \n",
       "1                                  0.0                  0.0   0.0   \n",
       "2                                  0.0                  0.0   0.0   \n",
       "3                                  0.0                  0.0   0.0   \n",
       "4                                  0.0                  0.0   0.0   \n",
       "\n",
       "   Point_of_flooding  Manifestations Defect_in_the_network_of_trolleybuses  \\\n",
       "0                0.0             0.0                                   0.0   \n",
       "1                0.0             0.0                                   0.0   \n",
       "2                0.0             0.0                                   0.0   \n",
       "3                0.0             0.0                                   0.0   \n",
       "4                0.0             0.0                                   0.0   \n",
       "\n",
       "   Tree_on_the_road Semaphore_off  Intermittent_Semaphore  \\\n",
       "0               0.0           0.0                     0.0   \n",
       "1               0.0           0.0                     0.0   \n",
       "2               0.0           0.0                     0.0   \n",
       "3               0.0           0.0                     0.0   \n",
       "4               0.0           0.0                     0.0   \n",
       "\n",
       "   Slowness_in_traffic_percent  \n",
       "0                          4.1  \n",
       "1                          6.6  \n",
       "2                          8.7  \n",
       "3                          9.2  \n",
       "4                         11.1  "
      ]
     },
     "execution_count": 1323,
     "metadata": {},
     "output_type": "execute_result"
    }
   ],
   "source": [
    "df = pd.read_csv(\"Behavior of the urban traffic - modified.csv\") \n",
    "print(df.shape)\n",
    "df.head()\n",
    "#print(df.tail())"
   ]
  },
  {
   "cell_type": "code",
   "execution_count": 1324,
   "metadata": {},
   "outputs": [
    {
     "data": {
      "text/html": [
       "<div>\n",
       "<style scoped>\n",
       "    .dataframe tbody tr th:only-of-type {\n",
       "        vertical-align: middle;\n",
       "    }\n",
       "\n",
       "    .dataframe tbody tr th {\n",
       "        vertical-align: top;\n",
       "    }\n",
       "\n",
       "    .dataframe thead th {\n",
       "        text-align: right;\n",
       "    }\n",
       "</style>\n",
       "<table border=\"1\" class=\"dataframe\">\n",
       "  <thead>\n",
       "    <tr style=\"text-align: right;\">\n",
       "      <th></th>\n",
       "      <th>Immobilized_bus</th>\n",
       "      <th>Broken_Truck</th>\n",
       "      <th>Occurrence_involving_freight</th>\n",
       "      <th>Lack_of_electricity</th>\n",
       "      <th>Fire</th>\n",
       "      <th>Point_of_flooding</th>\n",
       "      <th>Manifestations</th>\n",
       "      <th>Tree_on_the_road</th>\n",
       "      <th>Intermittent_Semaphore</th>\n",
       "      <th>Slowness_in_traffic_percent</th>\n",
       "    </tr>\n",
       "  </thead>\n",
       "  <tbody>\n",
       "    <tr>\n",
       "      <th>count</th>\n",
       "      <td>140.000000</td>\n",
       "      <td>140.000000</td>\n",
       "      <td>140.000000</td>\n",
       "      <td>140.000000</td>\n",
       "      <td>140.000000</td>\n",
       "      <td>140.000000</td>\n",
       "      <td>140.000000</td>\n",
       "      <td>140.000000</td>\n",
       "      <td>140.000000</td>\n",
       "      <td>140.000000</td>\n",
       "    </tr>\n",
       "    <tr>\n",
       "      <th>mean</th>\n",
       "      <td>0.335714</td>\n",
       "      <td>8.007143</td>\n",
       "      <td>0.007143</td>\n",
       "      <td>0.114286</td>\n",
       "      <td>0.007143</td>\n",
       "      <td>14.400000</td>\n",
       "      <td>0.035714</td>\n",
       "      <td>0.042857</td>\n",
       "      <td>0.014286</td>\n",
       "      <td>9.980714</td>\n",
       "    </tr>\n",
       "    <tr>\n",
       "      <th>std</th>\n",
       "      <td>0.652728</td>\n",
       "      <td>84.448912</td>\n",
       "      <td>0.084515</td>\n",
       "      <td>0.495820</td>\n",
       "      <td>0.084515</td>\n",
       "      <td>169.022573</td>\n",
       "      <td>0.221529</td>\n",
       "      <td>0.203262</td>\n",
       "      <td>0.119092</td>\n",
       "      <td>4.323583</td>\n",
       "    </tr>\n",
       "    <tr>\n",
       "      <th>min</th>\n",
       "      <td>0.000000</td>\n",
       "      <td>0.000000</td>\n",
       "      <td>0.000000</td>\n",
       "      <td>0.000000</td>\n",
       "      <td>0.000000</td>\n",
       "      <td>0.000000</td>\n",
       "      <td>-1.000000</td>\n",
       "      <td>0.000000</td>\n",
       "      <td>0.000000</td>\n",
       "      <td>3.400000</td>\n",
       "    </tr>\n",
       "    <tr>\n",
       "      <th>25%</th>\n",
       "      <td>0.000000</td>\n",
       "      <td>0.000000</td>\n",
       "      <td>0.000000</td>\n",
       "      <td>0.000000</td>\n",
       "      <td>0.000000</td>\n",
       "      <td>0.000000</td>\n",
       "      <td>0.000000</td>\n",
       "      <td>0.000000</td>\n",
       "      <td>0.000000</td>\n",
       "      <td>7.300000</td>\n",
       "    </tr>\n",
       "    <tr>\n",
       "      <th>50%</th>\n",
       "      <td>0.000000</td>\n",
       "      <td>1.000000</td>\n",
       "      <td>0.000000</td>\n",
       "      <td>0.000000</td>\n",
       "      <td>0.000000</td>\n",
       "      <td>0.000000</td>\n",
       "      <td>0.000000</td>\n",
       "      <td>0.000000</td>\n",
       "      <td>0.000000</td>\n",
       "      <td>8.950000</td>\n",
       "    </tr>\n",
       "    <tr>\n",
       "      <th>75%</th>\n",
       "      <td>1.000000</td>\n",
       "      <td>1.000000</td>\n",
       "      <td>0.000000</td>\n",
       "      <td>0.000000</td>\n",
       "      <td>0.000000</td>\n",
       "      <td>0.000000</td>\n",
       "      <td>0.000000</td>\n",
       "      <td>0.000000</td>\n",
       "      <td>0.000000</td>\n",
       "      <td>11.500000</td>\n",
       "    </tr>\n",
       "    <tr>\n",
       "      <th>max</th>\n",
       "      <td>4.000000</td>\n",
       "      <td>1000.000000</td>\n",
       "      <td>1.000000</td>\n",
       "      <td>4.000000</td>\n",
       "      <td>1.000000</td>\n",
       "      <td>2000.000000</td>\n",
       "      <td>1.000000</td>\n",
       "      <td>1.000000</td>\n",
       "      <td>1.000000</td>\n",
       "      <td>23.400000</td>\n",
       "    </tr>\n",
       "  </tbody>\n",
       "</table>\n",
       "</div>"
      ],
      "text/plain": [
       "       Immobilized_bus  Broken_Truck  Occurrence_involving_freight  \\\n",
       "count       140.000000    140.000000                    140.000000   \n",
       "mean          0.335714      8.007143                      0.007143   \n",
       "std           0.652728     84.448912                      0.084515   \n",
       "min           0.000000      0.000000                      0.000000   \n",
       "25%           0.000000      0.000000                      0.000000   \n",
       "50%           0.000000      1.000000                      0.000000   \n",
       "75%           1.000000      1.000000                      0.000000   \n",
       "max           4.000000   1000.000000                      1.000000   \n",
       "\n",
       "       Lack_of_electricity        Fire  Point_of_flooding  Manifestations  \\\n",
       "count           140.000000  140.000000         140.000000      140.000000   \n",
       "mean              0.114286    0.007143          14.400000        0.035714   \n",
       "std               0.495820    0.084515         169.022573        0.221529   \n",
       "min               0.000000    0.000000           0.000000       -1.000000   \n",
       "25%               0.000000    0.000000           0.000000        0.000000   \n",
       "50%               0.000000    0.000000           0.000000        0.000000   \n",
       "75%               0.000000    0.000000           0.000000        0.000000   \n",
       "max               4.000000    1.000000        2000.000000        1.000000   \n",
       "\n",
       "       Tree_on_the_road  Intermittent_Semaphore  Slowness_in_traffic_percent  \n",
       "count        140.000000              140.000000                   140.000000  \n",
       "mean           0.042857                0.014286                     9.980714  \n",
       "std            0.203262                0.119092                     4.323583  \n",
       "min            0.000000                0.000000                     3.400000  \n",
       "25%            0.000000                0.000000                     7.300000  \n",
       "50%            0.000000                0.000000                     8.950000  \n",
       "75%            0.000000                0.000000                    11.500000  \n",
       "max            1.000000                1.000000                    23.400000  "
      ]
     },
     "execution_count": 1324,
     "metadata": {},
     "output_type": "execute_result"
    }
   ],
   "source": [
    "df.describe()"
   ]
  },
  {
   "cell_type": "code",
   "execution_count": 1325,
   "metadata": {},
   "outputs": [
    {
     "name": "stdout",
     "output_type": "stream",
     "text": [
      "<class 'pandas.core.frame.DataFrame'>\n",
      "RangeIndex: 140 entries, 0 to 139\n",
      "Data columns (total 18 columns):\n",
      "Hour                                     140 non-null object\n",
      "Immobilized_bus                          140 non-null float64\n",
      "Broken_Truck                             140 non-null float64\n",
      "Vehicle_excess                           140 non-null object\n",
      "Accident_victim                          140 non-null object\n",
      "Running_over                             140 non-null object\n",
      "Fire_vehicles                            140 non-null object\n",
      "Occurrence_involving_freight             140 non-null float64\n",
      "Incident_involving_dangerous_freight     140 non-null object\n",
      "Lack_of_electricity                      140 non-null float64\n",
      "Fire                                     140 non-null float64\n",
      "Point_of_flooding                        140 non-null float64\n",
      "Manifestations                           140 non-null float64\n",
      "Defect_in_the_network_of_trolleybuses    140 non-null object\n",
      "Tree_on_the_road                         140 non-null float64\n",
      "Semaphore_off                            140 non-null object\n",
      "Intermittent_Semaphore                   140 non-null float64\n",
      "Slowness_in_traffic_percent              140 non-null float64\n",
      "dtypes: float64(10), object(8)\n",
      "memory usage: 19.8+ KB\n"
     ]
    }
   ],
   "source": [
    "df.info()"
   ]
  },
  {
   "cell_type": "markdown",
   "metadata": {},
   "source": [
    "### Data Preparation"
   ]
  },
  {
   "cell_type": "markdown",
   "metadata": {},
   "source": [
    "Check unique values for the given column to understand nature of data (Categorical/Numerical) and missing/empty rows, NA values etc. We will try to fill missing/empty/NA values discard rows and create columns for categorical variables."
   ]
  },
  {
   "cell_type": "markdown",
   "metadata": {},
   "source": [
    "#### Exploratory Analysis for Hour"
   ]
  },
  {
   "cell_type": "code",
   "execution_count": 1326,
   "metadata": {},
   "outputs": [
    {
     "name": "stdout",
     "output_type": "stream",
     "text": [
      "0       1\n",
      "1       2\n",
      "2       3\n",
      "3       4\n",
      "4       5\n",
      "       ..\n",
      "135    23\n",
      "136    24\n",
      "137    25\n",
      "138    26\n",
      "139    27\n",
      "Name: Hour, Length: 140, dtype: int64\n"
     ]
    },
    {
     "data": {
      "text/plain": [
       "<matplotlib.axes._subplots.AxesSubplot at 0x7fe0210d99d0>"
      ]
     },
     "execution_count": 1326,
     "metadata": {},
     "output_type": "execute_result"
    },
    {
     "data": {
      "image/png": "[encoded data removed]",
      "text/plain": [
       "<Figure size 432x288 with 1 Axes>"
      ]
     },
     "metadata": {
      "needs_background": "light"
     },
     "output_type": "display_data"
    }
   ],
   "source": [
    "df['Hour'] = df['Hour'].str.split(':').apply(lambda x: int(x[0]) * 60 + int(x[1])).apply(lambda x: (x - 420)/30 +1)\n",
    "df['Hour'] = df['Hour'].astype('int64')\n",
    "print(df['Hour'])\n",
    "sns.boxplot('Hour', data = df)"
   ]
  },
  {
   "cell_type": "markdown",
   "metadata": {},
   "source": [
    "#### Exploratory Analysis for Immobilized_bus feature"
   ]
  },
  {
   "cell_type": "code",
   "execution_count": 1327,
   "metadata": {},
   "outputs": [
    {
     "name": "stdout",
     "output_type": "stream",
     "text": [
      "[0. 2. 1. 4.]\n",
      "0.0    104\n",
      "1.0     27\n",
      "2.0      8\n",
      "4.0      1\n",
      "Name: Immobilized_bus, dtype: int64\n"
     ]
    },
    {
     "data": {
      "text/plain": [
       "<matplotlib.axes._subplots.AxesSubplot at 0x7fe0f2ca7d50>"
      ]
     },
     "execution_count": 1327,
     "metadata": {},
     "output_type": "execute_result"
    },
    {
     "data": {
      "image/png": "[encoded data removed]",
      "text/plain": [
       "<Figure size 432x288 with 1 Axes>"
      ]
     },
     "metadata": {
      "needs_background": "light"
     },
     "output_type": "display_data"
    }
   ],
   "source": [
    "print(df.Immobilized_bus.unique())\n",
    "print(df['Immobilized_bus'].value_counts(dropna=False))\n",
    "sns.boxplot('Immobilized_bus', data = df)"
   ]
  },
  {
   "cell_type": "code",
   "execution_count": 1328,
   "metadata": {},
   "outputs": [],
   "source": [
    "df.loc[(df.Immobilized_bus == 0.0),'Immobilized_bus']=0\n",
    "df.loc[(df.Immobilized_bus != 0.0),'Immobilized_bus']=1"
   ]
  },
  {
   "cell_type": "code",
   "execution_count": 1329,
   "metadata": {},
   "outputs": [
    {
     "name": "stdout",
     "output_type": "stream",
     "text": [
      "0.0    104\n",
      "1.0     36\n",
      "Name: Immobilized_bus, dtype: int64\n"
     ]
    }
   ],
   "source": [
    "print(df['Immobilized_bus'].value_counts(dropna=False))"
   ]
  },
  {
   "cell_type": "markdown",
   "metadata": {},
   "source": [
    "#### Exploratory Analysis for Broken_Truck feature"
   ]
  },
  {
   "cell_type": "code",
   "execution_count": 1330,
   "metadata": {},
   "outputs": [
    {
     "name": "stdout",
     "output_type": "stream",
     "text": [
      "[   0. 1000.    2.    1.    5.    4.    3.]\n",
      "0.0       66\n",
      "1.0       44\n",
      "2.0       17\n",
      "3.0        6\n",
      "4.0        5\n",
      "5.0        1\n",
      "1000.0     1\n",
      "Name: Broken_Truck, dtype: int64\n"
     ]
    },
    {
     "data": {
      "text/plain": [
       "<matplotlib.axes._subplots.AxesSubplot at 0x7fe0d6829ed0>"
      ]
     },
     "execution_count": 1330,
     "metadata": {},
     "output_type": "execute_result"
    },
    {
     "data": {
      "image/png": "[encoded data removed]",
      "text/plain": [
       "<Figure size 432x288 with 1 Axes>"
      ]
     },
     "metadata": {
      "needs_background": "light"
     },
     "output_type": "display_data"
    }
   ],
   "source": [
    "print(df.Broken_Truck.unique())\n",
    "print(df['Broken_Truck'].value_counts(dropna=False))\n",
    "sns.boxplot('Broken_Truck', data = df)"
   ]
  },
  {
   "cell_type": "code",
   "execution_count": 1331,
   "metadata": {},
   "outputs": [],
   "source": [
    "df.loc[(df.Broken_Truck == 0.0),'Broken_Truck']=0\n",
    "df.loc[(df.Broken_Truck != 0.0),'Broken_Truck']=1"
   ]
  },
  {
   "cell_type": "markdown",
   "metadata": {},
   "source": [
    "#### Exploratory Analysis for Vehicle_excess feature"
   ]
  },
  {
   "cell_type": "code",
   "execution_count": 1332,
   "metadata": {},
   "outputs": [
    {
     "name": "stdout",
     "output_type": "stream",
     "text": [
      "[' T' ' F' ' f']\n",
      "[' T' ' F']\n"
     ]
    }
   ],
   "source": [
    "print(df.Vehicle_excess.unique())\n",
    "df.loc[(df.Vehicle_excess == ' f'),'Vehicle_excess']=' F'\n",
    "print(df.Vehicle_excess.unique())"
   ]
  },
  {
   "cell_type": "code",
   "execution_count": 1333,
   "metadata": {},
   "outputs": [
    {
     "name": "stdout",
     "output_type": "stream",
     "text": [
      "0    135\n",
      "1      5\n",
      "Name: Vehicle_excess, dtype: int64\n"
     ]
    },
    {
     "data": {
      "text/plain": [
       "<matplotlib.axes._subplots.AxesSubplot at 0x7fe0b5713c50>"
      ]
     },
     "execution_count": 1333,
     "metadata": {},
     "output_type": "execute_result"
    },
    {
     "data": {
      "image/png": "[encoded data removed]",
      "text/plain": [
       "<Figure size 432x288 with 1 Axes>"
      ]
     },
     "metadata": {
      "needs_background": "light"
     },
     "output_type": "display_data"
    }
   ],
   "source": [
    "# Converting Yes to 1 and No to 0\n",
    "df['Vehicle_excess'] = df['Vehicle_excess'].map({' T': 1, ' F': 0})\n",
    "#df.Vehicle_excess.unique()\n",
    "#print(df['Vehicle_excess'])\n",
    "print(df['Vehicle_excess'].value_counts(dropna=False))\n",
    "sns.boxplot('Vehicle_excess', data = df)"
   ]
  },
  {
   "cell_type": "markdown",
   "metadata": {},
   "source": [
    "#### Exploratory Analysis for Accident_victim feature"
   ]
  },
  {
   "cell_type": "code",
   "execution_count": 1334,
   "metadata": {},
   "outputs": [
    {
     "name": "stdout",
     "output_type": "stream",
     "text": [
      "[' 0.0' ' 1.0' ' 2.0' ' 3.0' ' -0.0' ' ']\n",
      " 0.0    92\n",
      " 1.0    33\n",
      " 2.0    10\n",
      " 3.0     3\n",
      "         2\n",
      "Name: Accident_victim, dtype: int64\n"
     ]
    }
   ],
   "source": [
    "print(df.Accident_victim.unique())\n",
    "df.loc[(df.Accident_victim == ' -0.0'),'Accident_victim']=' 0.0'\n",
    "print(df['Accident_victim'].value_counts(dropna=False))"
   ]
  },
  {
   "cell_type": "code",
   "execution_count": 1335,
   "metadata": {},
   "outputs": [
    {
     "name": "stdout",
     "output_type": "stream",
     "text": [
      "[ 0.  1.  2.  3. nan]\n",
      "0.4492753623188406\n",
      "0    0.0\n",
      "dtype: float64\n"
     ]
    }
   ],
   "source": [
    "df['Accident_victim'] = pd.to_numeric(df['Accident_victim'],errors='coerce')\n",
    "print(df.Accident_victim.unique())\n",
    "print(df['Accident_victim'].mean())\n",
    "print(df['Accident_victim'].mode())"
   ]
  },
  {
   "cell_type": "code",
   "execution_count": 1336,
   "metadata": {},
   "outputs": [
    {
     "name": "stdout",
     "output_type": "stream",
     "text": [
      "0.0    94\n",
      "1.0    33\n",
      "2.0    10\n",
      "3.0     3\n",
      "Name: Accident_victim, dtype: int64\n"
     ]
    },
    {
     "data": {
      "text/plain": [
       "<matplotlib.axes._subplots.AxesSubplot at 0x7fe094d88c90>"
      ]
     },
     "execution_count": 1336,
     "metadata": {},
     "output_type": "execute_result"
    },
    {
     "data": {
      "image/png": "[encoded data removed]",
      "text/plain": [
       "<Figure size 432x288 with 1 Axes>"
      ]
     },
     "metadata": {
      "needs_background": "light"
     },
     "output_type": "display_data"
    }
   ],
   "source": [
    "#Replace nan with mode\n",
    "df['Accident_victim'].replace(np.nan, 0.0 , inplace = True)\n",
    "df['Accident_victim'] = pd.to_numeric(df['Accident_victim'],errors='coerce')\n",
    "print(df['Accident_victim'].value_counts(dropna=False))\n",
    "sns.boxplot('Accident_victim', data = df)"
   ]
  },
  {
   "cell_type": "code",
   "execution_count": 1337,
   "metadata": {
    "scrolled": true
   },
   "outputs": [
    {
     "name": "stdout",
     "output_type": "stream",
     "text": [
      "0.0    94\n",
      "1.0    46\n",
      "Name: Accident_victim, dtype: int64\n"
     ]
    }
   ],
   "source": [
    "df.loc[(df.Accident_victim == 0.0),'Accident_victim']=0\n",
    "df.loc[(df.Accident_victim != 0.0),'Accident_victim']=1\n",
    "print(df['Accident_victim'].value_counts(dropna=False))"
   ]
  },
  {
   "cell_type": "markdown",
   "metadata": {},
   "source": [
    "#### Exploratory Analysis for Running_over feature"
   ]
  },
  {
   "cell_type": "code",
   "execution_count": 1338,
   "metadata": {},
   "outputs": [
    {
     "name": "stdout",
     "output_type": "stream",
     "text": [
      "[' 0.0' ' NO' ' 1.0' ' 2.0' ' -1.0']\n",
      "[' 0.0' ' 1.0' ' 2.0']\n",
      " 0.0    125\n",
      " 1.0     14\n",
      " 2.0      1\n",
      "Name: Running_over, dtype: int64\n"
     ]
    },
    {
     "data": {
      "text/plain": [
       "<matplotlib.axes._subplots.AxesSubplot at 0x7fe0e26f4d50>"
      ]
     },
     "execution_count": 1338,
     "metadata": {},
     "output_type": "execute_result"
    },
    {
     "data": {
      "image/png": "[encoded data removed]",
      "text/plain": [
       "<Figure size 432x288 with 1 Axes>"
      ]
     },
     "metadata": {
      "needs_background": "light"
     },
     "output_type": "display_data"
    }
   ],
   "source": [
    "print(df.Running_over.unique())\n",
    "df.loc[(df.Running_over == ' NO'),'Running_over']=' 0.0'\n",
    "df.loc[(df.Running_over == ' -1.0'),'Running_over']=' 1.0'\n",
    "print(df.Running_over.unique())\n",
    "print(df['Running_over'].value_counts(dropna=False))\n",
    "df['Running_over'] = pd.to_numeric(df['Running_over'],errors='coerce')\n",
    "sns.boxplot('Running_over', data = df)"
   ]
  },
  {
   "cell_type": "code",
   "execution_count": 1339,
   "metadata": {},
   "outputs": [
    {
     "name": "stdout",
     "output_type": "stream",
     "text": [
      "0.0    126\n",
      "1.0     14\n",
      "Name: Running_over, dtype: int64\n",
      "[0. 1.]\n"
     ]
    }
   ],
   "source": [
    "df.loc[(df.Running_over == 2.0),'Running_over']=0.0\n",
    "print(df['Running_over'].value_counts(dropna=False))\n",
    "print(df.Running_over.unique())"
   ]
  },
  {
   "cell_type": "markdown",
   "metadata": {},
   "source": [
    "#### Exploratory Analysis for Fire_vehicles feature"
   ]
  },
  {
   "cell_type": "code",
   "execution_count": 1340,
   "metadata": {},
   "outputs": [
    {
     "name": "stdout",
     "output_type": "stream",
     "text": [
      " NO     138\n",
      " YES      1\n",
      " 0.0      1\n",
      "Name: Fire_vehicles, dtype: int64\n",
      " NO     139\n",
      " YES      1\n",
      "Name: Fire_vehicles, dtype: int64\n",
      "0.0    139\n",
      "1.0      1\n",
      "Name: Fire_vehicles, dtype: int64\n"
     ]
    },
    {
     "data": {
      "text/plain": [
       "<matplotlib.axes._subplots.AxesSubplot at 0x7fe0f2b10e90>"
      ]
     },
     "execution_count": 1340,
     "metadata": {},
     "output_type": "execute_result"
    },
    {
     "data": {
      "image/png": "[encoded data removed]",
      "text/plain": [
       "<Figure size 432x288 with 1 Axes>"
      ]
     },
     "metadata": {
      "needs_background": "light"
     },
     "output_type": "display_data"
    }
   ],
   "source": [
    "print(df['Fire_vehicles'].value_counts(dropna=False))\n",
    "#df.replace(to_replace=' 0.0', value= ' NO', inplace = True)\n",
    "df.loc[(df.Fire_vehicles == ' 0.0'),'Fire_vehicles']=' NO'\n",
    "print(df['Fire_vehicles'].value_counts(dropna=False))\n",
    "df.loc[(df.Fire_vehicles == ' NO'),'Fire_vehicles']=' 0.0'\n",
    "df.loc[(df.Fire_vehicles == ' YES'),'Fire_vehicles']=' 1.0'\n",
    "df['Fire_vehicles'] = pd.to_numeric(df['Fire_vehicles'],errors='coerce')\n",
    "print(df['Fire_vehicles'].value_counts(dropna=False))\n",
    "\n",
    "sns.boxplot('Fire_vehicles', data = df)"
   ]
  },
  {
   "cell_type": "markdown",
   "metadata": {},
   "source": [
    "#### Exploratory Analysis for Occurrence_involving_freight feature"
   ]
  },
  {
   "cell_type": "code",
   "execution_count": 1341,
   "metadata": {},
   "outputs": [
    {
     "name": "stdout",
     "output_type": "stream",
     "text": [
      "0.0    139\n",
      "1.0      1\n",
      "Name: Occurrence_involving_freight, dtype: int64\n",
      "0.0    139\n",
      "1.0      1\n",
      "Name: Occurrence_involving_freight, dtype: int64\n"
     ]
    },
    {
     "data": {
      "text/plain": [
       "<matplotlib.axes._subplots.AxesSubplot at 0x7fe0f2aeddd0>"
      ]
     },
     "execution_count": 1341,
     "metadata": {},
     "output_type": "execute_result"
    },
    {
     "data": {
      "image/png": "[encoded data removed]",
      "text/plain": [
       "<Figure size 432x288 with 1 Axes>"
      ]
     },
     "metadata": {
      "needs_background": "light"
     },
     "output_type": "display_data"
    }
   ],
   "source": [
    "df.Occurrence_involving_freight.unique()\n",
    "#print(df['Occurrence_involving_freight'])\n",
    "print(df['Occurrence_involving_freight'].value_counts(dropna=False))\n",
    "df['Occurrence_involving_freight'] = pd.to_numeric(df['Occurrence_involving_freight'],errors='coerce')\n",
    "print(df['Occurrence_involving_freight'].value_counts(dropna=False))\n",
    "sns.boxplot('Occurrence_involving_freight', data = df)"
   ]
  },
  {
   "cell_type": "markdown",
   "metadata": {},
   "source": [
    "#### Exploratory Analysis for Incident_involving_dangerous_freight feature"
   ]
  },
  {
   "cell_type": "code",
   "execution_count": 1342,
   "metadata": {},
   "outputs": [
    {
     "name": "stdout",
     "output_type": "stream",
     "text": [
      " 0.0    137\n",
      "          2\n",
      " 1.0      1\n",
      "Name: Incident_involving_dangerous_freight, dtype: int64\n",
      "0     0.0\n",
      "dtype: object\n",
      " 0.0    139\n",
      " 1.0      1\n",
      "Name: Incident_involving_dangerous_freight, dtype: int64\n",
      "0.0    139\n",
      "1.0      1\n",
      "Name: Incident_involving_dangerous_freight, dtype: int64\n"
     ]
    },
    {
     "data": {
      "text/plain": [
       "<matplotlib.axes._subplots.AxesSubplot at 0x7fe0a55cf410>"
      ]
     },
     "execution_count": 1342,
     "metadata": {},
     "output_type": "execute_result"
    },
    {
     "data": {
      "image/png": "[encoded data removed]",
      "text/plain": [
       "<Figure size 432x288 with 1 Axes>"
      ]
     },
     "metadata": {
      "needs_background": "light"
     },
     "output_type": "display_data"
    }
   ],
   "source": [
    "df.Incident_involving_dangerous_freight.unique()\n",
    "#print(df['Incident_involving_dangerous_freight'])\n",
    "print(df['Incident_involving_dangerous_freight'].value_counts(dropna=False)) \n",
    "print(df['Incident_involving_dangerous_freight'].mode())\n",
    "\n",
    "df.loc[(df.Incident_involving_dangerous_freight == ' '),'Incident_involving_dangerous_freight']=' 0.0'\n",
    "print(df['Incident_involving_dangerous_freight'].value_counts(dropna=False))\n",
    "\n",
    "df['Incident_involving_dangerous_freight'] = pd.to_numeric(df['Incident_involving_dangerous_freight'],errors='coerce')\n",
    "print(df['Incident_involving_dangerous_freight'].value_counts(dropna=False))\n",
    "\n",
    "sns.boxplot('Incident_involving_dangerous_freight', data = df)"
   ]
  },
  {
   "cell_type": "markdown",
   "metadata": {},
   "source": [
    "#### Exploratory Analysis for Lack_of_electricity feature"
   ]
  },
  {
   "cell_type": "code",
   "execution_count": 1343,
   "metadata": {},
   "outputs": [
    {
     "name": "stdout",
     "output_type": "stream",
     "text": [
      "[0. 1. 2. 4. 3.]\n",
      "0.0    130\n",
      "1.0      7\n",
      "3.0      1\n",
      "4.0      1\n",
      "2.0      1\n",
      "Name: Lack_of_electricity, dtype: int64\n",
      "0.0    130\n",
      "1.0     10\n",
      "Name: Lack_of_electricity, dtype: int64\n"
     ]
    },
    {
     "data": {
      "text/plain": [
       "<matplotlib.axes._subplots.AxesSubplot at 0x7fe0f2a0ec50>"
      ]
     },
     "execution_count": 1343,
     "metadata": {},
     "output_type": "execute_result"
    },
    {
     "data": {
      "image/png": "[encoded data removed]",
      "text/plain": [
       "<Figure size 432x288 with 1 Axes>"
      ]
     },
     "metadata": {
      "needs_background": "light"
     },
     "output_type": "display_data"
    }
   ],
   "source": [
    "print(df.Lack_of_electricity.unique())\n",
    "print(df['Lack_of_electricity'].value_counts(dropna=False)) \n",
    "df.loc[(df.Lack_of_electricity !=0.0),'Lack_of_electricity']=1.0\n",
    "print(df['Lack_of_electricity'].value_counts(dropna=False))\n",
    "\n",
    "\n",
    "sns.boxplot('Lack_of_electricity', data = df)"
   ]
  },
  {
   "cell_type": "markdown",
   "metadata": {},
   "source": [
    "#### Exploratory Analysis for Fire feature"
   ]
  },
  {
   "cell_type": "code",
   "execution_count": 1344,
   "metadata": {},
   "outputs": [
    {
     "name": "stdout",
     "output_type": "stream",
     "text": [
      "0.0    139\n",
      "1.0      1\n",
      "Name: Fire, dtype: int64\n"
     ]
    },
    {
     "data": {
      "text/plain": [
       "<matplotlib.axes._subplots.AxesSubplot at 0x7fe020b565d0>"
      ]
     },
     "execution_count": 1344,
     "metadata": {},
     "output_type": "execute_result"
    },
    {
     "data": {
      "image/png": "[encoded data removed]",
      "text/plain": [
       "<Figure size 432x288 with 1 Axes>"
      ]
     },
     "metadata": {
      "needs_background": "light"
     },
     "output_type": "display_data"
    }
   ],
   "source": [
    "df.Fire.unique()\n",
    "#print(df['Fire'])\n",
    "print(df['Fire'].value_counts(dropna=False))\n",
    "df['Fire'] = pd.to_numeric(df['Fire'],errors='coerce')\n",
    "\n",
    "sns.boxplot('Fire', data = df)"
   ]
  },
  {
   "cell_type": "markdown",
   "metadata": {},
   "source": [
    "#### Exploratory Analysis for Point_of_flooding feature"
   ]
  },
  {
   "cell_type": "code",
   "execution_count": 1345,
   "metadata": {},
   "outputs": [
    {
     "name": "stdout",
     "output_type": "stream",
     "text": [
      "0.0       133\n",
      "1.0         3\n",
      "3.0         2\n",
      "7.0         1\n",
      "2000.0      1\n",
      "Name: Point_of_flooding, dtype: int64\n"
     ]
    },
    {
     "data": {
      "text/plain": [
       "<matplotlib.axes._subplots.AxesSubplot at 0x7fe020aac810>"
      ]
     },
     "execution_count": 1345,
     "metadata": {},
     "output_type": "execute_result"
    },
    {
     "data": {
      "image/png": "[encoded data removed]",
      "text/plain": [
       "<Figure size 432x288 with 1 Axes>"
      ]
     },
     "metadata": {
      "needs_background": "light"
     },
     "output_type": "display_data"
    }
   ],
   "source": [
    "df.Point_of_flooding.unique()\n",
    "print(df['Point_of_flooding'].value_counts(dropna=False))\n",
    "sns.boxplot('Point_of_flooding', data = df)"
   ]
  },
  {
   "cell_type": "markdown",
   "metadata": {},
   "source": [
    "#### Exploratory Analysis for Manifestations feature"
   ]
  },
  {
   "cell_type": "code",
   "execution_count": 1346,
   "metadata": {},
   "outputs": [
    {
     "name": "stdout",
     "output_type": "stream",
     "text": [
      " 0.0    133\n",
      " 1.0      6\n",
      "-1.0      1\n",
      "Name: Manifestations, dtype: int64\n",
      "0.0    133\n",
      "1.0      7\n",
      "Name: Manifestations, dtype: int64\n",
      "0.0    133\n",
      "1.0      7\n",
      "Name: Manifestations, dtype: int64\n"
     ]
    },
    {
     "data": {
      "text/plain": [
       "<matplotlib.axes._subplots.AxesSubplot at 0x7fe0b55ef590>"
      ]
     },
     "execution_count": 1346,
     "metadata": {},
     "output_type": "execute_result"
    },
    {
     "data": {
      "image/png": "[encoded data removed]",
      "text/plain": [
       "<Figure size 432x288 with 1 Axes>"
      ]
     },
     "metadata": {
      "needs_background": "light"
     },
     "output_type": "display_data"
    }
   ],
   "source": [
    "#print(df.Manifestations.unique())\n",
    "print(df['Manifestations'].value_counts(dropna=False))\n",
    "#df['Manifestations'].mode()\n",
    "\n",
    "df.loc[(df.Manifestations == -1.0),'Manifestations']=1.0\n",
    "print(df['Manifestations'].value_counts(dropna=False))\n",
    "\n",
    "df['Manifestations'] = pd.to_numeric(df['Manifestations'],errors='coerce')\n",
    "print(df['Manifestations'].value_counts(dropna=False))\n",
    "\n",
    "sns.boxplot('Manifestations', data = df)"
   ]
  },
  {
   "cell_type": "markdown",
   "metadata": {},
   "source": [
    "#### Exploratory Analysis for Defect_in_the_network_of_trolleybuses feature"
   ]
  },
  {
   "cell_type": "code",
   "execution_count": 1347,
   "metadata": {},
   "outputs": [
    {
     "name": "stdout",
     "output_type": "stream",
     "text": [
      " 0.0     118\n",
      " 1.0      17\n",
      "           2\n",
      " 3.0       1\n",
      " -8.0      1\n",
      " 2.0       1\n",
      "Name: Defect_in_the_network_of_trolleybuses, dtype: int64\n",
      "<bound method Series.mode of 0       0.0\n",
      "1       0.0\n",
      "2       0.0\n",
      "3       0.0\n",
      "4       0.0\n",
      "       ... \n",
      "135     1.0\n",
      "136        \n",
      "137     0.0\n",
      "138     0.0\n",
      "139     0.0\n",
      "Name: Defect_in_the_network_of_trolleybuses, Length: 140, dtype: object>\n",
      " 0.0    121\n",
      " 1.0     19\n",
      "Name: Defect_in_the_network_of_trolleybuses, dtype: int64\n",
      "0.0    121\n",
      "1.0     19\n",
      "Name: Defect_in_the_network_of_trolleybuses, dtype: int64\n"
     ]
    },
    {
     "data": {
      "text/plain": [
       "<matplotlib.axes._subplots.AxesSubplot at 0x7fe0a5401a90>"
      ]
     },
     "execution_count": 1347,
     "metadata": {},
     "output_type": "execute_result"
    },
    {
     "data": {
      "image/png": "[encoded data removed]",
      "text/plain": [
       "<Figure size 432x288 with 1 Axes>"
      ]
     },
     "metadata": {
      "needs_background": "light"
     },
     "output_type": "display_data"
    }
   ],
   "source": [
    "#print(df.Defect_in_the_network_of_trolleybuses.unique())\n",
    "print(df['Defect_in_the_network_of_trolleybuses'].value_counts(dropna=False))\n",
    "#Defect_in_the_network_of_trolleybuses feature has 118 occurances as 0.0 and 17 occurances as YES. 2 missing values\n",
    "#and 1 occurances of 3.0, -8.0 and 2.0. -8 can be considered as outlier.\n",
    "\n",
    "#This feature also looks categorical and we can represent it as 0.0, YES as 1.0, missing value is replaced with mode\n",
    "#0.0 is considered as NO and rest of the values as YES\n",
    "print(df['Defect_in_the_network_of_trolleybuses'].mode)\n",
    "\n",
    "df.loc[(df.Defect_in_the_network_of_trolleybuses == ' '),'Defect_in_the_network_of_trolleybuses']=' 0.0'\n",
    "df.loc[(df.Defect_in_the_network_of_trolleybuses == ' YES'),'Defect_in_the_network_of_trolleybuses']=' 1.0'\n",
    "df.loc[(df.Defect_in_the_network_of_trolleybuses == ' 2.0'),'Defect_in_the_network_of_trolleybuses']=' 1.0'\n",
    "df.loc[(df.Defect_in_the_network_of_trolleybuses == ' 3.0'),'Defect_in_the_network_of_trolleybuses']=' 1.0'\n",
    "#Replace outlier with mode \n",
    "df.loc[(df.Defect_in_the_network_of_trolleybuses == ' -8.0'),'Defect_in_the_network_of_trolleybuses']=' 0.0'\n",
    "print(df['Defect_in_the_network_of_trolleybuses'].value_counts(dropna=False))\n",
    "\n",
    "df['Defect_in_the_network_of_trolleybuses'] = pd.to_numeric(df['Defect_in_the_network_of_trolleybuses'],errors='coerce')\n",
    "print(df['Defect_in_the_network_of_trolleybuses'].value_counts(dropna=False))\n",
    "\n",
    "sns.boxplot('Defect_in_the_network_of_trolleybuses', data = df)"
   ]
  },
  {
   "cell_type": "markdown",
   "metadata": {},
   "source": [
    "#### Exploratory Analysis for  Tree_on_the_road feature"
   ]
  },
  {
   "cell_type": "code",
   "execution_count": 1348,
   "metadata": {},
   "outputs": [
    {
     "name": "stdout",
     "output_type": "stream",
     "text": [
      "0.0    134\n",
      "1.0      6\n",
      "Name: Tree_on_the_road, dtype: int64\n"
     ]
    },
    {
     "data": {
      "text/plain": [
       "<matplotlib.axes._subplots.AxesSubplot at 0x7fe1022950d0>"
      ]
     },
     "execution_count": 1348,
     "metadata": {},
     "output_type": "execute_result"
    },
    {
     "data": {
      "image/png": "[encoded data removed]",
      "text/plain": [
       "<Figure size 432x288 with 1 Axes>"
      ]
     },
     "metadata": {
      "needs_background": "light"
     },
     "output_type": "display_data"
    }
   ],
   "source": [
    "#print(df.Tree_on_the_road.unique())\n",
    "print(df['Tree_on_the_road'].value_counts(dropna=False))\n",
    "df['Tree_on_the_road'] = pd.to_numeric(df['Tree_on_the_road'],errors='coerce')\n",
    "#Tree_on_the_road feature has values 0 and 1 so it's categorical by nature and values are 0 and 1\n",
    "#so we dont need to create any new feature/s for this.\n",
    "\n",
    "sns.boxplot('Tree_on_the_road', data = df)"
   ]
  },
  {
   "cell_type": "markdown",
   "metadata": {},
   "source": [
    "#### Exploratory Analysis for Semaphore_off feature"
   ]
  },
  {
   "cell_type": "code",
   "execution_count": 1349,
   "metadata": {},
   "outputs": [
    {
     "name": "stdout",
     "output_type": "stream",
     "text": [
      " 0.0    125\n",
      " 1.0     12\n",
      "          1\n",
      " 2.0      1\n",
      " 4.0      1\n",
      "Name: Semaphore_off, dtype: int64\n"
     ]
    },
    {
     "data": {
      "text/plain": [
       "<matplotlib.axes._subplots.AxesSubplot at 0x7fe0f2473350>"
      ]
     },
     "execution_count": 1349,
     "metadata": {},
     "output_type": "execute_result"
    },
    {
     "data": {
      "image/png": "[encoded data removed]",
      "text/plain": [
       "<Figure size 432x288 with 1 Axes>"
      ]
     },
     "metadata": {
      "needs_background": "light"
     },
     "output_type": "display_data"
    }
   ],
   "source": [
    "#print(df.Semaphore_off.unique())\n",
    "print(df['Semaphore_off'].value_counts(dropna=False))\n",
    "#print(df['Semaphore_off'].mode())\n",
    "#Semaphore_off has 125 occurances on 0, 12 occurance of YES, 1 occurance of 2.0, 4.0 and 1 missing value. \n",
    "#The feature looks like categorical in nature if we consider 0.0 ~ N0, 1.0 ~ YES so we can replace missing value with \n",
    "#mode and convert it to numerical with 0.0 as 0.0 and rest of the values as 1.0 and we don't need to create any new \n",
    "#feature/column\n",
    "df.loc[(df.Semaphore_off == ' '),'Semaphore_off']=' 0.0'\n",
    "df.loc[(df.Semaphore_off == ' YES'),'Semaphore_off']=' 1.0'\n",
    "df.loc[(df.Semaphore_off == ' 2.0'),'Semaphore_off']=' 1.0'\n",
    "df.loc[(df.Semaphore_off == ' 4.0'),'Semaphore_off']=' 1.0'\n",
    "#print(df.Semaphore_off.unique())\n",
    "df['Semaphore_off'] = pd.to_numeric(df['Semaphore_off'],errors='coerce')\n",
    "#print(df.Semaphore_off.unique())\n",
    "\n",
    "sns.boxplot('Semaphore_off', data = df)"
   ]
  },
  {
   "cell_type": "markdown",
   "metadata": {},
   "source": [
    "#### Exploratory Analysis for Intermittent_Semaphore feature"
   ]
  },
  {
   "cell_type": "code",
   "execution_count": 1350,
   "metadata": {},
   "outputs": [
    {
     "name": "stdout",
     "output_type": "stream",
     "text": [
      "0.0    138\n",
      "1.0      2\n",
      "Name: Intermittent_Semaphore, dtype: int64\n"
     ]
    },
    {
     "data": {
      "text/plain": [
       "<matplotlib.axes._subplots.AxesSubplot at 0x7fe102c99390>"
      ]
     },
     "execution_count": 1350,
     "metadata": {},
     "output_type": "execute_result"
    },
    {
     "data": {
      "image/png": "[encoded data removed]",
      "text/plain": [
       "<Figure size 432x288 with 1 Axes>"
      ]
     },
     "metadata": {
      "needs_background": "light"
     },
     "output_type": "display_data"
    }
   ],
   "source": [
    "#print(df.Intermittent_Semaphore.unique())\n",
    "print(df['Intermittent_Semaphore'].value_counts(dropna=False))\n",
    "#Transform values to numeric values\n",
    "df['Intermittent_Semaphore'] = pd.to_numeric(df['Intermittent_Semaphore'],errors='coerce')\n",
    "#Intermittent_Semaphore feature has values 0 and 1 so it's categorical by nature and values are 0 and 1\n",
    "#so we dont need to create any new feature/s for this.\n",
    "\n",
    "sns.boxplot('Intermittent_Semaphore', data = df)"
   ]
  },
  {
   "cell_type": "markdown",
   "metadata": {},
   "source": [
    "### Frequency distribution of Slowness_in_traffic_percent"
   ]
  },
  {
   "cell_type": "code",
   "execution_count": 1362,
   "metadata": {},
   "outputs": [
    {
     "data": {
      "text/plain": [
       "<matplotlib.axes._subplots.AxesSubplot at 0x7fe020aa3590>"
      ]
     },
     "execution_count": 1362,
     "metadata": {},
     "output_type": "execute_result"
    },
    {
     "data": {
      "image/png": "[encoded data removed]",
      "text/plain": [
       "<Figure size 1080x360 with 3 Axes>"
      ]
     },
     "metadata": {
      "needs_background": "light"
     },
     "output_type": "display_data"
    }
   ],
   "source": [
    "plt.figure(figsize=(15,5))\n",
    "\n",
    "plt.subplot(1,3,1)\n",
    "sns.distplot(df['Slowness_in_traffic_percent']).set_title('Traffic Slowness Percent');\n",
    "\n",
    "plt.subplot(1,3,2)\n",
    "sns.distplot(df['Slowness_in_traffic_percent'], kde=False, rug=True).set_title('Traffic Slowness Percent');\n",
    "\n",
    "plt.subplot(1,3,3)\n",
    "plt.title('Traffic Slowness Percent')\n",
    "sns.boxplot(y=df['Slowness_in_traffic_percent'])"
   ]
  },
  {
   "cell_type": "code",
   "execution_count": 1363,
   "metadata": {},
   "outputs": [
    {
     "name": "stdout",
     "output_type": "stream",
     "text": [
      "count     140\n",
      "unique      5\n",
      "top         1\n",
      "freq       68\n",
      "Name: Slowness_in_traffic_percent, dtype: int64\n"
     ]
    }
   ],
   "source": [
    "print(df.Slowness_in_traffic_percent.describe(percentiles = [0.25,0.50,0.75,0.85,0.90,1]))"
   ]
  },
  {
   "cell_type": "markdown",
   "metadata": {},
   "source": [
    "# Feature Subset Selection"
   ]
  },
  {
   "cell_type": "code",
   "execution_count": 1351,
   "metadata": {},
   "outputs": [
    {
     "data": {
      "image/png": "[encoded data removed]",
      "text/plain": [
       "<Figure size 2160x1800 with 2 Axes>"
      ]
     },
     "metadata": {
      "needs_background": "light"
     },
     "output_type": "display_data"
    }
   ],
   "source": [
    "plt.figure(figsize = (30, 25))\n",
    "sns.heatmap(df.corr(), annot = True, cmap=\"YlGnBu\")\n",
    "plt.show()"
   ]
  },
  {
   "cell_type": "markdown",
   "metadata": {},
   "source": [
    "###### Hour, Lack_of_electricity, Semaphore_off, Fire_vehicles are some of the important features. "
   ]
  },
  {
   "cell_type": "markdown",
   "metadata": {},
   "source": [
    "### Important Features"
   ]
  },
  {
   "cell_type": "code",
   "execution_count": 1395,
   "metadata": {},
   "outputs": [],
   "source": [
    "def show_top_univariate_filters(data, score_func, top_k):\n",
    "    X = data.iloc[:,0:16]  #independent columns\n",
    "    y = data.iloc[:,-1]    #target column i.e price range\n",
    "\n",
    "    if score_func == \"chi2\":\n",
    "        func = chi2\n",
    "    elif score_func == \"f_classif\":\n",
    "        func = f_classif\n",
    "    elif score_func == \"mutual_info_classif\":\n",
    "        func = mutual_info_classif\n",
    "    \n",
    "    #apply SelectKBest class to extract top k best features\n",
    "    bestfeatures = SelectKBest(score_func=func, k=top_k)\n",
    "    fit = bestfeatures.fit(X,y)\n",
    "\n",
    "    dfscores = pd.DataFrame(fit.scores_)\n",
    "    dfcolumns = pd.DataFrame(X.columns)\n",
    "\n",
    "    #concat two dataframes for better visualization \n",
    "    featureScores = pd.concat([dfcolumns,dfscores],axis=1)\n",
    "    featureScores.columns = ['Specs','Score']  #naming the dataframe columns\n",
    "    print(featureScores.nlargest(top_k,'Score'))  #print 10 best features"
   ]
  },
  {
   "cell_type": "code",
   "execution_count": 1396,
   "metadata": {},
   "outputs": [],
   "source": [
    "df['Slowness_in_traffic_percent'] = pd.cut(df2.Slowness_in_traffic_percent, bins=5, labels=np.arange(5), right=False)\n"
   ]
  },
  {
   "cell_type": "code",
   "execution_count": 1397,
   "metadata": {},
   "outputs": [
    {
     "name": "stdout",
     "output_type": "stream",
     "text": [
      "                  Specs        Score\n",
      "11    Point_of_flooding  5922.743734\n",
      "0                  Hour   296.823094\n",
      "9   Lack_of_electricity    29.855108\n",
      "15        Semaphore_off    12.640023\n",
      "6         Fire_vehicles    11.727273\n"
     ]
    }
   ],
   "source": [
    "show_top_univariate_filters(df, 'chi2', 5)"
   ]
  },
  {
   "cell_type": "code",
   "execution_count": 1367,
   "metadata": {},
   "outputs": [
    {
     "name": "stdout",
     "output_type": "stream",
     "text": [
      "                           Specs      Score\n",
      "0                           Hour  33.371781\n",
      "9            Lack_of_electricity  10.061521\n",
      "15                 Semaphore_off   3.763240\n",
      "6                  Fire_vehicles   3.109821\n",
      "7   Occurrence_involving_freight   1.620536\n"
     ]
    }
   ],
   "source": [
    "show_top_univariate_filters(df, 'f_classif', 5)"
   ]
  },
  {
   "cell_type": "markdown",
   "metadata": {},
   "source": [
    "# Model building"
   ]
  },
  {
   "cell_type": "code",
   "execution_count": 1368,
   "metadata": {},
   "outputs": [],
   "source": [
    "from sklearn.tree import DecisionTreeClassifier\n",
    "from sklearn.metrics import classification_report \n",
    "from sklearn.metrics import accuracy_score\n",
    "from sklearn.metrics import confusion_matrix"
   ]
  },
  {
   "cell_type": "code",
   "execution_count": 1383,
   "metadata": {},
   "outputs": [],
   "source": [
    "def prepare_decision_tree(data, show_matrix=False, show_accuracy=True, show_report=False, show_visual=False):\n",
    "    # Split the data into independent and target attributes\n",
    "    col_length = len(data.columns)\n",
    "    X = data.iloc[:,0:col_length - 1]  #independent columns\n",
    "    y = data.iloc[:,-1]    #target column i.e price range\n",
    "\n",
    "    #Split the data into training and testing set\n",
    "    from sklearn.model_selection import train_test_split\n",
    "    X_train, X_test, y_train, y_test = train_test_split(X,y, test_size =0.3)\n",
    "    \n",
    "    #Construct decision tree\n",
    "    dt = DecisionTreeClassifier(random_state=100)\n",
    "    dt.fit(X_train, y_train)\n",
    "\n",
    "    #Use the decision tree for prediction on test data\n",
    "    y_pred = dt.predict(X_test)\n",
    "    \n",
    "    #Prepare the confusion matrix\n",
    "    actuals = np.array(y_test)\n",
    "    predictions = np.array(y_pred)\n",
    "    \n",
    "    if show_matrix:\n",
    "        print(\"Confusion Matrix : \")\n",
    "        print(confusion_matrix(actuals, predictions), \"\\n\")\n",
    "\n",
    "    #Compute accuracy \n",
    "    if show_accuracy:\n",
    "        print (\"Accuracy : \", accuracy_score(y_test,y_pred)*100, \"\\n\") \n",
    "\n",
    "    #Generate classification report\n",
    "    if show_report:\n",
    "        print(\"Classification Report : \\n\", classification_report(y_test, y_pred), \"\\n\") \n",
    "\n",
    "    #Show the important features visually\n",
    "    if show_visual:\n",
    "        importances=pd.Series(dt.feature_importances_, index=X.columns).sort_values()\n",
    "        importances.plot(kind='barh', figsize=(12,8))\n",
    "    \n",
    "    return dt"
   ]
  },
  {
   "cell_type": "code",
   "execution_count": 1384,
   "metadata": {},
   "outputs": [
    {
     "name": "stdout",
     "output_type": "stream",
     "text": [
      "Accuracy :  52.38095238095239 \n",
      "\n"
     ]
    },
    {
     "data": {
      "text/plain": [
       "DecisionTreeClassifier(class_weight=None, criterion='gini', max_depth=None,\n",
       "                       max_features=None, max_leaf_nodes=None,\n",
       "                       min_impurity_decrease=0.0, min_impurity_split=None,\n",
       "                       min_samples_leaf=1, min_samples_split=2,\n",
       "                       min_weight_fraction_leaf=0.0, presort=False,\n",
       "                       random_state=100, splitter='best')"
      ]
     },
     "execution_count": 1384,
     "metadata": {},
     "output_type": "execute_result"
    }
   ],
   "source": [
    "prepare_decision_tree(df)"
   ]
  },
  {
   "cell_type": "code",
   "execution_count": 1385,
   "metadata": {},
   "outputs": [
    {
     "name": "stdout",
     "output_type": "stream",
     "text": [
      "Confusion Matrix : \n",
      "[[ 4  8  0  0  0]\n",
      " [ 2 16  1  1  0]\n",
      " [ 0  3  3  1  1]\n",
      " [ 0  1  0  0  0]\n",
      " [ 0  0  0  0  1]] \n",
      "\n",
      "Accuracy :  57.14285714285714 \n",
      "\n",
      "Classification Report : \n",
      "               precision    recall  f1-score   support\n",
      "\n",
      "           0       0.67      0.33      0.44        12\n",
      "           1       0.57      0.80      0.67        20\n",
      "           2       0.75      0.38      0.50         8\n",
      "           3       0.00      0.00      0.00         1\n",
      "           4       0.50      1.00      0.67         1\n",
      "\n",
      "    accuracy                           0.57        42\n",
      "   macro avg       0.50      0.50      0.46        42\n",
      "weighted avg       0.62      0.57      0.56        42\n",
      " \n",
      "\n"
     ]
    },
    {
     "data": {
      "text/plain": [
       "DecisionTreeClassifier(class_weight=None, criterion='gini', max_depth=None,\n",
       "                       max_features=None, max_leaf_nodes=None,\n",
       "                       min_impurity_decrease=0.0, min_impurity_split=None,\n",
       "                       min_samples_leaf=1, min_samples_split=2,\n",
       "                       min_weight_fraction_leaf=0.0, presort=False,\n",
       "                       random_state=100, splitter='best')"
      ]
     },
     "execution_count": 1385,
     "metadata": {},
     "output_type": "execute_result"
    },
    {
     "data": {
      "image/png": "[encoded data removed]",
      "text/plain": [
       "<Figure size 864x576 with 1 Axes>"
      ]
     },
     "metadata": {
      "needs_background": "light"
     },
     "output_type": "display_data"
    }
   ],
   "source": [
    "prepare_decision_tree(df, True, True, True, True)"
   ]
  },
  {
   "cell_type": "markdown",
   "metadata": {},
   "source": [
    "## RFE"
   ]
  },
  {
   "cell_type": "code",
   "execution_count": 1386,
   "metadata": {},
   "outputs": [],
   "source": [
    "from sklearn.feature_selection import RFE"
   ]
  },
  {
   "cell_type": "code",
   "execution_count": 1392,
   "metadata": {},
   "outputs": [],
   "source": [
    "def get_top_k_features_by_rfe(data, dt, top_k, show_results=True):\n",
    "    #Preprare the independant and target attributes\n",
    "    col_length = len(data.columns)\n",
    "    X = data.iloc[:,0:col_length-1]  #independent columns\n",
    "    y = data.iloc[:,-1]    #target column i.e price range\n",
    "\n",
    "    #Initializing RFE model\n",
    "    rfe = RFE(dt, top_k)\n",
    "\n",
    "    #Transforming data using RFE\n",
    "    X_rfe = rfe.fit_transform(X,y)  \n",
    "    \n",
    "    #Fitting the data to model\n",
    "    model = dt.fit(X_rfe,y)\n",
    "    \n",
    "    #Prepare top k feature list \n",
    "    indx= 0 \n",
    "    feature_list = []\n",
    "    for col in X.columns:\n",
    "        if rfe.ranking_[indx] == 1:\n",
    "            feature_list.append(col)\n",
    "        indx = indx + 1\n",
    "    \n",
    "    if show_results:\n",
    "        print(\"Num Features: %d\\n\" % rfe.n_features_)\n",
    "        print(\"Selected Features :\" , feature_list)\n",
    "        #print(\"Feature Ranking: %s\" % rfe.ranking_)  \n",
    "\n",
    "    return feature_list"
   ]
  },
  {
   "cell_type": "code",
   "execution_count": 1393,
   "metadata": {},
   "outputs": [
    {
     "name": "stdout",
     "output_type": "stream",
     "text": [
      "Accuracy :  69.04761904761905 \n",
      "\n"
     ]
    }
   ],
   "source": [
    "dt = prepare_decision_tree(df, show_visual = False) "
   ]
  },
  {
   "cell_type": "code",
   "execution_count": 1394,
   "metadata": {},
   "outputs": [
    {
     "name": "stdout",
     "output_type": "stream",
     "text": [
      "Num Features: 5\n",
      "\n",
      "Selected Features : ['Hour', 'Broken_Truck', 'Accident_victim', 'Running_over', 'Point_of_flooding']\n"
     ]
    },
    {
     "data": {
      "text/plain": [
       "['Hour',\n",
       " 'Broken_Truck',\n",
       " 'Accident_victim',\n",
       " 'Running_over',\n",
       " 'Point_of_flooding']"
      ]
     },
     "execution_count": 1394,
     "metadata": {},
     "output_type": "execute_result"
    }
   ],
   "source": [
    "get_top_k_features_by_rfe(df, dt, 5, show_results=True)"
   ]
  },
  {
   "cell_type": "code",
   "execution_count": null,
   "metadata": {},
   "outputs": [],
   "source": []
  }
 ],
 "metadata": {
  "kernelspec": {
   "display_name": "Python 3",
   "language": "python",
   "name": "python3"
  },
  "language_info": {
   "codemirror_mode": {
    "name": "ipython",
    "version": 3
   },
   "file_extension": ".py",
   "mimetype": "text/x-python",
   "name": "python",
   "nbconvert_exporter": "python",
   "pygments_lexer": "ipython3",
   "version": "3.7.4"
  }
 },
 "nbformat": 4,
 "nbformat_minor": 2
}
