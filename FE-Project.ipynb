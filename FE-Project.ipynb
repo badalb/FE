{
 "cells": [
  {
   "cell_type": "markdown",
   "metadata": {},
   "source": [
    "# Import all dependencies and libraries"
   ]
  },
  {
   "cell_type": "code",
   "execution_count": 558,
   "metadata": {},
   "outputs": [],
   "source": [
    "%matplotlib inline\n",
    "import matplotlib.pyplot as plt\n",
    "import seaborn as sns\n",
    "import numpy as np"
   ]
  },
  {
   "cell_type": "markdown",
   "metadata": {},
   "source": [
    "# Transform source data to csv"
   ]
  },
  {
   "cell_type": "code",
   "execution_count": 559,
   "metadata": {},
   "outputs": [],
   "source": [
    "# Importing library\n",
    "import os\n",
    "\n",
    "# Getting all the arff files from the current directory\n",
    "files = [arff for arff in os.listdir('.') if arff.endswith(\".arff\")]\n",
    "\n",
    "# Function for converting arff list to csv list\n",
    "def toCsv(content):\n",
    "    data = False\n",
    "    header = \"\"\n",
    "    newContent = []\n",
    "    for line in content:\n",
    "        if not data:\n",
    "            if \"@attribute\" in line:\n",
    "                attri = line.split()\n",
    "                columnName = attri[attri.index(\"@attribute\")+1]\n",
    "                header = header + columnName + \",\"\n",
    "            elif \"@data\" in line:\n",
    "                data = True\n",
    "                header = header[:-1]\n",
    "                header += '\\n'\n",
    "                newContent.append(header)\n",
    "        else:\n",
    "            newContent.append(line)\n",
    "    return newContent\n",
    "\n",
    "# Main loop for reading and writing files\n",
    "for file in files:\n",
    "    with open(file , \"r\") as inFile:\n",
    "        content = inFile.readlines()\n",
    "        name,ext = os.path.splitext(inFile.name)\n",
    "        new = toCsv(content)\n",
    "        with open(name+\".csv\", \"w\") as outFile:\n",
    "            outFile.writelines(new)"
   ]
  },
  {
   "cell_type": "markdown",
   "metadata": {},
   "source": [
    "# Import data visualize data"
   ]
  },
  {
   "cell_type": "code",
   "execution_count": 560,
   "metadata": {},
   "outputs": [],
   "source": [
    "import pandas as pd \n",
    "df = pd.read_csv(\"Behavior of the urban traffic - modified.csv\") "
   ]
  },
  {
   "cell_type": "code",
   "execution_count": 561,
   "metadata": {},
   "outputs": [
    {
     "data": {
      "text/html": [
       "<div>\n",
       "<style scoped>\n",
       "    .dataframe tbody tr th:only-of-type {\n",
       "        vertical-align: middle;\n",
       "    }\n",
       "\n",
       "    .dataframe tbody tr th {\n",
       "        vertical-align: top;\n",
       "    }\n",
       "\n",
       "    .dataframe thead th {\n",
       "        text-align: right;\n",
       "    }\n",
       "</style>\n",
       "<table border=\"1\" class=\"dataframe\">\n",
       "  <thead>\n",
       "    <tr style=\"text-align: right;\">\n",
       "      <th></th>\n",
       "      <th>Hour</th>\n",
       "      <th>Immobilized_bus</th>\n",
       "      <th>Broken_Truck</th>\n",
       "      <th>Vehicle_excess</th>\n",
       "      <th>Accident_victim</th>\n",
       "      <th>Running_over</th>\n",
       "      <th>Fire_vehicles</th>\n",
       "      <th>Occurrence_involving_freight</th>\n",
       "      <th>Incident_involving_dangerous_freight</th>\n",
       "      <th>Lack_of_electricity</th>\n",
       "      <th>Fire</th>\n",
       "      <th>Point_of_flooding</th>\n",
       "      <th>Manifestations</th>\n",
       "      <th>Defect_in_the_network_of_trolleybuses</th>\n",
       "      <th>Tree_on_the_road</th>\n",
       "      <th>Semaphore_off</th>\n",
       "      <th>Intermittent_Semaphore</th>\n",
       "      <th>Slowness_in_traffic_percent</th>\n",
       "    </tr>\n",
       "  </thead>\n",
       "  <tbody>\n",
       "    <tr>\n",
       "      <th>0</th>\n",
       "      <td>7:00</td>\n",
       "      <td>0.0</td>\n",
       "      <td>0.0</td>\n",
       "      <td>T</td>\n",
       "      <td>0.0</td>\n",
       "      <td>0.0</td>\n",
       "      <td>NO</td>\n",
       "      <td>0.0</td>\n",
       "      <td>0.0</td>\n",
       "      <td>0.0</td>\n",
       "      <td>0.0</td>\n",
       "      <td>0.0</td>\n",
       "      <td>0.0</td>\n",
       "      <td>0.0</td>\n",
       "      <td>0.0</td>\n",
       "      <td>0.0</td>\n",
       "      <td>0.0</td>\n",
       "      <td>4.1</td>\n",
       "    </tr>\n",
       "    <tr>\n",
       "      <th>1</th>\n",
       "      <td>7:30</td>\n",
       "      <td>0.0</td>\n",
       "      <td>0.0</td>\n",
       "      <td>F</td>\n",
       "      <td>0.0</td>\n",
       "      <td>0.0</td>\n",
       "      <td>NO</td>\n",
       "      <td>0.0</td>\n",
       "      <td>0.0</td>\n",
       "      <td>0.0</td>\n",
       "      <td>0.0</td>\n",
       "      <td>0.0</td>\n",
       "      <td>0.0</td>\n",
       "      <td>0.0</td>\n",
       "      <td>0.0</td>\n",
       "      <td>0.0</td>\n",
       "      <td>0.0</td>\n",
       "      <td>6.6</td>\n",
       "    </tr>\n",
       "    <tr>\n",
       "      <th>2</th>\n",
       "      <td>8:00</td>\n",
       "      <td>0.0</td>\n",
       "      <td>0.0</td>\n",
       "      <td>F</td>\n",
       "      <td>0.0</td>\n",
       "      <td>0.0</td>\n",
       "      <td>NO</td>\n",
       "      <td>0.0</td>\n",
       "      <td>0.0</td>\n",
       "      <td>0.0</td>\n",
       "      <td>0.0</td>\n",
       "      <td>0.0</td>\n",
       "      <td>0.0</td>\n",
       "      <td>0.0</td>\n",
       "      <td>0.0</td>\n",
       "      <td>0.0</td>\n",
       "      <td>0.0</td>\n",
       "      <td>8.7</td>\n",
       "    </tr>\n",
       "    <tr>\n",
       "      <th>3</th>\n",
       "      <td>8:30</td>\n",
       "      <td>0.0</td>\n",
       "      <td>0.0</td>\n",
       "      <td>F</td>\n",
       "      <td>0.0</td>\n",
       "      <td>0.0</td>\n",
       "      <td>NO</td>\n",
       "      <td>0.0</td>\n",
       "      <td>0.0</td>\n",
       "      <td>0.0</td>\n",
       "      <td>0.0</td>\n",
       "      <td>0.0</td>\n",
       "      <td>0.0</td>\n",
       "      <td>0.0</td>\n",
       "      <td>0.0</td>\n",
       "      <td>0.0</td>\n",
       "      <td>0.0</td>\n",
       "      <td>9.2</td>\n",
       "    </tr>\n",
       "    <tr>\n",
       "      <th>4</th>\n",
       "      <td>9:00</td>\n",
       "      <td>0.0</td>\n",
       "      <td>0.0</td>\n",
       "      <td>F</td>\n",
       "      <td>0.0</td>\n",
       "      <td>0.0</td>\n",
       "      <td>NO</td>\n",
       "      <td>0.0</td>\n",
       "      <td>0.0</td>\n",
       "      <td>0.0</td>\n",
       "      <td>0.0</td>\n",
       "      <td>0.0</td>\n",
       "      <td>0.0</td>\n",
       "      <td>0.0</td>\n",
       "      <td>0.0</td>\n",
       "      <td>0.0</td>\n",
       "      <td>0.0</td>\n",
       "      <td>11.1</td>\n",
       "    </tr>\n",
       "  </tbody>\n",
       "</table>\n",
       "</div>"
      ],
      "text/plain": [
       "   Hour  Immobilized_bus  Broken_Truck Vehicle_excess Accident_victim  \\\n",
       "0  7:00              0.0           0.0              T             0.0   \n",
       "1  7:30              0.0           0.0              F             0.0   \n",
       "2  8:00              0.0           0.0              F             0.0   \n",
       "3  8:30              0.0           0.0              F             0.0   \n",
       "4  9:00              0.0           0.0              F             0.0   \n",
       "\n",
       "  Running_over Fire_vehicles  Occurrence_involving_freight  \\\n",
       "0          0.0            NO                           0.0   \n",
       "1          0.0            NO                           0.0   \n",
       "2          0.0            NO                           0.0   \n",
       "3          0.0            NO                           0.0   \n",
       "4          0.0            NO                           0.0   \n",
       "\n",
       "  Incident_involving_dangerous_freight  Lack_of_electricity  Fire  \\\n",
       "0                                  0.0                  0.0   0.0   \n",
       "1                                  0.0                  0.0   0.0   \n",
       "2                                  0.0                  0.0   0.0   \n",
       "3                                  0.0                  0.0   0.0   \n",
       "4                                  0.0                  0.0   0.0   \n",
       "\n",
       "   Point_of_flooding  Manifestations Defect_in_the_network_of_trolleybuses  \\\n",
       "0                0.0             0.0                                   0.0   \n",
       "1                0.0             0.0                                   0.0   \n",
       "2                0.0             0.0                                   0.0   \n",
       "3                0.0             0.0                                   0.0   \n",
       "4                0.0             0.0                                   0.0   \n",
       "\n",
       "   Tree_on_the_road Semaphore_off  Intermittent_Semaphore  \\\n",
       "0               0.0           0.0                     0.0   \n",
       "1               0.0           0.0                     0.0   \n",
       "2               0.0           0.0                     0.0   \n",
       "3               0.0           0.0                     0.0   \n",
       "4               0.0           0.0                     0.0   \n",
       "\n",
       "   Slowness_in_traffic_percent  \n",
       "0                          4.1  \n",
       "1                          6.6  \n",
       "2                          8.7  \n",
       "3                          9.2  \n",
       "4                         11.1  "
      ]
     },
     "execution_count": 561,
     "metadata": {},
     "output_type": "execute_result"
    }
   ],
   "source": [
    "df.head()"
   ]
  },
  {
   "cell_type": "code",
   "execution_count": 562,
   "metadata": {},
   "outputs": [
    {
     "data": {
      "text/html": [
       "<div>\n",
       "<style scoped>\n",
       "    .dataframe tbody tr th:only-of-type {\n",
       "        vertical-align: middle;\n",
       "    }\n",
       "\n",
       "    .dataframe tbody tr th {\n",
       "        vertical-align: top;\n",
       "    }\n",
       "\n",
       "    .dataframe thead th {\n",
       "        text-align: right;\n",
       "    }\n",
       "</style>\n",
       "<table border=\"1\" class=\"dataframe\">\n",
       "  <thead>\n",
       "    <tr style=\"text-align: right;\">\n",
       "      <th></th>\n",
       "      <th>Hour</th>\n",
       "      <th>Immobilized_bus</th>\n",
       "      <th>Broken_Truck</th>\n",
       "      <th>Vehicle_excess</th>\n",
       "      <th>Accident_victim</th>\n",
       "      <th>Running_over</th>\n",
       "      <th>Fire_vehicles</th>\n",
       "      <th>Occurrence_involving_freight</th>\n",
       "      <th>Incident_involving_dangerous_freight</th>\n",
       "      <th>Lack_of_electricity</th>\n",
       "      <th>Fire</th>\n",
       "      <th>Point_of_flooding</th>\n",
       "      <th>Manifestations</th>\n",
       "      <th>Defect_in_the_network_of_trolleybuses</th>\n",
       "      <th>Tree_on_the_road</th>\n",
       "      <th>Semaphore_off</th>\n",
       "      <th>Intermittent_Semaphore</th>\n",
       "      <th>Slowness_in_traffic_percent</th>\n",
       "    </tr>\n",
       "  </thead>\n",
       "  <tbody>\n",
       "    <tr>\n",
       "      <th>135</th>\n",
       "      <td>18:00</td>\n",
       "      <td>1.0</td>\n",
       "      <td>0.0</td>\n",
       "      <td>F</td>\n",
       "      <td>0.0</td>\n",
       "      <td>1.0</td>\n",
       "      <td>NO</td>\n",
       "      <td>0.0</td>\n",
       "      <td>0.0</td>\n",
       "      <td>0.0</td>\n",
       "      <td>0.0</td>\n",
       "      <td>0.0</td>\n",
       "      <td>0.0</td>\n",
       "      <td>1.0</td>\n",
       "      <td>0.0</td>\n",
       "      <td>0.0</td>\n",
       "      <td>0.0</td>\n",
       "      <td>17.8</td>\n",
       "    </tr>\n",
       "    <tr>\n",
       "      <th>136</th>\n",
       "      <td>18:30</td>\n",
       "      <td>0.0</td>\n",
       "      <td>0.0</td>\n",
       "      <td>F</td>\n",
       "      <td>2.0</td>\n",
       "      <td>0.0</td>\n",
       "      <td>NO</td>\n",
       "      <td>0.0</td>\n",
       "      <td>0.0</td>\n",
       "      <td>0.0</td>\n",
       "      <td>0.0</td>\n",
       "      <td>0.0</td>\n",
       "      <td>0.0</td>\n",
       "      <td></td>\n",
       "      <td>0.0</td>\n",
       "      <td>0.0</td>\n",
       "      <td>0.0</td>\n",
       "      <td>18.1</td>\n",
       "    </tr>\n",
       "    <tr>\n",
       "      <th>137</th>\n",
       "      <td>19:00</td>\n",
       "      <td>1.0</td>\n",
       "      <td>0.0</td>\n",
       "      <td>F</td>\n",
       "      <td>2.0</td>\n",
       "      <td>0.0</td>\n",
       "      <td>NO</td>\n",
       "      <td>0.0</td>\n",
       "      <td>0.0</td>\n",
       "      <td>0.0</td>\n",
       "      <td>0.0</td>\n",
       "      <td>0.0</td>\n",
       "      <td>0.0</td>\n",
       "      <td>0.0</td>\n",
       "      <td>0.0</td>\n",
       "      <td></td>\n",
       "      <td>0.0</td>\n",
       "      <td>17.7</td>\n",
       "    </tr>\n",
       "    <tr>\n",
       "      <th>138</th>\n",
       "      <td>19:30</td>\n",
       "      <td>0.0</td>\n",
       "      <td>4.0</td>\n",
       "      <td>F</td>\n",
       "      <td></td>\n",
       "      <td>0.0</td>\n",
       "      <td>NO</td>\n",
       "      <td>0.0</td>\n",
       "      <td>0.0</td>\n",
       "      <td>0.0</td>\n",
       "      <td>0.0</td>\n",
       "      <td>0.0</td>\n",
       "      <td>1.0</td>\n",
       "      <td>0.0</td>\n",
       "      <td>0.0</td>\n",
       "      <td>1.0</td>\n",
       "      <td>0.0</td>\n",
       "      <td>17.4</td>\n",
       "    </tr>\n",
       "    <tr>\n",
       "      <th>139</th>\n",
       "      <td>20:00</td>\n",
       "      <td>0.0</td>\n",
       "      <td>0.0</td>\n",
       "      <td>F</td>\n",
       "      <td>0.0</td>\n",
       "      <td>0.0</td>\n",
       "      <td>NO</td>\n",
       "      <td>0.0</td>\n",
       "      <td>0.0</td>\n",
       "      <td>0.0</td>\n",
       "      <td>0.0</td>\n",
       "      <td>0.0</td>\n",
       "      <td>0.0</td>\n",
       "      <td>0.0</td>\n",
       "      <td>0.0</td>\n",
       "      <td>0.0</td>\n",
       "      <td>0.0</td>\n",
       "      <td>12.1</td>\n",
       "    </tr>\n",
       "  </tbody>\n",
       "</table>\n",
       "</div>"
      ],
      "text/plain": [
       "      Hour  Immobilized_bus  Broken_Truck Vehicle_excess Accident_victim  \\\n",
       "135  18:00              1.0           0.0              F             0.0   \n",
       "136  18:30              0.0           0.0              F             2.0   \n",
       "137  19:00              1.0           0.0              F             2.0   \n",
       "138  19:30              0.0           4.0              F                   \n",
       "139  20:00              0.0           0.0              F             0.0   \n",
       "\n",
       "    Running_over Fire_vehicles  Occurrence_involving_freight  \\\n",
       "135          1.0            NO                           0.0   \n",
       "136          0.0            NO                           0.0   \n",
       "137          0.0            NO                           0.0   \n",
       "138          0.0            NO                           0.0   \n",
       "139          0.0            NO                           0.0   \n",
       "\n",
       "    Incident_involving_dangerous_freight  Lack_of_electricity  Fire  \\\n",
       "135                                  0.0                  0.0   0.0   \n",
       "136                                  0.0                  0.0   0.0   \n",
       "137                                  0.0                  0.0   0.0   \n",
       "138                                  0.0                  0.0   0.0   \n",
       "139                                  0.0                  0.0   0.0   \n",
       "\n",
       "     Point_of_flooding  Manifestations Defect_in_the_network_of_trolleybuses  \\\n",
       "135                0.0             0.0                                   1.0   \n",
       "136                0.0             0.0                                         \n",
       "137                0.0             0.0                                   0.0   \n",
       "138                0.0             1.0                                   0.0   \n",
       "139                0.0             0.0                                   0.0   \n",
       "\n",
       "     Tree_on_the_road Semaphore_off  Intermittent_Semaphore  \\\n",
       "135               0.0           0.0                     0.0   \n",
       "136               0.0           0.0                     0.0   \n",
       "137               0.0                                   0.0   \n",
       "138               0.0           1.0                     0.0   \n",
       "139               0.0           0.0                     0.0   \n",
       "\n",
       "     Slowness_in_traffic_percent  \n",
       "135                         17.8  \n",
       "136                         18.1  \n",
       "137                         17.7  \n",
       "138                         17.4  \n",
       "139                         12.1  "
      ]
     },
     "execution_count": 562,
     "metadata": {},
     "output_type": "execute_result"
    }
   ],
   "source": [
    "df.tail()"
   ]
  },
  {
   "cell_type": "code",
   "execution_count": 563,
   "metadata": {},
   "outputs": [
    {
     "data": {
      "text/plain": [
       "(140, 18)"
      ]
     },
     "execution_count": 563,
     "metadata": {},
     "output_type": "execute_result"
    }
   ],
   "source": [
    "df.shape"
   ]
  },
  {
   "cell_type": "code",
   "execution_count": 564,
   "metadata": {},
   "outputs": [
    {
     "data": {
      "text/plain": [
       "Hour                                      object\n",
       "Immobilized_bus                          float64\n",
       "Broken_Truck                             float64\n",
       "Vehicle_excess                            object\n",
       "Accident_victim                           object\n",
       "Running_over                              object\n",
       "Fire_vehicles                             object\n",
       "Occurrence_involving_freight             float64\n",
       "Incident_involving_dangerous_freight      object\n",
       "Lack_of_electricity                      float64\n",
       "Fire                                     float64\n",
       "Point_of_flooding                        float64\n",
       "Manifestations                           float64\n",
       "Defect_in_the_network_of_trolleybuses     object\n",
       "Tree_on_the_road                         float64\n",
       "Semaphore_off                             object\n",
       "Intermittent_Semaphore                   float64\n",
       "Slowness_in_traffic_percent              float64\n",
       "dtype: object"
      ]
     },
     "execution_count": 564,
     "metadata": {},
     "output_type": "execute_result"
    }
   ],
   "source": [
    "df.dtypes"
   ]
  },
  {
   "cell_type": "markdown",
   "metadata": {},
   "source": [
    "# Data Cleansing "
   ]
  },
  {
   "cell_type": "markdown",
   "metadata": {},
   "source": [
    "Check unique values for the given column to understand nature of data (Categorical/Numerical) and missing/empty rows, NA values etc. We will try to fill missing/empty/NA values discard rows and create columns for categorical variables."
   ]
  },
  {
   "cell_type": "markdown",
   "metadata": {},
   "source": [
    "#### Exploratory Analysis for Hour"
   ]
  },
  {
   "cell_type": "code",
   "execution_count": 565,
   "metadata": {},
   "outputs": [
    {
     "name": "stdout",
     "output_type": "stream",
     "text": [
      "['7:00' '7:30' '8:00' '8:30' '9:00' '9:30' '10:00' '10:30' '11:00' '11:30'\n",
      " '12:00' '12:30' '13:00' '13:30' '14:00' '14:30' '15:00' '15:30' '16:00'\n",
      " '16:30' '17:00' '17:30' '18:00' '18:30' '19:00' '19:30' '20:00']\n"
     ]
    }
   ],
   "source": [
    "print(df.Hour.unique())"
   ]
  },
  {
   "cell_type": "code",
   "execution_count": 566,
   "metadata": {},
   "outputs": [
    {
     "name": "stdout",
     "output_type": "stream",
     "text": [
      "0\n",
      "False\n"
     ]
    }
   ],
   "source": [
    "print(df['Hour'].isnull().sum())\n",
    "print(df['Hour'].empty)"
   ]
  },
  {
   "cell_type": "markdown",
   "metadata": {},
   "source": [
    "#### Exploratory Analysis for Immobilized_bus feature"
   ]
  },
  {
   "cell_type": "code",
   "execution_count": 567,
   "metadata": {},
   "outputs": [
    {
     "name": "stdout",
     "output_type": "stream",
     "text": [
      "[0. 2. 1. 4.]\n",
      "0.0    104\n",
      "1.0     27\n",
      "2.0      8\n",
      "4.0      1\n",
      "Name: Immobilized_bus, dtype: int64\n"
     ]
    }
   ],
   "source": [
    "print(df.Immobilized_bus.unique())\n",
    "print(df['Immobilized_bus'].value_counts(dropna=False))"
   ]
  },
  {
   "cell_type": "code",
   "execution_count": 568,
   "metadata": {
    "scrolled": true
   },
   "outputs": [
    {
     "data": {
      "text/plain": [
       "<matplotlib.axes._subplots.AxesSubplot at 0x7fe0b102fa90>"
      ]
     },
     "execution_count": 568,
     "metadata": {},
     "output_type": "execute_result"
    },
    {
     "data": {
      "image/png": "[encoded data removed]",
      "text/plain": [
       "<Figure size 432x288 with 1 Axes>"
      ]
     },
     "metadata": {
      "needs_background": "light"
     },
     "output_type": "display_data"
    }
   ],
   "source": [
    "sns.boxplot('Immobilized_bus', data = df)"
   ]
  },
  {
   "cell_type": "code",
   "execution_count": 569,
   "metadata": {},
   "outputs": [
    {
     "name": "stdout",
     "output_type": "stream",
     "text": [
      "1    104\n",
      "0     36\n",
      "Name: Immobilized_bus_zero, dtype: int64\n"
     ]
    }
   ],
   "source": [
    "df['Immobilized_bus_zero'] = [1 if x ==0.0 else 0 for x in df['Immobilized_bus']]\n",
    "print(df['Immobilized_bus_zero'].value_counts(dropna=False))"
   ]
  },
  {
   "cell_type": "code",
   "execution_count": 570,
   "metadata": {},
   "outputs": [
    {
     "name": "stdout",
     "output_type": "stream",
     "text": [
      "0    113\n",
      "1     27\n",
      "Name: Immobilized_bus_one, dtype: int64\n"
     ]
    }
   ],
   "source": [
    "df['Immobilized_bus_one'] = [1 if x ==1.0 else 0 for x in df['Immobilized_bus']]\n",
    "print(df['Immobilized_bus_one'].value_counts(dropna=False))"
   ]
  },
  {
   "cell_type": "code",
   "execution_count": 571,
   "metadata": {},
   "outputs": [
    {
     "name": "stdout",
     "output_type": "stream",
     "text": [
      "0    131\n",
      "1      9\n",
      "Name: Immobilized_bus_twoOrMore, dtype: int64\n"
     ]
    }
   ],
   "source": [
    "df['Immobilized_bus_twoOrMore'] = [1 if x >1.0 else 0 for x in df['Immobilized_bus']]\n",
    "print(df['Immobilized_bus_twoOrMore'].value_counts(dropna=False))"
   ]
  },
  {
   "cell_type": "code",
   "execution_count": 572,
   "metadata": {},
   "outputs": [
    {
     "data": {
      "text/plain": [
       "Index(['Hour', 'Immobilized_bus', 'Broken_Truck', 'Vehicle_excess',\n",
       "       'Accident_victim', 'Running_over', 'Fire_vehicles',\n",
       "       'Occurrence_involving_freight', 'Incident_involving_dangerous_freight',\n",
       "       'Lack_of_electricity', 'Fire', 'Point_of_flooding', 'Manifestations',\n",
       "       'Defect_in_the_network_of_trolleybuses', 'Tree_on_the_road',\n",
       "       'Semaphore_off', 'Intermittent_Semaphore',\n",
       "       'Slowness_in_traffic_percent', 'Immobilized_bus_zero',\n",
       "       'Immobilized_bus_one', 'Immobilized_bus_twoOrMore'],\n",
       "      dtype='object')"
      ]
     },
     "execution_count": 572,
     "metadata": {},
     "output_type": "execute_result"
    }
   ],
   "source": [
    "df.columns"
   ]
  },
  {
   "cell_type": "markdown",
   "metadata": {},
   "source": [
    "#### Exploratory Analysis for Broken_Truck feature"
   ]
  },
  {
   "cell_type": "code",
   "execution_count": 573,
   "metadata": {},
   "outputs": [
    {
     "name": "stdout",
     "output_type": "stream",
     "text": [
      "[   0. 1000.    2.    1.    5.    4.    3.]\n",
      "0.0       66\n",
      "1.0       44\n",
      "2.0       17\n",
      "3.0        6\n",
      "4.0        5\n",
      "5.0        1\n",
      "1000.0     1\n",
      "Name: Broken_Truck, dtype: int64\n"
     ]
    }
   ],
   "source": [
    "print(df.Broken_Truck.unique())\n",
    "print(df['Broken_Truck'].value_counts(dropna=False))"
   ]
  },
  {
   "cell_type": "code",
   "execution_count": 574,
   "metadata": {
    "scrolled": true
   },
   "outputs": [
    {
     "data": {
      "text/plain": [
       "<matplotlib.axes._subplots.AxesSubplot at 0x7fe1005b9390>"
      ]
     },
     "execution_count": 574,
     "metadata": {},
     "output_type": "execute_result"
    },
    {
     "data": {
      "image/png": "[encoded data removed]",
      "text/plain": [
       "<Figure size 432x288 with 1 Axes>"
      ]
     },
     "metadata": {
      "needs_background": "light"
     },
     "output_type": "display_data"
    }
   ],
   "source": [
    "sns.boxplot('Broken_Truck', data = df)"
   ]
  },
  {
   "cell_type": "code",
   "execution_count": 575,
   "metadata": {},
   "outputs": [],
   "source": [
    "df.loc[(df.Broken_Truck ==1000.0),'Broken_Truck']=0.0"
   ]
  },
  {
   "cell_type": "code",
   "execution_count": 576,
   "metadata": {},
   "outputs": [
    {
     "name": "stdout",
     "output_type": "stream",
     "text": [
      "0    73\n",
      "1    67\n",
      "Name: Broken_Truck_zero, dtype: int64\n"
     ]
    }
   ],
   "source": [
    "df['Broken_Truck_zero'] = [1 if x ==0.0 else 0 for x in df['Broken_Truck']]\n",
    "print(df['Broken_Truck_zero'].value_counts(dropna=False))"
   ]
  },
  {
   "cell_type": "code",
   "execution_count": 577,
   "metadata": {},
   "outputs": [
    {
     "name": "stdout",
     "output_type": "stream",
     "text": [
      "0    96\n",
      "1    44\n",
      "Name: Broken_Truck_one, dtype: int64\n"
     ]
    }
   ],
   "source": [
    "df['Broken_Truck_one'] = [1 if x ==1.0 else 0 for x in df['Broken_Truck']]\n",
    "print(df['Broken_Truck_one'].value_counts(dropna=False))"
   ]
  },
  {
   "cell_type": "code",
   "execution_count": 578,
   "metadata": {},
   "outputs": [
    {
     "name": "stdout",
     "output_type": "stream",
     "text": [
      "0    111\n",
      "1     29\n",
      "Name: Broken_Truck_twoOrMore, dtype: int64\n"
     ]
    }
   ],
   "source": [
    "df['Broken_Truck_twoOrMore'] = [1 if x >1.0 else 0 for x in df['Broken_Truck']]\n",
    "print(df['Broken_Truck_twoOrMore'].value_counts(dropna=False))"
   ]
  },
  {
   "cell_type": "code",
   "execution_count": 579,
   "metadata": {},
   "outputs": [
    {
     "data": {
      "text/plain": [
       "Index(['Hour', 'Immobilized_bus', 'Broken_Truck', 'Vehicle_excess',\n",
       "       'Accident_victim', 'Running_over', 'Fire_vehicles',\n",
       "       'Occurrence_involving_freight', 'Incident_involving_dangerous_freight',\n",
       "       'Lack_of_electricity', 'Fire', 'Point_of_flooding', 'Manifestations',\n",
       "       'Defect_in_the_network_of_trolleybuses', 'Tree_on_the_road',\n",
       "       'Semaphore_off', 'Intermittent_Semaphore',\n",
       "       'Slowness_in_traffic_percent', 'Immobilized_bus_zero',\n",
       "       'Immobilized_bus_one', 'Immobilized_bus_twoOrMore', 'Broken_Truck_zero',\n",
       "       'Broken_Truck_one', 'Broken_Truck_twoOrMore'],\n",
       "      dtype='object')"
      ]
     },
     "execution_count": 579,
     "metadata": {},
     "output_type": "execute_result"
    }
   ],
   "source": [
    "df.columns"
   ]
  },
  {
   "cell_type": "markdown",
   "metadata": {},
   "source": [
    "#### Exploratory Analysis for Vehicle_excess feature"
   ]
  },
  {
   "cell_type": "code",
   "execution_count": 580,
   "metadata": {},
   "outputs": [
    {
     "data": {
      "text/plain": [
       "array([' T', ' F'], dtype=object)"
      ]
     },
     "execution_count": 580,
     "metadata": {},
     "output_type": "execute_result"
    }
   ],
   "source": [
    "df.Vehicle_excess.unique()\n",
    "df.loc[(df.Vehicle_excess == ' f'),'Vehicle_excess']=' F'\n",
    "df.Vehicle_excess.unique()"
   ]
  },
  {
   "cell_type": "code",
   "execution_count": 581,
   "metadata": {},
   "outputs": [
    {
     "data": {
      "text/plain": [
       "array([1, 0])"
      ]
     },
     "execution_count": 581,
     "metadata": {},
     "output_type": "execute_result"
    }
   ],
   "source": [
    "# Converting Yes to 1 and No to 0\n",
    "df['Vehicle_excess'] = df['Vehicle_excess'].map({' T': 1, ' F': 0})\n",
    "df.Vehicle_excess.unique()"
   ]
  },
  {
   "cell_type": "code",
   "execution_count": 582,
   "metadata": {},
   "outputs": [
    {
     "name": "stdout",
     "output_type": "stream",
     "text": [
      "0    135\n",
      "1      5\n",
      "Name: Vehicle_excess, dtype: int64\n"
     ]
    }
   ],
   "source": [
    "#print(df['Vehicle_excess'])\n",
    "print(df['Vehicle_excess'].value_counts(dropna=False))"
   ]
  },
  {
   "cell_type": "markdown",
   "metadata": {},
   "source": [
    "#### Exploratory Analysis for Accident_victim feature"
   ]
  },
  {
   "cell_type": "code",
   "execution_count": 583,
   "metadata": {},
   "outputs": [
    {
     "data": {
      "text/plain": [
       "array([' 0.0', ' 1.0', ' 2.0', ' 3.0', ' -0.0', ' '], dtype=object)"
      ]
     },
     "execution_count": 583,
     "metadata": {},
     "output_type": "execute_result"
    }
   ],
   "source": [
    "df.Accident_victim.unique()"
   ]
  },
  {
   "cell_type": "code",
   "execution_count": 584,
   "metadata": {},
   "outputs": [
    {
     "name": "stdout",
     "output_type": "stream",
     "text": [
      " 0.0    92\n",
      " 1.0    33\n",
      " 2.0    10\n",
      " 3.0     3\n",
      "         2\n",
      "Name: Accident_victim, dtype: int64\n"
     ]
    }
   ],
   "source": [
    "df.loc[(df.Accident_victim == ' -0.0'),'Accident_victim']=' 0.0'\n",
    "print(df['Accident_victim'].value_counts(dropna=False))"
   ]
  },
  {
   "cell_type": "code",
   "execution_count": 585,
   "metadata": {},
   "outputs": [
    {
     "name": "stdout",
     "output_type": "stream",
     "text": [
      "[ 0.  1.  2.  3. nan]\n",
      "0.4492753623188406\n",
      "0    0.0\n",
      "dtype: float64\n"
     ]
    }
   ],
   "source": [
    "df['Accident_victim'] = pd.to_numeric(df['Accident_victim'],errors='coerce')\n",
    "print(df.Accident_victim.unique())\n",
    "print(df['Accident_victim'].mean())\n",
    "print(df['Accident_victim'].mode())"
   ]
  },
  {
   "cell_type": "code",
   "execution_count": 586,
   "metadata": {
    "scrolled": true
   },
   "outputs": [],
   "source": [
    "#Replace nan with mode\n",
    "df['Accident_victim'].replace(np.nan, 0.0 , inplace = True)"
   ]
  },
  {
   "cell_type": "code",
   "execution_count": 587,
   "metadata": {},
   "outputs": [],
   "source": [
    "df['Accident_victim'] = pd.to_numeric(df['Accident_victim'],errors='coerce')"
   ]
  },
  {
   "cell_type": "code",
   "execution_count": 588,
   "metadata": {},
   "outputs": [
    {
     "name": "stdout",
     "output_type": "stream",
     "text": [
      "0.0    94\n",
      "1.0    33\n",
      "2.0    10\n",
      "3.0     3\n",
      "Name: Accident_victim, dtype: int64\n"
     ]
    }
   ],
   "source": [
    "print(df['Accident_victim'].value_counts(dropna=False))"
   ]
  },
  {
   "cell_type": "code",
   "execution_count": 589,
   "metadata": {},
   "outputs": [
    {
     "data": {
      "text/plain": [
       "<matplotlib.axes._subplots.AxesSubplot at 0x7fe0c352cb50>"
      ]
     },
     "execution_count": 589,
     "metadata": {},
     "output_type": "execute_result"
    },
    {
     "data": {
      "image/png": "[encoded data removed]",
      "text/plain": [
       "<Figure size 432x288 with 1 Axes>"
      ]
     },
     "metadata": {
      "needs_background": "light"
     },
     "output_type": "display_data"
    }
   ],
   "source": [
    "sns.boxplot('Accident_victim', data = df)"
   ]
  },
  {
   "cell_type": "code",
   "execution_count": 590,
   "metadata": {},
   "outputs": [
    {
     "name": "stdout",
     "output_type": "stream",
     "text": [
      "1    94\n",
      "0    46\n",
      "Name: Accident_victim_zero, dtype: int64\n"
     ]
    }
   ],
   "source": [
    "df['Accident_victim_zero'] = [1 if x ==0.0 else 0 for x in df['Accident_victim']]\n",
    "print(df['Accident_victim_zero'].value_counts(dropna=False))"
   ]
  },
  {
   "cell_type": "code",
   "execution_count": 591,
   "metadata": {},
   "outputs": [
    {
     "name": "stdout",
     "output_type": "stream",
     "text": [
      "0    107\n",
      "1     33\n",
      "Name: Accident_victim_one, dtype: int64\n"
     ]
    }
   ],
   "source": [
    "df['Accident_victim_one'] = [1 if x ==1.0 else 0 for x in df['Accident_victim']]\n",
    "print(df['Accident_victim_one'].value_counts(dropna=False))"
   ]
  },
  {
   "cell_type": "code",
   "execution_count": 592,
   "metadata": {},
   "outputs": [
    {
     "name": "stdout",
     "output_type": "stream",
     "text": [
      "0    127\n",
      "1     13\n",
      "Name: Accident_victim_twoOrMore, dtype: int64\n"
     ]
    }
   ],
   "source": [
    "df['Accident_victim_twoOrMore'] = [1 if x >1.0 else 0 for x in df['Accident_victim']]\n",
    "print(df['Accident_victim_twoOrMore'].value_counts(dropna=False))"
   ]
  },
  {
   "cell_type": "code",
   "execution_count": 593,
   "metadata": {},
   "outputs": [
    {
     "data": {
      "text/plain": [
       "Index(['Hour', 'Immobilized_bus', 'Broken_Truck', 'Vehicle_excess',\n",
       "       'Accident_victim', 'Running_over', 'Fire_vehicles',\n",
       "       'Occurrence_involving_freight', 'Incident_involving_dangerous_freight',\n",
       "       'Lack_of_electricity', 'Fire', 'Point_of_flooding', 'Manifestations',\n",
       "       'Defect_in_the_network_of_trolleybuses', 'Tree_on_the_road',\n",
       "       'Semaphore_off', 'Intermittent_Semaphore',\n",
       "       'Slowness_in_traffic_percent', 'Immobilized_bus_zero',\n",
       "       'Immobilized_bus_one', 'Immobilized_bus_twoOrMore', 'Broken_Truck_zero',\n",
       "       'Broken_Truck_one', 'Broken_Truck_twoOrMore', 'Accident_victim_zero',\n",
       "       'Accident_victim_one', 'Accident_victim_twoOrMore'],\n",
       "      dtype='object')"
      ]
     },
     "execution_count": 593,
     "metadata": {},
     "output_type": "execute_result"
    }
   ],
   "source": [
    "df.columns"
   ]
  },
  {
   "cell_type": "markdown",
   "metadata": {},
   "source": [
    "#### Exploratory Analysis for Running_over feature"
   ]
  },
  {
   "cell_type": "code",
   "execution_count": 594,
   "metadata": {},
   "outputs": [
    {
     "name": "stdout",
     "output_type": "stream",
     "text": [
      "[' 0.0' ' NO' ' 1.0' ' 2.0' ' -1.0']\n"
     ]
    }
   ],
   "source": [
    "print(df.Running_over.unique())\n",
    "df.loc[(df.Running_over == ' NO'),'Running_over']=' 0.0'\n",
    "df.loc[(df.Running_over == ' -1.0'),'Running_over']=' 1.0'"
   ]
  },
  {
   "cell_type": "code",
   "execution_count": 595,
   "metadata": {},
   "outputs": [
    {
     "name": "stdout",
     "output_type": "stream",
     "text": [
      "[' 0.0' ' 1.0' ' 2.0']\n",
      " 0.0    125\n",
      " 1.0     14\n",
      " 2.0      1\n",
      "Name: Running_over, dtype: int64\n"
     ]
    }
   ],
   "source": [
    "print(df.Running_over.unique())\n",
    "print(df['Running_over'].value_counts(dropna=False))"
   ]
  },
  {
   "cell_type": "code",
   "execution_count": 596,
   "metadata": {},
   "outputs": [],
   "source": [
    "df['Running_over'] = pd.to_numeric(df['Running_over'],errors='coerce')"
   ]
  },
  {
   "cell_type": "code",
   "execution_count": 597,
   "metadata": {},
   "outputs": [
    {
     "data": {
      "text/plain": [
       "<matplotlib.axes._subplots.AxesSubplot at 0x7fe0905c2790>"
      ]
     },
     "execution_count": 597,
     "metadata": {},
     "output_type": "execute_result"
    },
    {
     "data": {
      "image/png": "[encoded data removed]",
      "text/plain": [
       "<Figure size 432x288 with 1 Axes>"
      ]
     },
     "metadata": {
      "needs_background": "light"
     },
     "output_type": "display_data"
    }
   ],
   "source": [
    "sns.boxplot('Running_over', data = df)"
   ]
  },
  {
   "cell_type": "code",
   "execution_count": 598,
   "metadata": {},
   "outputs": [
    {
     "name": "stdout",
     "output_type": "stream",
     "text": [
      "0.0    126\n",
      "1.0     14\n",
      "Name: Running_over, dtype: int64\n"
     ]
    }
   ],
   "source": [
    "df.loc[(df.Running_over == 2.0),'Running_over']=0.0\n",
    "print(df['Running_over'].value_counts(dropna=False))"
   ]
  },
  {
   "cell_type": "markdown",
   "metadata": {},
   "source": [
    "#### Exploratory Analysis for Fire_vehicles feature"
   ]
  },
  {
   "cell_type": "code",
   "execution_count": 599,
   "metadata": {},
   "outputs": [
    {
     "name": "stdout",
     "output_type": "stream",
     "text": [
      "[' NO' ' 0.0' ' YES']\n",
      " NO     138\n",
      " YES      1\n",
      " 0.0      1\n",
      "Name: Fire_vehicles, dtype: int64\n"
     ]
    }
   ],
   "source": [
    "print(df.Fire_vehicles.unique())\n",
    "print(df['Fire_vehicles'].value_counts(dropna=False))"
   ]
  },
  {
   "cell_type": "code",
   "execution_count": 600,
   "metadata": {},
   "outputs": [
    {
     "name": "stdout",
     "output_type": "stream",
     "text": [
      " NO     139\n",
      " YES      1\n",
      "Name: Fire_vehicles, dtype: int64\n"
     ]
    }
   ],
   "source": [
    "#df.replace(to_replace=' 0.0', value= ' NO', inplace = True)\n",
    "df.loc[(df.Fire_vehicles == ' 0.0'),'Fire_vehicles']=' NO'\n",
    "print(df['Fire_vehicles'].value_counts(dropna=False))"
   ]
  },
  {
   "cell_type": "code",
   "execution_count": 601,
   "metadata": {},
   "outputs": [],
   "source": [
    "df.loc[(df.Fire_vehicles == ' NO'),'Fire_vehicles']=' 0.0'\n",
    "df.loc[(df.Fire_vehicles == ' YES'),'Fire_vehicles']=' 1.0'"
   ]
  },
  {
   "cell_type": "code",
   "execution_count": 602,
   "metadata": {},
   "outputs": [
    {
     "name": "stdout",
     "output_type": "stream",
     "text": [
      "0.0    139\n",
      "1.0      1\n",
      "Name: Fire_vehicles, dtype: int64\n"
     ]
    }
   ],
   "source": [
    "df['Fire_vehicles'] = pd.to_numeric(df['Fire_vehicles'],errors='coerce')\n",
    "print(df['Fire_vehicles'].value_counts(dropna=False))"
   ]
  },
  {
   "cell_type": "markdown",
   "metadata": {},
   "source": [
    "#### Exploratory Analysis for Occurrence_involving_freight feature"
   ]
  },
  {
   "cell_type": "code",
   "execution_count": 603,
   "metadata": {},
   "outputs": [
    {
     "name": "stdout",
     "output_type": "stream",
     "text": [
      "0.0    139\n",
      "1.0      1\n",
      "Name: Occurrence_involving_freight, dtype: int64\n"
     ]
    }
   ],
   "source": [
    "df.Occurrence_involving_freight.unique()\n",
    "#print(df['Occurrence_involving_freight'])\n",
    "print(df['Occurrence_involving_freight'].value_counts(dropna=False))"
   ]
  },
  {
   "cell_type": "code",
   "execution_count": 604,
   "metadata": {},
   "outputs": [
    {
     "name": "stdout",
     "output_type": "stream",
     "text": [
      "0.0    139\n",
      "1.0      1\n",
      "Name: Occurrence_involving_freight, dtype: int64\n"
     ]
    }
   ],
   "source": [
    "df['Occurrence_involving_freight'] = pd.to_numeric(df['Occurrence_involving_freight'],errors='coerce')\n",
    "print(df['Occurrence_involving_freight'].value_counts(dropna=False))"
   ]
  },
  {
   "cell_type": "markdown",
   "metadata": {},
   "source": [
    "#### Exploratory Analysis for Incident_involving_dangerous_freight feature"
   ]
  },
  {
   "cell_type": "code",
   "execution_count": 605,
   "metadata": {},
   "outputs": [
    {
     "name": "stdout",
     "output_type": "stream",
     "text": [
      " 0.0    137\n",
      "          2\n",
      " 1.0      1\n",
      "Name: Incident_involving_dangerous_freight, dtype: int64\n",
      "0     0.0\n",
      "dtype: object\n"
     ]
    }
   ],
   "source": [
    "df.Incident_involving_dangerous_freight.unique()\n",
    "#print(df['Incident_involving_dangerous_freight'])\n",
    "print(df['Incident_involving_dangerous_freight'].value_counts(dropna=False)) \n",
    "print(df['Incident_involving_dangerous_freight'].mode())"
   ]
  },
  {
   "cell_type": "code",
   "execution_count": 606,
   "metadata": {},
   "outputs": [
    {
     "name": "stdout",
     "output_type": "stream",
     "text": [
      " 0.0    139\n",
      " 1.0      1\n",
      "Name: Incident_involving_dangerous_freight, dtype: int64\n"
     ]
    }
   ],
   "source": [
    "df.loc[(df.Incident_involving_dangerous_freight == ' '),'Incident_involving_dangerous_freight']=' 0.0'\n",
    "print(df['Incident_involving_dangerous_freight'].value_counts(dropna=False))"
   ]
  },
  {
   "cell_type": "code",
   "execution_count": 607,
   "metadata": {},
   "outputs": [
    {
     "name": "stdout",
     "output_type": "stream",
     "text": [
      "0.0    139\n",
      "1.0      1\n",
      "Name: Incident_involving_dangerous_freight, dtype: int64\n"
     ]
    }
   ],
   "source": [
    "df['Incident_involving_dangerous_freight'] = pd.to_numeric(df['Incident_involving_dangerous_freight'],errors='coerce')\n",
    "print(df['Incident_involving_dangerous_freight'].value_counts(dropna=False))"
   ]
  },
  {
   "cell_type": "markdown",
   "metadata": {},
   "source": [
    "#### Exploratory Analysis for Lack_of_electricity feature"
   ]
  },
  {
   "cell_type": "code",
   "execution_count": 608,
   "metadata": {},
   "outputs": [
    {
     "name": "stdout",
     "output_type": "stream",
     "text": [
      "[0. 1. 2. 4. 3.]\n",
      "0.0    130\n",
      "1.0      7\n",
      "3.0      1\n",
      "4.0      1\n",
      "2.0      1\n",
      "Name: Lack_of_electricity, dtype: int64\n"
     ]
    }
   ],
   "source": [
    "print(df.Lack_of_electricity.unique())\n",
    "print(df['Lack_of_electricity'].value_counts(dropna=False)) "
   ]
  },
  {
   "cell_type": "code",
   "execution_count": 609,
   "metadata": {},
   "outputs": [],
   "source": [
    "df.loc[(df.Lack_of_electricity !=0.0),'Lack_of_electricity']=1.0"
   ]
  },
  {
   "cell_type": "code",
   "execution_count": 610,
   "metadata": {},
   "outputs": [
    {
     "name": "stdout",
     "output_type": "stream",
     "text": [
      "0.0    130\n",
      "1.0     10\n",
      "Name: Lack_of_electricity, dtype: int64\n"
     ]
    }
   ],
   "source": [
    "print(df['Lack_of_electricity'].value_counts(dropna=False)) "
   ]
  },
  {
   "cell_type": "markdown",
   "metadata": {},
   "source": [
    "#### Exploratory Analysis for Fire feature"
   ]
  },
  {
   "cell_type": "code",
   "execution_count": 611,
   "metadata": {},
   "outputs": [
    {
     "name": "stdout",
     "output_type": "stream",
     "text": [
      "0.0    139\n",
      "1.0      1\n",
      "Name: Fire, dtype: int64\n"
     ]
    }
   ],
   "source": [
    "df.Fire.unique()\n",
    "#print(df['Fire'])\n",
    "print(df['Fire'].value_counts(dropna=False))\n",
    "df['Fire'] = pd.to_numeric(df['Fire'],errors='coerce')"
   ]
  },
  {
   "cell_type": "markdown",
   "metadata": {},
   "source": [
    "#### Exploratory Analysis for Point_of_flooding feature"
   ]
  },
  {
   "cell_type": "code",
   "execution_count": 612,
   "metadata": {},
   "outputs": [
    {
     "data": {
      "text/plain": [
       "array([0.e+00, 2.e+03, 1.e+00, 3.e+00, 7.e+00])"
      ]
     },
     "execution_count": 612,
     "metadata": {},
     "output_type": "execute_result"
    }
   ],
   "source": [
    "df.Point_of_flooding.unique()"
   ]
  },
  {
   "cell_type": "code",
   "execution_count": 613,
   "metadata": {},
   "outputs": [
    {
     "data": {
      "text/plain": [
       "<matplotlib.axes._subplots.AxesSubplot at 0x7fe0b105ca50>"
      ]
     },
     "execution_count": 613,
     "metadata": {},
     "output_type": "execute_result"
    },
    {
     "data": {
      "image/png": "[encoded data removed]",
      "text/plain": [
       "<Figure size 432x288 with 1 Axes>"
      ]
     },
     "metadata": {
      "needs_background": "light"
     },
     "output_type": "display_data"
    }
   ],
   "source": [
    "sns.boxplot('Point_of_flooding', data = df)"
   ]
  },
  {
   "cell_type": "markdown",
   "metadata": {},
   "source": [
    "#### Exploratory Analysis for Manifestations feature"
   ]
  },
  {
   "cell_type": "code",
   "execution_count": 614,
   "metadata": {},
   "outputs": [
    {
     "name": "stdout",
     "output_type": "stream",
     "text": [
      " 0.0    133\n",
      " 1.0      6\n",
      "-1.0      1\n",
      "Name: Manifestations, dtype: int64\n"
     ]
    }
   ],
   "source": [
    "#print(df.Manifestations.unique())\n",
    "print(df['Manifestations'].value_counts(dropna=False))\n",
    "#df['Manifestations'].mode()"
   ]
  },
  {
   "cell_type": "code",
   "execution_count": 615,
   "metadata": {},
   "outputs": [
    {
     "name": "stdout",
     "output_type": "stream",
     "text": [
      "0.0    133\n",
      "1.0      7\n",
      "Name: Manifestations, dtype: int64\n"
     ]
    }
   ],
   "source": [
    "df.loc[(df.Manifestations == -1.0),'Manifestations']=1.0\n",
    "print(df['Manifestations'].value_counts(dropna=False))"
   ]
  },
  {
   "cell_type": "code",
   "execution_count": 616,
   "metadata": {},
   "outputs": [
    {
     "name": "stdout",
     "output_type": "stream",
     "text": [
      "0.0    133\n",
      "1.0      7\n",
      "Name: Manifestations, dtype: int64\n"
     ]
    }
   ],
   "source": [
    "df['Manifestations'] = pd.to_numeric(df['Manifestations'],errors='coerce')\n",
    "print(df['Manifestations'].value_counts(dropna=False))"
   ]
  },
  {
   "cell_type": "markdown",
   "metadata": {},
   "source": [
    "#### Exploratory Analysis for Defect_in_the_network_of_trolleybuses feature"
   ]
  },
  {
   "cell_type": "code",
   "execution_count": 617,
   "metadata": {},
   "outputs": [
    {
     "name": "stdout",
     "output_type": "stream",
     "text": [
      " 0.0     118\n",
      " 1.0      17\n",
      "           2\n",
      " 3.0       1\n",
      " -8.0      1\n",
      " 2.0       1\n",
      "Name: Defect_in_the_network_of_trolleybuses, dtype: int64\n",
      "<bound method Series.mode of 0       0.0\n",
      "1       0.0\n",
      "2       0.0\n",
      "3       0.0\n",
      "4       0.0\n",
      "       ... \n",
      "135     1.0\n",
      "136        \n",
      "137     0.0\n",
      "138     0.0\n",
      "139     0.0\n",
      "Name: Defect_in_the_network_of_trolleybuses, Length: 140, dtype: object>\n",
      " 0.0    121\n",
      " 1.0     19\n",
      "Name: Defect_in_the_network_of_trolleybuses, dtype: int64\n"
     ]
    }
   ],
   "source": [
    "#print(df.Defect_in_the_network_of_trolleybuses.unique())\n",
    "print(df['Defect_in_the_network_of_trolleybuses'].value_counts(dropna=False))\n",
    "#Defect_in_the_network_of_trolleybuses feature has 118 occurances as 0.0 and 17 occurances as YES. 2 missing values\n",
    "#and 1 occurances of 3.0, -8.0 and 2.0. -8 can be considered as outlier.\n",
    "\n",
    "#This feature also looks categorical and we can represent it as 0.0, YES as 1.0, missing value is replaced with mode\n",
    "#0.0 is considered as NO and rest of the values as YES\n",
    "print(df['Defect_in_the_network_of_trolleybuses'].mode)\n",
    "\n",
    "df.loc[(df.Defect_in_the_network_of_trolleybuses == ' '),'Defect_in_the_network_of_trolleybuses']=' 0.0'\n",
    "df.loc[(df.Defect_in_the_network_of_trolleybuses == ' YES'),'Defect_in_the_network_of_trolleybuses']=' 1.0'\n",
    "df.loc[(df.Defect_in_the_network_of_trolleybuses == ' 2.0'),'Defect_in_the_network_of_trolleybuses']=' 1.0'\n",
    "df.loc[(df.Defect_in_the_network_of_trolleybuses == ' 3.0'),'Defect_in_the_network_of_trolleybuses']=' 1.0'\n",
    "#Replace outlier with mode \n",
    "df.loc[(df.Defect_in_the_network_of_trolleybuses == ' -8.0'),'Defect_in_the_network_of_trolleybuses']=' 0.0'\n",
    "print(df['Defect_in_the_network_of_trolleybuses'].value_counts(dropna=False))"
   ]
  },
  {
   "cell_type": "code",
   "execution_count": 618,
   "metadata": {},
   "outputs": [
    {
     "name": "stdout",
     "output_type": "stream",
     "text": [
      "0.0    121\n",
      "1.0     19\n",
      "Name: Defect_in_the_network_of_trolleybuses, dtype: int64\n"
     ]
    }
   ],
   "source": [
    "df['Defect_in_the_network_of_trolleybuses'] = pd.to_numeric(df['Defect_in_the_network_of_trolleybuses'],errors='coerce')\n",
    "print(df['Defect_in_the_network_of_trolleybuses'].value_counts(dropna=False))"
   ]
  },
  {
   "cell_type": "markdown",
   "metadata": {},
   "source": [
    "#### Exploratory Analysis for  Tree_on_the_road feature"
   ]
  },
  {
   "cell_type": "code",
   "execution_count": 619,
   "metadata": {},
   "outputs": [
    {
     "name": "stdout",
     "output_type": "stream",
     "text": [
      "0.0    134\n",
      "1.0      6\n",
      "Name: Tree_on_the_road, dtype: int64\n"
     ]
    }
   ],
   "source": [
    "#print(df.Tree_on_the_road.unique())\n",
    "print(df['Tree_on_the_road'].value_counts(dropna=False))\n",
    "df['Tree_on_the_road'] = pd.to_numeric(df['Tree_on_the_road'],errors='coerce')\n",
    "#Tree_on_the_road feature has values 0 and 1 so it's categorical by nature and values are 0 and 1\n",
    "#so we dont need to create any new feature/s for this."
   ]
  },
  {
   "cell_type": "markdown",
   "metadata": {},
   "source": [
    "#### Exploratory Analysis for Semaphore_off feature"
   ]
  },
  {
   "cell_type": "code",
   "execution_count": 620,
   "metadata": {},
   "outputs": [
    {
     "name": "stdout",
     "output_type": "stream",
     "text": [
      " 0.0    125\n",
      " 1.0     12\n",
      "          1\n",
      " 2.0      1\n",
      " 4.0      1\n",
      "Name: Semaphore_off, dtype: int64\n"
     ]
    }
   ],
   "source": [
    "#print(df.Semaphore_off.unique())\n",
    "print(df['Semaphore_off'].value_counts(dropna=False))\n",
    "#print(df['Semaphore_off'].mode())\n",
    "#Semaphore_off has 125 occurances on 0, 12 occurance of YES, 1 occurance of 2.0, 4.0 and 1 missing value. \n",
    "#The feature looks like categorical in nature if we consider 0.0 ~ N0, 1.0 ~ YES so we can replace missing value with \n",
    "#mode and convert it to numerical with 0.0 as 0.0 and rest of the values as 1.0 and we don't need to create any new \n",
    "#feature/column"
   ]
  },
  {
   "cell_type": "code",
   "execution_count": 621,
   "metadata": {},
   "outputs": [],
   "source": [
    "df.loc[(df.Semaphore_off == ' '),'Semaphore_off']=' 0.0'\n",
    "df.loc[(df.Semaphore_off == ' YES'),'Semaphore_off']=' 1.0'\n",
    "df.loc[(df.Semaphore_off == ' 2.0'),'Semaphore_off']=' 1.0'\n",
    "df.loc[(df.Semaphore_off == ' 4.0'),'Semaphore_off']=' 1.0'\n",
    "#print(df.Semaphore_off.unique())"
   ]
  },
  {
   "cell_type": "code",
   "execution_count": 622,
   "metadata": {},
   "outputs": [],
   "source": [
    "df['Semaphore_off'] = pd.to_numeric(df['Semaphore_off'],errors='coerce')\n",
    "#print(df.Semaphore_off.unique())"
   ]
  },
  {
   "cell_type": "markdown",
   "metadata": {},
   "source": [
    "#### Exploratory Analysis for Intermittent_Semaphore feature"
   ]
  },
  {
   "cell_type": "code",
   "execution_count": 623,
   "metadata": {
    "scrolled": true
   },
   "outputs": [
    {
     "name": "stdout",
     "output_type": "stream",
     "text": [
      "0.0    138\n",
      "1.0      2\n",
      "Name: Intermittent_Semaphore, dtype: int64\n"
     ]
    }
   ],
   "source": [
    "#print(df.Intermittent_Semaphore.unique())\n",
    "print(df['Intermittent_Semaphore'].value_counts(dropna=False))\n",
    "#Transform values to numeric values\n",
    "df['Intermittent_Semaphore'] = pd.to_numeric(df['Intermittent_Semaphore'],errors='coerce')\n",
    "#Intermittent_Semaphore feature has values 0 and 1 so it's categorical by nature and values are 0 and 1\n",
    "#so we dont need to create any new feature/s for this."
   ]
  },
  {
   "cell_type": "code",
   "execution_count": null,
   "metadata": {},
   "outputs": [],
   "source": []
  },
  {
   "cell_type": "code",
   "execution_count": null,
   "metadata": {},
   "outputs": [],
   "source": []
  },
  {
   "cell_type": "code",
   "execution_count": null,
   "metadata": {},
   "outputs": [],
   "source": []
  },
  {
   "cell_type": "code",
   "execution_count": null,
   "metadata": {},
   "outputs": [],
   "source": []
  },
  {
   "cell_type": "markdown",
   "metadata": {},
   "source": [
    "# Feature Subset Selection - In progress"
   ]
  },
  {
   "cell_type": "code",
   "execution_count": 624,
   "metadata": {},
   "outputs": [
    {
     "data": {
      "text/plain": [
       "Hour                                     0\n",
       "Immobilized_bus                          0\n",
       "Broken_Truck                             0\n",
       "Vehicle_excess                           0\n",
       "Accident_victim                          0\n",
       "Running_over                             0\n",
       "Fire_vehicles                            0\n",
       "Occurrence_involving_freight             0\n",
       "Incident_involving_dangerous_freight     0\n",
       "Lack_of_electricity                      0\n",
       "Fire                                     0\n",
       "Point_of_flooding                        0\n",
       "Manifestations                           0\n",
       "Defect_in_the_network_of_trolleybuses    0\n",
       "Tree_on_the_road                         0\n",
       "Semaphore_off                            0\n",
       "Intermittent_Semaphore                   0\n",
       "Slowness_in_traffic_percent              0\n",
       "Immobilized_bus_zero                     0\n",
       "Immobilized_bus_one                      0\n",
       "Immobilized_bus_twoOrMore                0\n",
       "Broken_Truck_zero                        0\n",
       "Broken_Truck_one                         0\n",
       "Broken_Truck_twoOrMore                   0\n",
       "Accident_victim_zero                     0\n",
       "Accident_victim_one                      0\n",
       "Accident_victim_twoOrMore                0\n",
       "dtype: int64"
      ]
     },
     "execution_count": 624,
     "metadata": {},
     "output_type": "execute_result"
    }
   ],
   "source": [
    "df.isnull().sum()"
   ]
  },
  {
   "cell_type": "code",
   "execution_count": 625,
   "metadata": {},
   "outputs": [
    {
     "data": {
      "text/plain": [
       "<matplotlib.axes._subplots.AxesSubplot at 0x7fe0f03db6d0>"
      ]
     },
     "execution_count": 625,
     "metadata": {},
     "output_type": "execute_result"
    },
    {
     "data": {
      "image/png": "[encoded data removed]",
      "text/plain": [
       "<Figure size 432x288 with 1 Axes>"
      ]
     },
     "metadata": {
      "needs_background": "light"
     },
     "output_type": "display_data"
    }
   ],
   "source": [
    "sns.heatmap(df.isnull(),yticklabels=False,cbar=False,cmap='viridis')"
   ]
  },
  {
   "cell_type": "code",
   "execution_count": 627,
   "metadata": {},
   "outputs": [
    {
     "data": {
      "text/plain": [
       "False"
      ]
     },
     "execution_count": 627,
     "metadata": {},
     "output_type": "execute_result"
    }
   ],
   "source": [
    "df.isnull().any().any()"
   ]
  },
  {
   "cell_type": "code",
   "execution_count": 628,
   "metadata": {},
   "outputs": [
    {
     "data": {
      "text/html": [
       "<div>\n",
       "<style scoped>\n",
       "    .dataframe tbody tr th:only-of-type {\n",
       "        vertical-align: middle;\n",
       "    }\n",
       "\n",
       "    .dataframe tbody tr th {\n",
       "        vertical-align: top;\n",
       "    }\n",
       "\n",
       "    .dataframe thead th {\n",
       "        text-align: right;\n",
       "    }\n",
       "</style>\n",
       "<table border=\"1\" class=\"dataframe\">\n",
       "  <thead>\n",
       "    <tr style=\"text-align: right;\">\n",
       "      <th></th>\n",
       "      <th>Immobilized_bus</th>\n",
       "      <th>Broken_Truck</th>\n",
       "      <th>Vehicle_excess</th>\n",
       "      <th>Accident_victim</th>\n",
       "      <th>Running_over</th>\n",
       "      <th>Fire_vehicles</th>\n",
       "      <th>Occurrence_involving_freight</th>\n",
       "      <th>Incident_involving_dangerous_freight</th>\n",
       "      <th>Lack_of_electricity</th>\n",
       "      <th>Fire</th>\n",
       "      <th>...</th>\n",
       "      <th>Slowness_in_traffic_percent</th>\n",
       "      <th>Immobilized_bus_zero</th>\n",
       "      <th>Immobilized_bus_one</th>\n",
       "      <th>Immobilized_bus_twoOrMore</th>\n",
       "      <th>Broken_Truck_zero</th>\n",
       "      <th>Broken_Truck_one</th>\n",
       "      <th>Broken_Truck_twoOrMore</th>\n",
       "      <th>Accident_victim_zero</th>\n",
       "      <th>Accident_victim_one</th>\n",
       "      <th>Accident_victim_twoOrMore</th>\n",
       "    </tr>\n",
       "  </thead>\n",
       "  <tbody>\n",
       "    <tr>\n",
       "      <th>count</th>\n",
       "      <td>140.000000</td>\n",
       "      <td>140.000000</td>\n",
       "      <td>140.000000</td>\n",
       "      <td>140.000000</td>\n",
       "      <td>140.000000</td>\n",
       "      <td>140.000000</td>\n",
       "      <td>140.000000</td>\n",
       "      <td>140.000000</td>\n",
       "      <td>140.000000</td>\n",
       "      <td>140.000000</td>\n",
       "      <td>...</td>\n",
       "      <td>140.000000</td>\n",
       "      <td>140.000000</td>\n",
       "      <td>140.000000</td>\n",
       "      <td>140.000000</td>\n",
       "      <td>140.000000</td>\n",
       "      <td>140.000000</td>\n",
       "      <td>140.000000</td>\n",
       "      <td>140.000000</td>\n",
       "      <td>140.000000</td>\n",
       "      <td>140.000000</td>\n",
       "    </tr>\n",
       "    <tr>\n",
       "      <th>mean</th>\n",
       "      <td>0.335714</td>\n",
       "      <td>0.864286</td>\n",
       "      <td>0.035714</td>\n",
       "      <td>0.442857</td>\n",
       "      <td>0.100000</td>\n",
       "      <td>0.007143</td>\n",
       "      <td>0.007143</td>\n",
       "      <td>0.007143</td>\n",
       "      <td>0.071429</td>\n",
       "      <td>0.007143</td>\n",
       "      <td>...</td>\n",
       "      <td>9.980714</td>\n",
       "      <td>0.742857</td>\n",
       "      <td>0.192857</td>\n",
       "      <td>0.064286</td>\n",
       "      <td>0.478571</td>\n",
       "      <td>0.314286</td>\n",
       "      <td>0.207143</td>\n",
       "      <td>0.671429</td>\n",
       "      <td>0.235714</td>\n",
       "      <td>0.092857</td>\n",
       "    </tr>\n",
       "    <tr>\n",
       "      <th>std</th>\n",
       "      <td>0.652728</td>\n",
       "      <td>1.094201</td>\n",
       "      <td>0.186243</td>\n",
       "      <td>0.722420</td>\n",
       "      <td>0.301077</td>\n",
       "      <td>0.084515</td>\n",
       "      <td>0.084515</td>\n",
       "      <td>0.084515</td>\n",
       "      <td>0.258464</td>\n",
       "      <td>0.084515</td>\n",
       "      <td>...</td>\n",
       "      <td>4.323583</td>\n",
       "      <td>0.438628</td>\n",
       "      <td>0.395959</td>\n",
       "      <td>0.246142</td>\n",
       "      <td>0.501334</td>\n",
       "      <td>0.465898</td>\n",
       "      <td>0.406714</td>\n",
       "      <td>0.471380</td>\n",
       "      <td>0.425968</td>\n",
       "      <td>0.291274</td>\n",
       "    </tr>\n",
       "    <tr>\n",
       "      <th>min</th>\n",
       "      <td>0.000000</td>\n",
       "      <td>0.000000</td>\n",
       "      <td>0.000000</td>\n",
       "      <td>0.000000</td>\n",
       "      <td>0.000000</td>\n",
       "      <td>0.000000</td>\n",
       "      <td>0.000000</td>\n",
       "      <td>0.000000</td>\n",
       "      <td>0.000000</td>\n",
       "      <td>0.000000</td>\n",
       "      <td>...</td>\n",
       "      <td>3.400000</td>\n",
       "      <td>0.000000</td>\n",
       "      <td>0.000000</td>\n",
       "      <td>0.000000</td>\n",
       "      <td>0.000000</td>\n",
       "      <td>0.000000</td>\n",
       "      <td>0.000000</td>\n",
       "      <td>0.000000</td>\n",
       "      <td>0.000000</td>\n",
       "      <td>0.000000</td>\n",
       "    </tr>\n",
       "    <tr>\n",
       "      <th>25%</th>\n",
       "      <td>0.000000</td>\n",
       "      <td>0.000000</td>\n",
       "      <td>0.000000</td>\n",
       "      <td>0.000000</td>\n",
       "      <td>0.000000</td>\n",
       "      <td>0.000000</td>\n",
       "      <td>0.000000</td>\n",
       "      <td>0.000000</td>\n",
       "      <td>0.000000</td>\n",
       "      <td>0.000000</td>\n",
       "      <td>...</td>\n",
       "      <td>7.300000</td>\n",
       "      <td>0.000000</td>\n",
       "      <td>0.000000</td>\n",
       "      <td>0.000000</td>\n",
       "      <td>0.000000</td>\n",
       "      <td>0.000000</td>\n",
       "      <td>0.000000</td>\n",
       "      <td>0.000000</td>\n",
       "      <td>0.000000</td>\n",
       "      <td>0.000000</td>\n",
       "    </tr>\n",
       "    <tr>\n",
       "      <th>50%</th>\n",
       "      <td>0.000000</td>\n",
       "      <td>1.000000</td>\n",
       "      <td>0.000000</td>\n",
       "      <td>0.000000</td>\n",
       "      <td>0.000000</td>\n",
       "      <td>0.000000</td>\n",
       "      <td>0.000000</td>\n",
       "      <td>0.000000</td>\n",
       "      <td>0.000000</td>\n",
       "      <td>0.000000</td>\n",
       "      <td>...</td>\n",
       "      <td>8.950000</td>\n",
       "      <td>1.000000</td>\n",
       "      <td>0.000000</td>\n",
       "      <td>0.000000</td>\n",
       "      <td>0.000000</td>\n",
       "      <td>0.000000</td>\n",
       "      <td>0.000000</td>\n",
       "      <td>1.000000</td>\n",
       "      <td>0.000000</td>\n",
       "      <td>0.000000</td>\n",
       "    </tr>\n",
       "    <tr>\n",
       "      <th>75%</th>\n",
       "      <td>1.000000</td>\n",
       "      <td>1.000000</td>\n",
       "      <td>0.000000</td>\n",
       "      <td>1.000000</td>\n",
       "      <td>0.000000</td>\n",
       "      <td>0.000000</td>\n",
       "      <td>0.000000</td>\n",
       "      <td>0.000000</td>\n",
       "      <td>0.000000</td>\n",
       "      <td>0.000000</td>\n",
       "      <td>...</td>\n",
       "      <td>11.500000</td>\n",
       "      <td>1.000000</td>\n",
       "      <td>0.000000</td>\n",
       "      <td>0.000000</td>\n",
       "      <td>1.000000</td>\n",
       "      <td>1.000000</td>\n",
       "      <td>0.000000</td>\n",
       "      <td>1.000000</td>\n",
       "      <td>0.000000</td>\n",
       "      <td>0.000000</td>\n",
       "    </tr>\n",
       "    <tr>\n",
       "      <th>max</th>\n",
       "      <td>4.000000</td>\n",
       "      <td>5.000000</td>\n",
       "      <td>1.000000</td>\n",
       "      <td>3.000000</td>\n",
       "      <td>1.000000</td>\n",
       "      <td>1.000000</td>\n",
       "      <td>1.000000</td>\n",
       "      <td>1.000000</td>\n",
       "      <td>1.000000</td>\n",
       "      <td>1.000000</td>\n",
       "      <td>...</td>\n",
       "      <td>23.400000</td>\n",
       "      <td>1.000000</td>\n",
       "      <td>1.000000</td>\n",
       "      <td>1.000000</td>\n",
       "      <td>1.000000</td>\n",
       "      <td>1.000000</td>\n",
       "      <td>1.000000</td>\n",
       "      <td>1.000000</td>\n",
       "      <td>1.000000</td>\n",
       "      <td>1.000000</td>\n",
       "    </tr>\n",
       "  </tbody>\n",
       "</table>\n",
       "<p>8 rows × 26 columns</p>\n",
       "</div>"
      ],
      "text/plain": [
       "       Immobilized_bus  Broken_Truck  Vehicle_excess  Accident_victim  \\\n",
       "count       140.000000    140.000000      140.000000       140.000000   \n",
       "mean          0.335714      0.864286        0.035714         0.442857   \n",
       "std           0.652728      1.094201        0.186243         0.722420   \n",
       "min           0.000000      0.000000        0.000000         0.000000   \n",
       "25%           0.000000      0.000000        0.000000         0.000000   \n",
       "50%           0.000000      1.000000        0.000000         0.000000   \n",
       "75%           1.000000      1.000000        0.000000         1.000000   \n",
       "max           4.000000      5.000000        1.000000         3.000000   \n",
       "\n",
       "       Running_over  Fire_vehicles  Occurrence_involving_freight  \\\n",
       "count    140.000000     140.000000                    140.000000   \n",
       "mean       0.100000       0.007143                      0.007143   \n",
       "std        0.301077       0.084515                      0.084515   \n",
       "min        0.000000       0.000000                      0.000000   \n",
       "25%        0.000000       0.000000                      0.000000   \n",
       "50%        0.000000       0.000000                      0.000000   \n",
       "75%        0.000000       0.000000                      0.000000   \n",
       "max        1.000000       1.000000                      1.000000   \n",
       "\n",
       "       Incident_involving_dangerous_freight  Lack_of_electricity        Fire  \\\n",
       "count                            140.000000           140.000000  140.000000   \n",
       "mean                               0.007143             0.071429    0.007143   \n",
       "std                                0.084515             0.258464    0.084515   \n",
       "min                                0.000000             0.000000    0.000000   \n",
       "25%                                0.000000             0.000000    0.000000   \n",
       "50%                                0.000000             0.000000    0.000000   \n",
       "75%                                0.000000             0.000000    0.000000   \n",
       "max                                1.000000             1.000000    1.000000   \n",
       "\n",
       "       ...  Slowness_in_traffic_percent  Immobilized_bus_zero  \\\n",
       "count  ...                   140.000000            140.000000   \n",
       "mean   ...                     9.980714              0.742857   \n",
       "std    ...                     4.323583              0.438628   \n",
       "min    ...                     3.400000              0.000000   \n",
       "25%    ...                     7.300000              0.000000   \n",
       "50%    ...                     8.950000              1.000000   \n",
       "75%    ...                    11.500000              1.000000   \n",
       "max    ...                    23.400000              1.000000   \n",
       "\n",
       "       Immobilized_bus_one  Immobilized_bus_twoOrMore  Broken_Truck_zero  \\\n",
       "count           140.000000                 140.000000         140.000000   \n",
       "mean              0.192857                   0.064286           0.478571   \n",
       "std               0.395959                   0.246142           0.501334   \n",
       "min               0.000000                   0.000000           0.000000   \n",
       "25%               0.000000                   0.000000           0.000000   \n",
       "50%               0.000000                   0.000000           0.000000   \n",
       "75%               0.000000                   0.000000           1.000000   \n",
       "max               1.000000                   1.000000           1.000000   \n",
       "\n",
       "       Broken_Truck_one  Broken_Truck_twoOrMore  Accident_victim_zero  \\\n",
       "count        140.000000              140.000000            140.000000   \n",
       "mean           0.314286                0.207143              0.671429   \n",
       "std            0.465898                0.406714              0.471380   \n",
       "min            0.000000                0.000000              0.000000   \n",
       "25%            0.000000                0.000000              0.000000   \n",
       "50%            0.000000                0.000000              1.000000   \n",
       "75%            1.000000                0.000000              1.000000   \n",
       "max            1.000000                1.000000              1.000000   \n",
       "\n",
       "       Accident_victim_one  Accident_victim_twoOrMore  \n",
       "count           140.000000                 140.000000  \n",
       "mean              0.235714                   0.092857  \n",
       "std               0.425968                   0.291274  \n",
       "min               0.000000                   0.000000  \n",
       "25%               0.000000                   0.000000  \n",
       "50%               0.000000                   0.000000  \n",
       "75%               0.000000                   0.000000  \n",
       "max               1.000000                   1.000000  \n",
       "\n",
       "[8 rows x 26 columns]"
      ]
     },
     "execution_count": 628,
     "metadata": {},
     "output_type": "execute_result"
    }
   ],
   "source": [
    "df.describe()"
   ]
  },
  {
   "cell_type": "code",
   "execution_count": 629,
   "metadata": {},
   "outputs": [
    {
     "data": {
      "text/plain": [
       "<matplotlib.axes._subplots.AxesSubplot at 0x7fe100726a10>"
      ]
     },
     "execution_count": 629,
     "metadata": {},
     "output_type": "execute_result"
    },
    {
     "data": {
      "image/png": "[encoded data removed]",
      "text/plain": [
       "<Figure size 1080x720 with 2 Axes>"
      ]
     },
     "metadata": {
      "needs_background": "light"
     },
     "output_type": "display_data"
    }
   ],
   "source": [
    "plt.figure(figsize=(15, 10))\n",
    "sns.heatmap(df.corr(), annot=True, cmap='viridis')"
   ]
  },
  {
   "cell_type": "code",
   "execution_count": 630,
   "metadata": {},
   "outputs": [
    {
     "name": "stdout",
     "output_type": "stream",
     "text": [
      "                                       Immobilized_bus  Broken_Truck  \\\n",
      "Immobilized_bus                               1.000000      0.144834   \n",
      "Broken_Truck                                  0.144834      1.000000   \n",
      "Vehicle_excess                                0.137381     -0.081953   \n",
      "Accident_victim                               0.002833      0.276806   \n",
      "Running_over                                  0.157414      0.085168   \n",
      "Fire_vehicles                                 0.086631      0.010558   \n",
      "Occurrence_involving_freight                  0.086631      0.088353   \n",
      "Incident_involving_dangerous_freight          0.217043      0.088353   \n",
      "Lack_of_electricity                          -0.015230      0.085400   \n",
      "Fire                                         -0.043781      0.010558   \n",
      "Point_of_flooding                            -0.044003     -0.066650   \n",
      "Manifestations                                0.083145      0.088676   \n",
      "Defect_in_the_network_of_trolleybuses         0.180261      0.202356   \n",
      "Tree_on_the_road                             -0.000775     -0.006007   \n",
      "Semaphore_off                                -0.062233      0.172519   \n",
      "Intermittent_Semaphore                        0.030409     -0.040223   \n",
      "Slowness_in_traffic_percent                   0.101221      0.135241   \n",
      "Immobilized_bus_zero                         -0.877324     -0.163173   \n",
      "Immobilized_bus_one                           0.499255      0.094055   \n",
      "Immobilized_bus_twoOrMore                     0.760272      0.139474   \n",
      "Broken_Truck_zero                            -0.120760     -0.759439   \n",
      "Broken_Truck_one                              0.005407      0.084271   \n",
      "Broken_Truck_twoOrMore                        0.142660      0.839586   \n",
      "Accident_victim_zero                         -0.083173     -0.324195   \n",
      "Accident_victim_one                           0.153215      0.285219   \n",
      "Accident_victim_twoOrMore                    -0.089465      0.107543   \n",
      "\n",
      "                                       Vehicle_excess  Accident_victim  \\\n",
      "Immobilized_bus                              0.137381         0.002833   \n",
      "Broken_Truck                                -0.081953         0.276806   \n",
      "Vehicle_excess                               1.000000         0.042013   \n",
      "Accident_victim                              0.042013         1.000000   \n",
      "Running_over                                -0.064150         0.059537   \n",
      "Fire_vehicles                               -0.016323         0.065649   \n",
      "Occurrence_involving_freight                -0.016323        -0.052182   \n",
      "Incident_involving_dangerous_freight        -0.016323         0.065649   \n",
      "Lack_of_electricity                         -0.053376         0.060547   \n",
      "Fire                                        -0.016323        -0.052182   \n",
      "Point_of_flooding                           -0.016455        -0.052013   \n",
      "Manifestations                              -0.044151        -0.095612   \n",
      "Defect_in_the_network_of_trolleybuses        0.036124         0.132863   \n",
      "Tree_on_the_road                            -0.040723        -0.081189   \n",
      "Semaphore_off                               -0.064150         0.059537   \n",
      "Intermittent_Semaphore                      -0.023168        -0.074064   \n",
      "Slowness_in_traffic_percent                 -0.090268         0.101105   \n",
      "Immobilized_bus_zero                        -0.062904         0.021406   \n",
      "Immobilized_bus_one                         -0.094072        -0.074373   \n",
      "Immobilized_bus_twoOrMore                    0.263426         0.081495   \n",
      "Broken_Truck_zero                            0.123832        -0.251706   \n",
      "Broken_Truck_one                            -0.130289         0.032368   \n",
      "Broken_Truck_twoOrMore                      -0.003392         0.273186   \n",
      "Accident_victim_zero                        -0.029267        -0.879459   \n",
      "Accident_victim_one                         -0.016193         0.429832   \n",
      "Accident_victim_twoOrMore                    0.071045         0.794662   \n",
      "\n",
      "                                       Running_over  Fire_vehicles  \\\n",
      "Immobilized_bus                        1.574141e-01       0.086631   \n",
      "Broken_Truck                           8.516766e-02       0.010558   \n",
      "Vehicle_excess                        -6.415003e-02      -0.016323   \n",
      "Accident_victim                        5.953741e-02       0.065649   \n",
      "Running_over                           1.000000e+00      -0.028273   \n",
      "Fire_vehicles                         -2.827296e-02       1.000000   \n",
      "Occurrence_involving_freight          -2.827296e-02      -0.007194   \n",
      "Incident_involving_dangerous_freight  -2.827296e-02      -0.007194   \n",
      "Lack_of_electricity                   -4.602769e-17      -0.023525   \n",
      "Fire                                  -2.827296e-02      -0.007194   \n",
      "Point_of_flooding                     -2.835917e-02      -0.007252   \n",
      "Manifestations                         3.277368e-02      -0.019459   \n",
      "Defect_in_the_network_of_trolleybuses  6.951992e-03      -0.033611   \n",
      "Tree_on_the_road                       4.702304e-02      -0.017948   \n",
      "Semaphore_off                         -1.111111e-01      -0.028273   \n",
      "Intermittent_Semaphore                 1.605145e-01      -0.010211   \n",
      "Slowness_in_traffic_percent            3.023089e-02       0.134259   \n",
      "Immobilized_bus_zero                  -1.852208e-01      -0.144164   \n",
      "Immobilized_bus_one                    1.387987e-01       0.173520   \n",
      "Immobilized_bus_twoOrMore              1.067861e-01      -0.022232   \n",
      "Broken_Truck_zero                     -1.286897e-01      -0.081258   \n",
      "Broken_Truck_one                       3.077287e-02       0.125286   \n",
      "Broken_Truck_twoOrMore                 1.233780e-01      -0.043354   \n",
      "Accident_victim_zero                  -1.723514e-01      -0.121249   \n",
      "Accident_victim_one                    2.636500e-01       0.152731   \n",
      "Accident_victim_twoOrMore             -1.066470e-01      -0.027137   \n",
      "\n",
      "                                       Occurrence_involving_freight  \\\n",
      "Immobilized_bus                                            0.086631   \n",
      "Broken_Truck                                               0.088353   \n",
      "Vehicle_excess                                            -0.016323   \n",
      "Accident_victim                                           -0.052182   \n",
      "Running_over                                              -0.028273   \n",
      "Fire_vehicles                                             -0.007194   \n",
      "Occurrence_involving_freight                               1.000000   \n",
      "Incident_involving_dangerous_freight                      -0.007194   \n",
      "Lack_of_electricity                                       -0.023525   \n",
      "Fire                                                      -0.007194   \n",
      "Point_of_flooding                                         -0.007252   \n",
      "Manifestations                                             0.369717   \n",
      "Defect_in_the_network_of_trolleybuses                     -0.033611   \n",
      "Tree_on_the_road                                          -0.017948   \n",
      "Semaphore_off                                              0.254457   \n",
      "Intermittent_Semaphore                                    -0.010211   \n",
      "Slowness_in_traffic_percent                                0.027943   \n",
      "Immobilized_bus_zero                                      -0.144164   \n",
      "Immobilized_bus_one                                        0.173520   \n",
      "Immobilized_bus_twoOrMore                                 -0.022232   \n",
      "Broken_Truck_zero                                         -0.081258   \n",
      "Broken_Truck_one                                          -0.057423   \n",
      "Broken_Truck_twoOrMore                                     0.165942   \n",
      "Accident_victim_zero                                       0.059335   \n",
      "Accident_victim_one                                       -0.047104   \n",
      "Accident_victim_twoOrMore                                 -0.027137   \n",
      "\n",
      "                                       Incident_involving_dangerous_freight  \\\n",
      "Immobilized_bus                                                    0.217043   \n",
      "Broken_Truck                                                       0.088353   \n",
      "Vehicle_excess                                                    -0.016323   \n",
      "Accident_victim                                                    0.065649   \n",
      "Running_over                                                      -0.028273   \n",
      "Fire_vehicles                                                     -0.007194   \n",
      "Occurrence_involving_freight                                      -0.007194   \n",
      "Incident_involving_dangerous_freight                               1.000000   \n",
      "Lack_of_electricity                                               -0.023525   \n",
      "Fire                                                              -0.007194   \n",
      "Point_of_flooding                                                 -0.007252   \n",
      "Manifestations                                                     0.369717   \n",
      "Defect_in_the_network_of_trolleybuses                             -0.033611   \n",
      "Tree_on_the_road                                                  -0.017948   \n",
      "Semaphore_off                                                     -0.028273   \n",
      "Intermittent_Semaphore                                            -0.010211   \n",
      "Slowness_in_traffic_percent                                        0.002349   \n",
      "Immobilized_bus_zero                                              -0.144164   \n",
      "Immobilized_bus_one                                               -0.041461   \n",
      "Immobilized_bus_twoOrMore                                          0.323599   \n",
      "Broken_Truck_zero                                                 -0.081258   \n",
      "Broken_Truck_one                                                  -0.057423   \n",
      "Broken_Truck_twoOrMore                                             0.165942   \n",
      "Accident_victim_zero                                              -0.121249   \n",
      "Accident_victim_one                                                0.152731   \n",
      "Accident_victim_twoOrMore                                         -0.027137   \n",
      "\n",
      "                                       Lack_of_electricity      Fire  ...  \\\n",
      "Immobilized_bus                              -1.522982e-02 -0.043781  ...   \n",
      "Broken_Truck                                  8.539994e-02  0.010558  ...   \n",
      "Vehicle_excess                               -5.337605e-02 -0.016323  ...   \n",
      "Accident_victim                               6.054659e-02 -0.052182  ...   \n",
      "Running_over                                 -4.602769e-17 -0.028273  ...   \n",
      "Fire_vehicles                                -2.352453e-02 -0.007194  ...   \n",
      "Occurrence_involving_freight                 -2.352453e-02 -0.007194  ...   \n",
      "Incident_involving_dangerous_freight         -2.352453e-02 -0.007194  ...   \n",
      "Lack_of_electricity                           1.000000e+00 -0.023525  ...   \n",
      "Fire                                         -2.352453e-02  1.000000  ...   \n",
      "Point_of_flooding                            -2.173773e-02 -0.007252  ...   \n",
      "Manifestations                               -6.362848e-02 -0.019459  ...   \n",
      "Defect_in_the_network_of_trolleybuses        -2.892203e-02 -0.033611  ...   \n",
      "Tree_on_the_road                             -5.868830e-02 -0.017948  ...   \n",
      "Semaphore_off                                 2.773501e-01 -0.028273  ...   \n",
      "Intermittent_Semaphore                       -3.338903e-02 -0.010211  ...   \n",
      "Slowness_in_traffic_percent                   3.540360e-01 -0.044903  ...   \n",
      "Immobilized_bus_zero                         -2.719641e-02  0.049903  ...   \n",
      "Immobilized_bus_one                           7.531795e-02 -0.041461  ...   \n",
      "Immobilized_bus_twoOrMore                    -7.269657e-02 -0.022232  ...   \n",
      "Broken_Truck_zero                            -9.914470e-02 -0.081258  ...   \n",
      "Broken_Truck_one                              5.120916e-02  0.125286  ...   \n",
      "Broken_Truck_twoOrMore                        6.354936e-02 -0.043354  ...   \n",
      "Accident_victim_zero                         -1.012271e-01  0.059335  ...   \n",
      "Accident_victim_one                           1.073513e-01 -0.047104  ...   \n",
      "Accident_victim_twoOrMore                     6.825819e-03 -0.027137  ...   \n",
      "\n",
      "                                       Slowness_in_traffic_percent  \\\n",
      "Immobilized_bus                                           0.101221   \n",
      "Broken_Truck                                              0.135241   \n",
      "Vehicle_excess                                           -0.090268   \n",
      "Accident_victim                                           0.101105   \n",
      "Running_over                                              0.030231   \n",
      "Fire_vehicles                                             0.134259   \n",
      "Occurrence_involving_freight                              0.027943   \n",
      "Incident_involving_dangerous_freight                      0.002349   \n",
      "Lack_of_electricity                                       0.354036   \n",
      "Fire                                                     -0.044903   \n",
      "Point_of_flooding                                        -0.058922   \n",
      "Manifestations                                            0.069494   \n",
      "Defect_in_the_network_of_trolleybuses                    -0.077136   \n",
      "Tree_on_the_road                                         -0.094013   \n",
      "Semaphore_off                                             0.297722   \n",
      "Intermittent_Semaphore                                   -0.116826   \n",
      "Slowness_in_traffic_percent                               1.000000   \n",
      "Immobilized_bus_zero                                     -0.173723   \n",
      "Immobilized_bus_one                                       0.213986   \n",
      "Immobilized_bus_twoOrMore                                -0.034655   \n",
      "Broken_Truck_zero                                        -0.071054   \n",
      "Broken_Truck_one                                          0.008745   \n",
      "Broken_Truck_twoOrMore                                    0.077567   \n",
      "Accident_victim_zero                                     -0.127386   \n",
      "Accident_victim_one                                       0.074362   \n",
      "Accident_victim_twoOrMore                                 0.097405   \n",
      "\n",
      "                                       Immobilized_bus_zero  \\\n",
      "Immobilized_bus                                   -0.877324   \n",
      "Broken_Truck                                      -0.163173   \n",
      "Vehicle_excess                                    -0.062904   \n",
      "Accident_victim                                    0.021406   \n",
      "Running_over                                      -0.185221   \n",
      "Fire_vehicles                                     -0.144164   \n",
      "Occurrence_involving_freight                      -0.144164   \n",
      "Incident_involving_dangerous_freight              -0.144164   \n",
      "Lack_of_electricity                               -0.027196   \n",
      "Fire                                               0.049903   \n",
      "Point_of_flooding                                  0.050111   \n",
      "Manifestations                                    -0.089984   \n",
      "Defect_in_the_network_of_trolleybuses             -0.196329   \n",
      "Tree_on_the_road                                  -0.036888   \n",
      "Semaphore_off                                      0.032686   \n",
      "Intermittent_Semaphore                            -0.066894   \n",
      "Slowness_in_traffic_percent                       -0.173723   \n",
      "Immobilized_bus_zero                               1.000000   \n",
      "Immobilized_bus_one                               -0.830822   \n",
      "Immobilized_bus_twoOrMore                         -0.445503   \n",
      "Broken_Truck_zero                                  0.171058   \n",
      "Broken_Truck_one                                  -0.094549   \n",
      "Broken_Truck_twoOrMore                            -0.102547   \n",
      "Accident_victim_zero                               0.040760   \n",
      "Accident_victim_one                               -0.096811   \n",
      "Accident_victim_twoOrMore                          0.075616   \n",
      "\n",
      "                                       Immobilized_bus_one  \\\n",
      "Immobilized_bus                                   0.499255   \n",
      "Broken_Truck                                      0.094055   \n",
      "Vehicle_excess                                   -0.094072   \n",
      "Accident_victim                                  -0.074373   \n",
      "Running_over                                      0.138799   \n",
      "Fire_vehicles                                     0.173520   \n",
      "Occurrence_involving_freight                      0.173520   \n",
      "Incident_involving_dangerous_freight             -0.041461   \n",
      "Lack_of_electricity                               0.075318   \n",
      "Fire                                             -0.041461   \n",
      "Point_of_flooding                                -0.041579   \n",
      "Manifestations                                    0.053994   \n",
      "Defect_in_the_network_of_trolleybuses             0.123469   \n",
      "Tree_on_the_road                                  0.075341   \n",
      "Semaphore_off                                     0.018104   \n",
      "Intermittent_Semaphore                            0.093718   \n",
      "Slowness_in_traffic_percent                       0.213986   \n",
      "Immobilized_bus_zero                             -0.830822   \n",
      "Immobilized_bus_one                               1.000000   \n",
      "Immobilized_bus_twoOrMore                        -0.128123   \n",
      "Broken_Truck_zero                                -0.142119   \n",
      "Broken_Truck_one                                  0.176049   \n",
      "Broken_Truck_twoOrMore                           -0.026485   \n",
      "Accident_victim_zero                              0.072134   \n",
      "Accident_victim_one                              -0.058192   \n",
      "Accident_victim_twoOrMore                        -0.031635   \n",
      "\n",
      "                                       Immobilized_bus_twoOrMore  \\\n",
      "Immobilized_bus                                         0.760272   \n",
      "Broken_Truck                                            0.139474   \n",
      "Vehicle_excess                                          0.263426   \n",
      "Accident_victim                                         0.081495   \n",
      "Running_over                                            0.106786   \n",
      "Fire_vehicles                                          -0.022232   \n",
      "Occurrence_involving_freight                           -0.022232   \n",
      "Incident_involving_dangerous_freight                    0.323599   \n",
      "Lack_of_electricity                                    -0.072697   \n",
      "Fire                                                   -0.022232   \n",
      "Point_of_flooding                                      -0.022411   \n",
      "Manifestations                                          0.073495   \n",
      "Defect_in_the_network_of_trolleybuses                   0.151242   \n",
      "Tree_on_the_road                                       -0.055464   \n",
      "Semaphore_off                                          -0.087370   \n",
      "Intermittent_Semaphore                                 -0.031554   \n",
      "Slowness_in_traffic_percent                            -0.034655   \n",
      "Immobilized_bus_zero                                   -0.445503   \n",
      "Immobilized_bus_one                                    -0.128123   \n",
      "Immobilized_bus_twoOrMore                               1.000000   \n",
      "Broken_Truck_zero                                      -0.076207   \n",
      "Broken_Truck_one                                       -0.114715   \n",
      "Broken_Truck_twoOrMore                                  0.225345   \n",
      "Accident_victim_zero                                   -0.188673   \n",
      "Accident_victim_one                                     0.266130   \n",
      "Accident_victim_twoOrMore                              -0.083860   \n",
      "\n",
      "                                       Broken_Truck_zero  Broken_Truck_one  \\\n",
      "Immobilized_bus                                -0.120760          0.005407   \n",
      "Broken_Truck                                   -0.759439          0.084271   \n",
      "Vehicle_excess                                  0.123832         -0.130289   \n",
      "Accident_victim                                -0.251706          0.032368   \n",
      "Running_over                                   -0.128690          0.030773   \n",
      "Fire_vehicles                                  -0.081258          0.125286   \n",
      "Occurrence_involving_freight                   -0.081258         -0.057423   \n",
      "Incident_involving_dangerous_freight           -0.081258         -0.057423   \n",
      "Lack_of_electricity                            -0.099145          0.051209   \n",
      "Fire                                           -0.081258          0.125286   \n",
      "Point_of_flooding                               0.088229         -0.057611   \n",
      "Manifestations                                 -0.022963         -0.084717   \n",
      "Defect_in_the_network_of_trolleybuses          -0.129128         -0.043642   \n",
      "Tree_on_the_road                               -0.061522          0.084651   \n",
      "Semaphore_off                                  -0.128690         -0.020515   \n",
      "Intermittent_Semaphore                          0.005164          0.048160   \n",
      "Slowness_in_traffic_percent                    -0.071054          0.008745   \n",
      "Immobilized_bus_zero                            0.171058         -0.094549   \n",
      "Immobilized_bus_one                            -0.142119          0.176049   \n",
      "Immobilized_bus_twoOrMore                      -0.076207         -0.114715   \n",
      "Broken_Truck_zero                               1.000000         -0.648585   \n",
      "Broken_Truck_one                               -0.648585          1.000000   \n",
      "Broken_Truck_twoOrMore                         -0.489681         -0.346042   \n",
      "Accident_victim_zero                            0.304864         -0.083300   \n",
      "Accident_victim_one                            -0.296217          0.131539   \n",
      "Accident_victim_twoOrMore                      -0.060176         -0.057558   \n",
      "\n",
      "                                       Broken_Truck_twoOrMore  \\\n",
      "Immobilized_bus                                      0.142660   \n",
      "Broken_Truck                                         0.839586   \n",
      "Vehicle_excess                                      -0.003392   \n",
      "Accident_victim                                      0.273186   \n",
      "Running_over                                         0.123378   \n",
      "Fire_vehicles                                       -0.043354   \n",
      "Occurrence_involving_freight                         0.165942   \n",
      "Incident_involving_dangerous_freight                 0.165942   \n",
      "Lack_of_electricity                                  0.063549   \n",
      "Fire                                                -0.043354   \n",
      "Point_of_flooding                                   -0.042761   \n",
      "Manifestations                                       0.125350   \n",
      "Defect_in_the_network_of_trolleybuses                0.209162   \n",
      "Tree_on_the_road                                    -0.021134   \n",
      "Semaphore_off                                        0.182129   \n",
      "Intermittent_Semaphore                              -0.061534   \n",
      "Slowness_in_traffic_percent                          0.077567   \n",
      "Immobilized_bus_zero                                -0.102547   \n",
      "Immobilized_bus_one                                 -0.026485   \n",
      "Immobilized_bus_twoOrMore                            0.225345   \n",
      "Broken_Truck_zero                                   -0.489681   \n",
      "Broken_Truck_one                                    -0.346042   \n",
      "Broken_Truck_twoOrMore                               1.000000   \n",
      "Accident_victim_zero                                -0.280368   \n",
      "Accident_victim_one                                  0.214451   \n",
      "Accident_victim_twoOrMore                            0.140110   \n",
      "\n",
      "                                       Accident_victim_zero  \\\n",
      "Immobilized_bus                                   -0.083173   \n",
      "Broken_Truck                                      -0.324195   \n",
      "Vehicle_excess                                    -0.029267   \n",
      "Accident_victim                                   -0.879459   \n",
      "Running_over                                      -0.172351   \n",
      "Fire_vehicles                                     -0.121249   \n",
      "Occurrence_involving_freight                       0.059335   \n",
      "Incident_involving_dangerous_freight              -0.121249   \n",
      "Lack_of_electricity                               -0.101227   \n",
      "Fire                                               0.059335   \n",
      "Point_of_flooding                                  0.058999   \n",
      "Manifestations                                     0.090710   \n",
      "Defect_in_the_network_of_trolleybuses             -0.078023   \n",
      "Tree_on_the_road                                   0.072940   \n",
      "Semaphore_off                                     -0.121660   \n",
      "Intermittent_Semaphore                             0.084215   \n",
      "Slowness_in_traffic_percent                       -0.127386   \n",
      "Immobilized_bus_zero                               0.040760   \n",
      "Immobilized_bus_one                                0.072134   \n",
      "Immobilized_bus_twoOrMore                         -0.188673   \n",
      "Broken_Truck_zero                                  0.304864   \n",
      "Broken_Truck_one                                  -0.083300   \n",
      "Broken_Truck_twoOrMore                            -0.280368   \n",
      "Accident_victim_zero                               1.000000   \n",
      "Accident_victim_one                               -0.793871   \n",
      "Accident_victim_twoOrMore                         -0.457356   \n",
      "\n",
      "                                       Accident_victim_one  \\\n",
      "Immobilized_bus                                   0.153215   \n",
      "Broken_Truck                                      0.285219   \n",
      "Vehicle_excess                                   -0.016193   \n",
      "Accident_victim                                   0.429832   \n",
      "Running_over                                      0.263650   \n",
      "Fire_vehicles                                     0.152731   \n",
      "Occurrence_involving_freight                     -0.047104   \n",
      "Incident_involving_dangerous_freight              0.152731   \n",
      "Lack_of_electricity                               0.107351   \n",
      "Fire                                             -0.047104   \n",
      "Point_of_flooding                                -0.046684   \n",
      "Manifestations                                   -0.050190   \n",
      "Defect_in_the_network_of_trolleybuses             0.025621   \n",
      "Tree_on_the_road                                 -0.034423   \n",
      "Semaphore_off                                     0.151458   \n",
      "Intermittent_Semaphore                           -0.066856   \n",
      "Slowness_in_traffic_percent                       0.074362   \n",
      "Immobilized_bus_zero                             -0.096811   \n",
      "Immobilized_bus_one                              -0.058192   \n",
      "Immobilized_bus_twoOrMore                         0.266130   \n",
      "Broken_Truck_zero                                -0.296217   \n",
      "Broken_Truck_one                                  0.131539   \n",
      "Broken_Truck_twoOrMore                            0.214451   \n",
      "Accident_victim_zero                             -0.793871   \n",
      "Accident_victim_one                               1.000000   \n",
      "Accident_victim_twoOrMore                        -0.177679   \n",
      "\n",
      "                                       Accident_victim_twoOrMore  \n",
      "Immobilized_bus                                        -0.089465  \n",
      "Broken_Truck                                            0.107543  \n",
      "Vehicle_excess                                          0.071045  \n",
      "Accident_victim                                         0.794662  \n",
      "Running_over                                           -0.106647  \n",
      "Fire_vehicles                                          -0.027137  \n",
      "Occurrence_involving_freight                           -0.027137  \n",
      "Incident_involving_dangerous_freight                   -0.027137  \n",
      "Lack_of_electricity                                     0.006826  \n",
      "Fire                                                   -0.027137  \n",
      "Point_of_flooding                                      -0.027209  \n",
      "Manifestations                                         -0.073399  \n",
      "Defect_in_the_network_of_trolleybuses                   0.088798  \n",
      "Tree_on_the_road                                       -0.067701  \n",
      "Semaphore_off                                          -0.024611  \n",
      "Intermittent_Semaphore                                 -0.038516  \n",
      "Slowness_in_traffic_percent                             0.097405  \n",
      "Immobilized_bus_zero                                    0.075616  \n",
      "Immobilized_bus_one                                    -0.031635  \n",
      "Immobilized_bus_twoOrMore                              -0.083860  \n",
      "Broken_Truck_zero                                      -0.060176  \n",
      "Broken_Truck_one                                       -0.057558  \n",
      "Broken_Truck_twoOrMore                                  0.140110  \n",
      "Accident_victim_zero                                   -0.457356  \n",
      "Accident_victim_one                                    -0.177679  \n",
      "Accident_victim_twoOrMore                               1.000000  \n",
      "\n",
      "[26 rows x 26 columns]\n"
     ]
    }
   ],
   "source": [
    "print(df.corr())"
   ]
  },
  {
   "cell_type": "markdown",
   "metadata": {},
   "source": [
    "# Linear Regression using scikit-learn - Peding"
   ]
  },
  {
   "cell_type": "code",
   "execution_count": null,
   "metadata": {},
   "outputs": [],
   "source": []
  }
 ],
 "metadata": {
  "kernelspec": {
   "display_name": "Python 3",
   "language": "python",
   "name": "python3"
  },
  "language_info": {
   "codemirror_mode": {
    "name": "ipython",
    "version": 3
   },
   "file_extension": ".py",
   "mimetype": "text/x-python",
   "name": "python",
   "nbconvert_exporter": "python",
   "pygments_lexer": "ipython3",
   "version": "3.7.4"
  }
 },
 "nbformat": 4,
 "nbformat_minor": 2
}
