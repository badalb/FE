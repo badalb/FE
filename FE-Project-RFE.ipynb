{
 "cells": [
  {
   "cell_type": "markdown",
   "metadata": {},
   "source": [
    "# Import all dependencies and libraries"
   ]
  },
  {
   "cell_type": "code",
   "execution_count": 892,
   "metadata": {},
   "outputs": [],
   "source": [
    "%matplotlib inline\n",
    "import matplotlib.pyplot as plt\n",
    "import seaborn as sns\n",
    "import numpy as np\n",
    "import pandas as pd \n",
    "from scipy.spatial.distance import squareform\n",
    "from scipy.spatial.distance import pdist"
   ]
  },
  {
   "cell_type": "markdown",
   "metadata": {},
   "source": [
    "# Transform source data to csv"
   ]
  },
  {
   "cell_type": "code",
   "execution_count": 873,
   "metadata": {},
   "outputs": [],
   "source": [
    "# Importing library\n",
    "import os\n",
    "\n",
    "# Getting all the arff files from the current directory\n",
    "files = [arff for arff in os.listdir('.') if arff.endswith(\".arff\")]\n",
    "\n",
    "# Function for converting arff list to csv list\n",
    "def toCsv(content):\n",
    "    data = False\n",
    "    header = \"\"\n",
    "    newContent = []\n",
    "    for line in content:\n",
    "        if not data:\n",
    "            if \"@attribute\" in line:\n",
    "                attri = line.split()\n",
    "                columnName = attri[attri.index(\"@attribute\")+1]\n",
    "                header = header + columnName + \",\"\n",
    "            elif \"@data\" in line:\n",
    "                data = True\n",
    "                header = header[:-1]\n",
    "                header += '\\n'\n",
    "                newContent.append(header)\n",
    "        else:\n",
    "            newContent.append(line)\n",
    "    return newContent\n",
    "\n",
    "# Main loop for reading and writing files\n",
    "for file in files:\n",
    "    with open(file , \"r\") as inFile:\n",
    "        content = inFile.readlines()\n",
    "        name,ext = os.path.splitext(inFile.name)\n",
    "        new = toCsv(content)\n",
    "        with open(name+\".csv\", \"w\") as outFile:\n",
    "            outFile.writelines(new)"
   ]
  },
  {
   "cell_type": "markdown",
   "metadata": {},
   "source": [
    "# Import data visualize data"
   ]
  },
  {
   "cell_type": "code",
   "execution_count": 893,
   "metadata": {},
   "outputs": [
    {
     "name": "stdout",
     "output_type": "stream",
     "text": [
      "(140, 18)\n"
     ]
    },
    {
     "data": {
      "text/html": [
       "<div>\n",
       "<style scoped>\n",
       "    .dataframe tbody tr th:only-of-type {\n",
       "        vertical-align: middle;\n",
       "    }\n",
       "\n",
       "    .dataframe tbody tr th {\n",
       "        vertical-align: top;\n",
       "    }\n",
       "\n",
       "    .dataframe thead th {\n",
       "        text-align: right;\n",
       "    }\n",
       "</style>\n",
       "<table border=\"1\" class=\"dataframe\">\n",
       "  <thead>\n",
       "    <tr style=\"text-align: right;\">\n",
       "      <th></th>\n",
       "      <th>Hour</th>\n",
       "      <th>Immobilized_bus</th>\n",
       "      <th>Broken_Truck</th>\n",
       "      <th>Vehicle_excess</th>\n",
       "      <th>Accident_victim</th>\n",
       "      <th>Running_over</th>\n",
       "      <th>Fire_vehicles</th>\n",
       "      <th>Occurrence_involving_freight</th>\n",
       "      <th>Incident_involving_dangerous_freight</th>\n",
       "      <th>Lack_of_electricity</th>\n",
       "      <th>Fire</th>\n",
       "      <th>Point_of_flooding</th>\n",
       "      <th>Manifestations</th>\n",
       "      <th>Defect_in_the_network_of_trolleybuses</th>\n",
       "      <th>Tree_on_the_road</th>\n",
       "      <th>Semaphore_off</th>\n",
       "      <th>Intermittent_Semaphore</th>\n",
       "      <th>Slowness_in_traffic_percent</th>\n",
       "    </tr>\n",
       "  </thead>\n",
       "  <tbody>\n",
       "    <tr>\n",
       "      <th>0</th>\n",
       "      <td>7:00</td>\n",
       "      <td>0.0</td>\n",
       "      <td>0.0</td>\n",
       "      <td>T</td>\n",
       "      <td>0.0</td>\n",
       "      <td>0.0</td>\n",
       "      <td>NO</td>\n",
       "      <td>0.0</td>\n",
       "      <td>0.0</td>\n",
       "      <td>0.0</td>\n",
       "      <td>0.0</td>\n",
       "      <td>0.0</td>\n",
       "      <td>0.0</td>\n",
       "      <td>0.0</td>\n",
       "      <td>0.0</td>\n",
       "      <td>0.0</td>\n",
       "      <td>0.0</td>\n",
       "      <td>4.1</td>\n",
       "    </tr>\n",
       "    <tr>\n",
       "      <th>1</th>\n",
       "      <td>7:30</td>\n",
       "      <td>0.0</td>\n",
       "      <td>0.0</td>\n",
       "      <td>F</td>\n",
       "      <td>0.0</td>\n",
       "      <td>0.0</td>\n",
       "      <td>NO</td>\n",
       "      <td>0.0</td>\n",
       "      <td>0.0</td>\n",
       "      <td>0.0</td>\n",
       "      <td>0.0</td>\n",
       "      <td>0.0</td>\n",
       "      <td>0.0</td>\n",
       "      <td>0.0</td>\n",
       "      <td>0.0</td>\n",
       "      <td>0.0</td>\n",
       "      <td>0.0</td>\n",
       "      <td>6.6</td>\n",
       "    </tr>\n",
       "    <tr>\n",
       "      <th>2</th>\n",
       "      <td>8:00</td>\n",
       "      <td>0.0</td>\n",
       "      <td>0.0</td>\n",
       "      <td>F</td>\n",
       "      <td>0.0</td>\n",
       "      <td>0.0</td>\n",
       "      <td>NO</td>\n",
       "      <td>0.0</td>\n",
       "      <td>0.0</td>\n",
       "      <td>0.0</td>\n",
       "      <td>0.0</td>\n",
       "      <td>0.0</td>\n",
       "      <td>0.0</td>\n",
       "      <td>0.0</td>\n",
       "      <td>0.0</td>\n",
       "      <td>0.0</td>\n",
       "      <td>0.0</td>\n",
       "      <td>8.7</td>\n",
       "    </tr>\n",
       "    <tr>\n",
       "      <th>3</th>\n",
       "      <td>8:30</td>\n",
       "      <td>0.0</td>\n",
       "      <td>0.0</td>\n",
       "      <td>F</td>\n",
       "      <td>0.0</td>\n",
       "      <td>0.0</td>\n",
       "      <td>NO</td>\n",
       "      <td>0.0</td>\n",
       "      <td>0.0</td>\n",
       "      <td>0.0</td>\n",
       "      <td>0.0</td>\n",
       "      <td>0.0</td>\n",
       "      <td>0.0</td>\n",
       "      <td>0.0</td>\n",
       "      <td>0.0</td>\n",
       "      <td>0.0</td>\n",
       "      <td>0.0</td>\n",
       "      <td>9.2</td>\n",
       "    </tr>\n",
       "    <tr>\n",
       "      <th>4</th>\n",
       "      <td>9:00</td>\n",
       "      <td>0.0</td>\n",
       "      <td>0.0</td>\n",
       "      <td>F</td>\n",
       "      <td>0.0</td>\n",
       "      <td>0.0</td>\n",
       "      <td>NO</td>\n",
       "      <td>0.0</td>\n",
       "      <td>0.0</td>\n",
       "      <td>0.0</td>\n",
       "      <td>0.0</td>\n",
       "      <td>0.0</td>\n",
       "      <td>0.0</td>\n",
       "      <td>0.0</td>\n",
       "      <td>0.0</td>\n",
       "      <td>0.0</td>\n",
       "      <td>0.0</td>\n",
       "      <td>11.1</td>\n",
       "    </tr>\n",
       "  </tbody>\n",
       "</table>\n",
       "</div>"
      ],
      "text/plain": [
       "   Hour  Immobilized_bus  Broken_Truck Vehicle_excess Accident_victim  \\\n",
       "0  7:00              0.0           0.0              T             0.0   \n",
       "1  7:30              0.0           0.0              F             0.0   \n",
       "2  8:00              0.0           0.0              F             0.0   \n",
       "3  8:30              0.0           0.0              F             0.0   \n",
       "4  9:00              0.0           0.0              F             0.0   \n",
       "\n",
       "  Running_over Fire_vehicles  Occurrence_involving_freight  \\\n",
       "0          0.0            NO                           0.0   \n",
       "1          0.0            NO                           0.0   \n",
       "2          0.0            NO                           0.0   \n",
       "3          0.0            NO                           0.0   \n",
       "4          0.0            NO                           0.0   \n",
       "\n",
       "  Incident_involving_dangerous_freight  Lack_of_electricity  Fire  \\\n",
       "0                                  0.0                  0.0   0.0   \n",
       "1                                  0.0                  0.0   0.0   \n",
       "2                                  0.0                  0.0   0.0   \n",
       "3                                  0.0                  0.0   0.0   \n",
       "4                                  0.0                  0.0   0.0   \n",
       "\n",
       "   Point_of_flooding  Manifestations Defect_in_the_network_of_trolleybuses  \\\n",
       "0                0.0             0.0                                   0.0   \n",
       "1                0.0             0.0                                   0.0   \n",
       "2                0.0             0.0                                   0.0   \n",
       "3                0.0             0.0                                   0.0   \n",
       "4                0.0             0.0                                   0.0   \n",
       "\n",
       "   Tree_on_the_road Semaphore_off  Intermittent_Semaphore  \\\n",
       "0               0.0           0.0                     0.0   \n",
       "1               0.0           0.0                     0.0   \n",
       "2               0.0           0.0                     0.0   \n",
       "3               0.0           0.0                     0.0   \n",
       "4               0.0           0.0                     0.0   \n",
       "\n",
       "   Slowness_in_traffic_percent  \n",
       "0                          4.1  \n",
       "1                          6.6  \n",
       "2                          8.7  \n",
       "3                          9.2  \n",
       "4                         11.1  "
      ]
     },
     "execution_count": 893,
     "metadata": {},
     "output_type": "execute_result"
    }
   ],
   "source": [
    "df = pd.read_csv(\"Behavior of the urban traffic - modified.csv\") \n",
    "print(df.shape)\n",
    "df.head()\n",
    "#print(df.tail())"
   ]
  },
  {
   "cell_type": "code",
   "execution_count": 894,
   "metadata": {},
   "outputs": [
    {
     "data": {
      "text/plain": [
       "Hour                                      object\n",
       "Immobilized_bus                          float64\n",
       "Broken_Truck                             float64\n",
       "Vehicle_excess                            object\n",
       "Accident_victim                           object\n",
       "Running_over                              object\n",
       "Fire_vehicles                             object\n",
       "Occurrence_involving_freight             float64\n",
       "Incident_involving_dangerous_freight      object\n",
       "Lack_of_electricity                      float64\n",
       "Fire                                     float64\n",
       "Point_of_flooding                        float64\n",
       "Manifestations                           float64\n",
       "Defect_in_the_network_of_trolleybuses     object\n",
       "Tree_on_the_road                         float64\n",
       "Semaphore_off                             object\n",
       "Intermittent_Semaphore                   float64\n",
       "Slowness_in_traffic_percent              float64\n",
       "dtype: object"
      ]
     },
     "execution_count": 894,
     "metadata": {},
     "output_type": "execute_result"
    }
   ],
   "source": [
    "df.dtypes"
   ]
  },
  {
   "cell_type": "markdown",
   "metadata": {},
   "source": [
    "# Data Cleansing "
   ]
  },
  {
   "cell_type": "markdown",
   "metadata": {},
   "source": [
    "Check unique values for the given column to understand nature of data (Categorical/Numerical) and missing/empty rows, NA values etc. We will try to fill missing/empty/NA values discard rows and create columns for categorical variables."
   ]
  },
  {
   "cell_type": "markdown",
   "metadata": {},
   "source": [
    "#### Exploratory Analysis for Hour"
   ]
  },
  {
   "cell_type": "code",
   "execution_count": 926,
   "metadata": {},
   "outputs": [
    {
     "name": "stdout",
     "output_type": "stream",
     "text": [
      "['7:00' '7:30' '8:00' '8:30' '9:00' '9:30' '10:00' '10:30' '11:00' '11:30'\n",
      " '12:00' '12:30' '13:00' '13:30' '14:00' '14:30' '15:00' '15:30' '16:00'\n",
      " '16:30' '17:00' '17:30' '18:00' '18:30' '19:00' '19:30' '20:00']\n",
      "0\n",
      "False\n"
     ]
    }
   ],
   "source": [
    "print(df.Hour.unique())\n",
    "print(df['Hour'].isnull().sum())\n",
    "print(df['Hour'].empty)\n",
    "\n",
    "df['Hour']= pd.to_datetime(df['Hour']).dt.time\n",
    "df['Hour']= df['Hour'].index"
   ]
  },
  {
   "cell_type": "markdown",
   "metadata": {},
   "source": [
    "#### Exploratory Analysis for Immobilized_bus feature"
   ]
  },
  {
   "cell_type": "code",
   "execution_count": 896,
   "metadata": {},
   "outputs": [
    {
     "name": "stdout",
     "output_type": "stream",
     "text": [
      "[0. 2. 1. 4.]\n",
      "0.0    104\n",
      "1.0     27\n",
      "2.0      8\n",
      "4.0      1\n",
      "Name: Immobilized_bus, dtype: int64\n"
     ]
    },
    {
     "data": {
      "text/plain": [
       "<matplotlib.axes._subplots.AxesSubplot at 0x7fe0e19d4610>"
      ]
     },
     "execution_count": 896,
     "metadata": {},
     "output_type": "execute_result"
    },
    {
     "data": {
      "image/png": "[encoded data removed]",
      "text/plain": [
       "<Figure size 432x288 with 1 Axes>"
      ]
     },
     "metadata": {
      "needs_background": "light"
     },
     "output_type": "display_data"
    }
   ],
   "source": [
    "print(df.Immobilized_bus.unique())\n",
    "print(df['Immobilized_bus'].value_counts(dropna=False))\n",
    "sns.boxplot('Immobilized_bus', data = df)"
   ]
  },
  {
   "cell_type": "code",
   "execution_count": 897,
   "metadata": {},
   "outputs": [
    {
     "name": "stdout",
     "output_type": "stream",
     "text": [
      "1    104\n",
      "0     36\n",
      "Name: Immobilized_bus_zero, dtype: int64\n",
      "0    113\n",
      "1     27\n",
      "Name: Immobilized_bus_one, dtype: int64\n",
      "0    131\n",
      "1      9\n",
      "Name: Immobilized_bus_twoOrMore, dtype: int64\n",
      "Index(['Hour', 'Immobilized_bus', 'Broken_Truck', 'Vehicle_excess',\n",
      "       'Accident_victim', 'Running_over', 'Fire_vehicles',\n",
      "       'Occurrence_involving_freight', 'Incident_involving_dangerous_freight',\n",
      "       'Lack_of_electricity', 'Fire', 'Point_of_flooding', 'Manifestations',\n",
      "       'Defect_in_the_network_of_trolleybuses', 'Tree_on_the_road',\n",
      "       'Semaphore_off', 'Intermittent_Semaphore',\n",
      "       'Slowness_in_traffic_percent', 'Immobilized_bus_zero',\n",
      "       'Immobilized_bus_one', 'Immobilized_bus_twoOrMore'],\n",
      "      dtype='object')\n"
     ]
    }
   ],
   "source": [
    "df['Immobilized_bus_zero'] = [1 if x ==0.0 else 0 for x in df['Immobilized_bus']]\n",
    "print(df['Immobilized_bus_zero'].value_counts(dropna=False))\n",
    "df['Immobilized_bus_one'] = [1 if x ==1.0 else 0 for x in df['Immobilized_bus']]\n",
    "print(df['Immobilized_bus_one'].value_counts(dropna=False))\n",
    "df['Immobilized_bus_twoOrMore'] = [1 if x >1.0 else 0 for x in df['Immobilized_bus']]\n",
    "print(df['Immobilized_bus_twoOrMore'].value_counts(dropna=False))\n",
    "print(df.columns)"
   ]
  },
  {
   "cell_type": "markdown",
   "metadata": {},
   "source": [
    "#### Exploratory Analysis for Broken_Truck feature"
   ]
  },
  {
   "cell_type": "code",
   "execution_count": 898,
   "metadata": {},
   "outputs": [
    {
     "name": "stdout",
     "output_type": "stream",
     "text": [
      "[   0. 1000.    2.    1.    5.    4.    3.]\n",
      "0.0       66\n",
      "1.0       44\n",
      "2.0       17\n",
      "3.0        6\n",
      "4.0        5\n",
      "5.0        1\n",
      "1000.0     1\n",
      "Name: Broken_Truck, dtype: int64\n"
     ]
    },
    {
     "data": {
      "text/plain": [
       "<matplotlib.axes._subplots.AxesSubplot at 0x7fe0b44b0ad0>"
      ]
     },
     "execution_count": 898,
     "metadata": {},
     "output_type": "execute_result"
    },
    {
     "data": {
      "image/png": "[encoded data removed]",
      "text/plain": [
       "<Figure size 432x288 with 1 Axes>"
      ]
     },
     "metadata": {
      "needs_background": "light"
     },
     "output_type": "display_data"
    }
   ],
   "source": [
    "print(df.Broken_Truck.unique())\n",
    "print(df['Broken_Truck'].value_counts(dropna=False))\n",
    "sns.boxplot('Broken_Truck', data = df)"
   ]
  },
  {
   "cell_type": "code",
   "execution_count": 899,
   "metadata": {},
   "outputs": [
    {
     "name": "stdout",
     "output_type": "stream",
     "text": [
      "0    73\n",
      "1    67\n",
      "Name: Broken_Truck_zero, dtype: int64\n",
      "0    96\n",
      "1    44\n",
      "Name: Broken_Truck_one, dtype: int64\n",
      "0    111\n",
      "1     29\n",
      "Name: Broken_Truck_twoOrMore, dtype: int64\n"
     ]
    },
    {
     "data": {
      "text/plain": [
       "Index(['Hour', 'Immobilized_bus', 'Broken_Truck', 'Vehicle_excess',\n",
       "       'Accident_victim', 'Running_over', 'Fire_vehicles',\n",
       "       'Occurrence_involving_freight', 'Incident_involving_dangerous_freight',\n",
       "       'Lack_of_electricity', 'Fire', 'Point_of_flooding', 'Manifestations',\n",
       "       'Defect_in_the_network_of_trolleybuses', 'Tree_on_the_road',\n",
       "       'Semaphore_off', 'Intermittent_Semaphore',\n",
       "       'Slowness_in_traffic_percent', 'Immobilized_bus_zero',\n",
       "       'Immobilized_bus_one', 'Immobilized_bus_twoOrMore', 'Broken_Truck_zero',\n",
       "       'Broken_Truck_one', 'Broken_Truck_twoOrMore'],\n",
       "      dtype='object')"
      ]
     },
     "execution_count": 899,
     "metadata": {},
     "output_type": "execute_result"
    }
   ],
   "source": [
    "df.loc[(df.Broken_Truck ==1000.0),'Broken_Truck']=0.0\n",
    "df['Broken_Truck_zero'] = [1 if x ==0.0 else 0 for x in df['Broken_Truck']]\n",
    "print(df['Broken_Truck_zero'].value_counts(dropna=False))\n",
    "df['Broken_Truck_one'] = [1 if x ==1.0 else 0 for x in df['Broken_Truck']]\n",
    "print(df['Broken_Truck_one'].value_counts(dropna=False))\n",
    "df['Broken_Truck_twoOrMore'] = [1 if x >1.0 else 0 for x in df['Broken_Truck']]\n",
    "print(df['Broken_Truck_twoOrMore'].value_counts(dropna=False))\n",
    "df.columns"
   ]
  },
  {
   "cell_type": "markdown",
   "metadata": {},
   "source": [
    "#### Exploratory Analysis for Vehicle_excess feature"
   ]
  },
  {
   "cell_type": "code",
   "execution_count": 900,
   "metadata": {},
   "outputs": [
    {
     "name": "stdout",
     "output_type": "stream",
     "text": [
      "[' T' ' F' ' f']\n",
      "[' T' ' F']\n"
     ]
    }
   ],
   "source": [
    "print(df.Vehicle_excess.unique())\n",
    "df.loc[(df.Vehicle_excess == ' f'),'Vehicle_excess']=' F'\n",
    "print(df.Vehicle_excess.unique())"
   ]
  },
  {
   "cell_type": "code",
   "execution_count": 901,
   "metadata": {},
   "outputs": [
    {
     "name": "stdout",
     "output_type": "stream",
     "text": [
      "0    135\n",
      "1      5\n",
      "Name: Vehicle_excess, dtype: int64\n"
     ]
    },
    {
     "data": {
      "text/plain": [
       "<matplotlib.axes._subplots.AxesSubplot at 0x7fe093a013d0>"
      ]
     },
     "execution_count": 901,
     "metadata": {},
     "output_type": "execute_result"
    },
    {
     "data": {
      "image/png": "[encoded data removed]",
      "text/plain": [
       "<Figure size 432x288 with 1 Axes>"
      ]
     },
     "metadata": {
      "needs_background": "light"
     },
     "output_type": "display_data"
    }
   ],
   "source": [
    "# Converting Yes to 1 and No to 0\n",
    "df['Vehicle_excess'] = df['Vehicle_excess'].map({' T': 1, ' F': 0})\n",
    "#df.Vehicle_excess.unique()\n",
    "#print(df['Vehicle_excess'])\n",
    "print(df['Vehicle_excess'].value_counts(dropna=False))\n",
    "sns.boxplot('Vehicle_excess', data = df)"
   ]
  },
  {
   "cell_type": "markdown",
   "metadata": {},
   "source": [
    "#### Exploratory Analysis for Accident_victim feature"
   ]
  },
  {
   "cell_type": "code",
   "execution_count": 902,
   "metadata": {},
   "outputs": [
    {
     "name": "stdout",
     "output_type": "stream",
     "text": [
      "[' 0.0' ' 1.0' ' 2.0' ' 3.0' ' -0.0' ' ']\n",
      " 0.0    92\n",
      " 1.0    33\n",
      " 2.0    10\n",
      " 3.0     3\n",
      "         2\n",
      "Name: Accident_victim, dtype: int64\n"
     ]
    }
   ],
   "source": [
    "print(df.Accident_victim.unique())\n",
    "df.loc[(df.Accident_victim == ' -0.0'),'Accident_victim']=' 0.0'\n",
    "print(df['Accident_victim'].value_counts(dropna=False))"
   ]
  },
  {
   "cell_type": "code",
   "execution_count": 903,
   "metadata": {},
   "outputs": [
    {
     "name": "stdout",
     "output_type": "stream",
     "text": [
      "[ 0.  1.  2.  3. nan]\n",
      "0.4492753623188406\n",
      "0    0.0\n",
      "dtype: float64\n"
     ]
    }
   ],
   "source": [
    "df['Accident_victim'] = pd.to_numeric(df['Accident_victim'],errors='coerce')\n",
    "print(df.Accident_victim.unique())\n",
    "print(df['Accident_victim'].mean())\n",
    "print(df['Accident_victim'].mode())"
   ]
  },
  {
   "cell_type": "code",
   "execution_count": 904,
   "metadata": {},
   "outputs": [
    {
     "name": "stdout",
     "output_type": "stream",
     "text": [
      "0.0    94\n",
      "1.0    33\n",
      "2.0    10\n",
      "3.0     3\n",
      "Name: Accident_victim, dtype: int64\n"
     ]
    },
    {
     "data": {
      "text/plain": [
       "<matplotlib.axes._subplots.AxesSubplot at 0x7fe0e197e950>"
      ]
     },
     "execution_count": 904,
     "metadata": {},
     "output_type": "execute_result"
    },
    {
     "data": {
      "image/png": "[encoded data removed]",
      "text/plain": [
       "<Figure size 432x288 with 1 Axes>"
      ]
     },
     "metadata": {
      "needs_background": "light"
     },
     "output_type": "display_data"
    }
   ],
   "source": [
    "#Replace nan with mode\n",
    "df['Accident_victim'].replace(np.nan, 0.0 , inplace = True)\n",
    "df['Accident_victim'] = pd.to_numeric(df['Accident_victim'],errors='coerce')\n",
    "print(df['Accident_victim'].value_counts(dropna=False))\n",
    "sns.boxplot('Accident_victim', data = df)"
   ]
  },
  {
   "cell_type": "code",
   "execution_count": 905,
   "metadata": {
    "scrolled": true
   },
   "outputs": [
    {
     "name": "stdout",
     "output_type": "stream",
     "text": [
      "1    94\n",
      "0    46\n",
      "Name: Accident_victim_zero, dtype: int64\n",
      "0    107\n",
      "1     33\n",
      "Name: Accident_victim_one, dtype: int64\n",
      "0    127\n",
      "1     13\n",
      "Name: Accident_victim_twoOrMore, dtype: int64\n",
      "Index(['Hour', 'Immobilized_bus', 'Broken_Truck', 'Vehicle_excess',\n",
      "       'Accident_victim', 'Running_over', 'Fire_vehicles',\n",
      "       'Occurrence_involving_freight', 'Incident_involving_dangerous_freight',\n",
      "       'Lack_of_electricity', 'Fire', 'Point_of_flooding', 'Manifestations',\n",
      "       'Defect_in_the_network_of_trolleybuses', 'Tree_on_the_road',\n",
      "       'Semaphore_off', 'Intermittent_Semaphore',\n",
      "       'Slowness_in_traffic_percent', 'Immobilized_bus_zero',\n",
      "       'Immobilized_bus_one', 'Immobilized_bus_twoOrMore', 'Broken_Truck_zero',\n",
      "       'Broken_Truck_one', 'Broken_Truck_twoOrMore', 'Accident_victim_zero',\n",
      "       'Accident_victim_one', 'Accident_victim_twoOrMore'],\n",
      "      dtype='object')\n"
     ]
    }
   ],
   "source": [
    "df['Accident_victim_zero'] = [1 if x ==0.0 else 0 for x in df['Accident_victim']]\n",
    "print(df['Accident_victim_zero'].value_counts(dropna=False))\n",
    "df['Accident_victim_one'] = [1 if x ==1.0 else 0 for x in df['Accident_victim']]\n",
    "print(df['Accident_victim_one'].value_counts(dropna=False))\n",
    "df['Accident_victim_twoOrMore'] = [1 if x >1.0 else 0 for x in df['Accident_victim']]\n",
    "print(df['Accident_victim_twoOrMore'].value_counts(dropna=False))\n",
    "print(df.columns)"
   ]
  },
  {
   "cell_type": "markdown",
   "metadata": {},
   "source": [
    "#### Exploratory Analysis for Running_over feature"
   ]
  },
  {
   "cell_type": "code",
   "execution_count": 906,
   "metadata": {},
   "outputs": [
    {
     "name": "stdout",
     "output_type": "stream",
     "text": [
      "[' 0.0' ' NO' ' 1.0' ' 2.0' ' -1.0']\n",
      "[' 0.0' ' 1.0' ' 2.0']\n",
      " 0.0    125\n",
      " 1.0     14\n",
      " 2.0      1\n",
      "Name: Running_over, dtype: int64\n"
     ]
    },
    {
     "data": {
      "text/plain": [
       "<matplotlib.axes._subplots.AxesSubplot at 0x7fe0d495f410>"
      ]
     },
     "execution_count": 906,
     "metadata": {},
     "output_type": "execute_result"
    },
    {
     "data": {
      "image/png": "[encoded data removed]",
      "text/plain": [
       "<Figure size 432x288 with 1 Axes>"
      ]
     },
     "metadata": {
      "needs_background": "light"
     },
     "output_type": "display_data"
    }
   ],
   "source": [
    "print(df.Running_over.unique())\n",
    "df.loc[(df.Running_over == ' NO'),'Running_over']=' 0.0'\n",
    "df.loc[(df.Running_over == ' -1.0'),'Running_over']=' 1.0'\n",
    "print(df.Running_over.unique())\n",
    "print(df['Running_over'].value_counts(dropna=False))\n",
    "df['Running_over'] = pd.to_numeric(df['Running_over'],errors='coerce')\n",
    "sns.boxplot('Running_over', data = df)"
   ]
  },
  {
   "cell_type": "code",
   "execution_count": 908,
   "metadata": {},
   "outputs": [
    {
     "name": "stdout",
     "output_type": "stream",
     "text": [
      "0.0    126\n",
      "1.0     14\n",
      "Name: Running_over, dtype: int64\n",
      "[0. 1.]\n"
     ]
    }
   ],
   "source": [
    "df.loc[(df.Running_over == 2.0),'Running_over']=0.0\n",
    "print(df['Running_over'].value_counts(dropna=False))\n",
    "print(df.Running_over.unique())"
   ]
  },
  {
   "cell_type": "markdown",
   "metadata": {},
   "source": [
    "#### Exploratory Analysis for Fire_vehicles feature"
   ]
  },
  {
   "cell_type": "code",
   "execution_count": 909,
   "metadata": {},
   "outputs": [
    {
     "name": "stdout",
     "output_type": "stream",
     "text": [
      " NO     138\n",
      " YES      1\n",
      " 0.0      1\n",
      "Name: Fire_vehicles, dtype: int64\n",
      " NO     139\n",
      " YES      1\n",
      "Name: Fire_vehicles, dtype: int64\n",
      "0.0    139\n",
      "1.0      1\n",
      "Name: Fire_vehicles, dtype: int64\n"
     ]
    },
    {
     "data": {
      "text/plain": [
       "<matplotlib.axes._subplots.AxesSubplot at 0x7fe0a3e0b950>"
      ]
     },
     "execution_count": 909,
     "metadata": {},
     "output_type": "execute_result"
    },
    {
     "data": {
      "image/png": "[encoded data removed]",
      "text/plain": [
       "<Figure size 432x288 with 1 Axes>"
      ]
     },
     "metadata": {
      "needs_background": "light"
     },
     "output_type": "display_data"
    }
   ],
   "source": [
    "print(df['Fire_vehicles'].value_counts(dropna=False))\n",
    "#df.replace(to_replace=' 0.0', value= ' NO', inplace = True)\n",
    "df.loc[(df.Fire_vehicles == ' 0.0'),'Fire_vehicles']=' NO'\n",
    "print(df['Fire_vehicles'].value_counts(dropna=False))\n",
    "df.loc[(df.Fire_vehicles == ' NO'),'Fire_vehicles']=' 0.0'\n",
    "df.loc[(df.Fire_vehicles == ' YES'),'Fire_vehicles']=' 1.0'\n",
    "df['Fire_vehicles'] = pd.to_numeric(df['Fire_vehicles'],errors='coerce')\n",
    "print(df['Fire_vehicles'].value_counts(dropna=False))\n",
    "\n",
    "sns.boxplot('Fire_vehicles', data = df)"
   ]
  },
  {
   "cell_type": "markdown",
   "metadata": {},
   "source": [
    "#### Exploratory Analysis for Occurrence_involving_freight feature"
   ]
  },
  {
   "cell_type": "code",
   "execution_count": 910,
   "metadata": {},
   "outputs": [
    {
     "name": "stdout",
     "output_type": "stream",
     "text": [
      "0.0    139\n",
      "1.0      1\n",
      "Name: Occurrence_involving_freight, dtype: int64\n",
      "0.0    139\n",
      "1.0      1\n",
      "Name: Occurrence_involving_freight, dtype: int64\n"
     ]
    },
    {
     "data": {
      "text/plain": [
       "<matplotlib.axes._subplots.AxesSubplot at 0x7fe0b4550750>"
      ]
     },
     "execution_count": 910,
     "metadata": {},
     "output_type": "execute_result"
    },
    {
     "data": {
      "image/png": "[encoded data removed]",
      "text/plain": [
       "<Figure size 432x288 with 1 Axes>"
      ]
     },
     "metadata": {
      "needs_background": "light"
     },
     "output_type": "display_data"
    }
   ],
   "source": [
    "df.Occurrence_involving_freight.unique()\n",
    "#print(df['Occurrence_involving_freight'])\n",
    "print(df['Occurrence_involving_freight'].value_counts(dropna=False))\n",
    "df['Occurrence_involving_freight'] = pd.to_numeric(df['Occurrence_involving_freight'],errors='coerce')\n",
    "print(df['Occurrence_involving_freight'].value_counts(dropna=False))\n",
    "sns.boxplot('Occurrence_involving_freight', data = df)"
   ]
  },
  {
   "cell_type": "markdown",
   "metadata": {},
   "source": [
    "#### Exploratory Analysis for Incident_involving_dangerous_freight feature"
   ]
  },
  {
   "cell_type": "code",
   "execution_count": 912,
   "metadata": {},
   "outputs": [
    {
     "name": "stdout",
     "output_type": "stream",
     "text": [
      "0.0    139\n",
      "1.0      1\n",
      "Name: Incident_involving_dangerous_freight, dtype: int64\n",
      "0    0.0\n",
      "dtype: float64\n",
      "0    139\n",
      "1      1\n",
      "Name: Incident_involving_dangerous_freight, dtype: int64\n",
      "0    139\n",
      "1      1\n",
      "Name: Incident_involving_dangerous_freight, dtype: int64\n"
     ]
    },
    {
     "data": {
      "text/plain": [
       "<matplotlib.axes._subplots.AxesSubplot at 0x7fe0d4a11250>"
      ]
     },
     "execution_count": 912,
     "metadata": {},
     "output_type": "execute_result"
    },
    {
     "data": {
      "image/png": "[encoded data removed]",
      "text/plain": [
       "<Figure size 432x288 with 1 Axes>"
      ]
     },
     "metadata": {
      "needs_background": "light"
     },
     "output_type": "display_data"
    }
   ],
   "source": [
    "df.Incident_involving_dangerous_freight.unique()\n",
    "#print(df['Incident_involving_dangerous_freight'])\n",
    "print(df['Incident_involving_dangerous_freight'].value_counts(dropna=False)) \n",
    "print(df['Incident_involving_dangerous_freight'].mode())\n",
    "\n",
    "df.loc[(df.Incident_involving_dangerous_freight == ' '),'Incident_involving_dangerous_freight']=' 0.0'\n",
    "print(df['Incident_involving_dangerous_freight'].value_counts(dropna=False))\n",
    "\n",
    "df['Incident_involving_dangerous_freight'] = pd.to_numeric(df['Incident_involving_dangerous_freight'],errors='coerce')\n",
    "print(df['Incident_involving_dangerous_freight'].value_counts(dropna=False))\n",
    "\n",
    "sns.boxplot('Incident_involving_dangerous_freight', data = df)"
   ]
  },
  {
   "cell_type": "markdown",
   "metadata": {},
   "source": [
    "#### Exploratory Analysis for Lack_of_electricity feature"
   ]
  },
  {
   "cell_type": "code",
   "execution_count": 913,
   "metadata": {},
   "outputs": [
    {
     "name": "stdout",
     "output_type": "stream",
     "text": [
      "[0. 1. 2. 4. 3.]\n",
      "0.0    130\n",
      "1.0      7\n",
      "3.0      1\n",
      "4.0      1\n",
      "2.0      1\n",
      "Name: Lack_of_electricity, dtype: int64\n",
      "0.0    130\n",
      "1.0     10\n",
      "Name: Lack_of_electricity, dtype: int64\n"
     ]
    },
    {
     "data": {
      "text/plain": [
       "<matplotlib.axes._subplots.AxesSubplot at 0x7fe0b4636590>"
      ]
     },
     "execution_count": 913,
     "metadata": {},
     "output_type": "execute_result"
    },
    {
     "data": {
      "image/png": "[encoded data removed]",
      "text/plain": [
       "<Figure size 432x288 with 1 Axes>"
      ]
     },
     "metadata": {
      "needs_background": "light"
     },
     "output_type": "display_data"
    }
   ],
   "source": [
    "print(df.Lack_of_electricity.unique())\n",
    "print(df['Lack_of_electricity'].value_counts(dropna=False)) \n",
    "df.loc[(df.Lack_of_electricity !=0.0),'Lack_of_electricity']=1.0\n",
    "print(df['Lack_of_electricity'].value_counts(dropna=False))\n",
    "\n",
    "\n",
    "sns.boxplot('Lack_of_electricity', data = df)"
   ]
  },
  {
   "cell_type": "markdown",
   "metadata": {},
   "source": [
    "#### Exploratory Analysis for Fire feature"
   ]
  },
  {
   "cell_type": "code",
   "execution_count": 914,
   "metadata": {},
   "outputs": [
    {
     "name": "stdout",
     "output_type": "stream",
     "text": [
      "0.0    139\n",
      "1.0      1\n",
      "Name: Fire, dtype: int64\n"
     ]
    },
    {
     "data": {
      "text/plain": [
       "<matplotlib.axes._subplots.AxesSubplot at 0x7fe0a3e57fd0>"
      ]
     },
     "execution_count": 914,
     "metadata": {},
     "output_type": "execute_result"
    },
    {
     "data": {
      "image/png": "[encoded data removed]",
      "text/plain": [
       "<Figure size 432x288 with 1 Axes>"
      ]
     },
     "metadata": {
      "needs_background": "light"
     },
     "output_type": "display_data"
    }
   ],
   "source": [
    "df.Fire.unique()\n",
    "#print(df['Fire'])\n",
    "print(df['Fire'].value_counts(dropna=False))\n",
    "df['Fire'] = pd.to_numeric(df['Fire'],errors='coerce')\n",
    "\n",
    "sns.boxplot('Fire', data = df)"
   ]
  },
  {
   "cell_type": "markdown",
   "metadata": {},
   "source": [
    "#### Exploratory Analysis for Point_of_flooding feature"
   ]
  },
  {
   "cell_type": "code",
   "execution_count": 915,
   "metadata": {},
   "outputs": [
    {
     "data": {
      "text/plain": [
       "<matplotlib.axes._subplots.AxesSubplot at 0x7fe093bb1510>"
      ]
     },
     "execution_count": 915,
     "metadata": {},
     "output_type": "execute_result"
    },
    {
     "data": {
      "image/png": "[encoded data removed]",
      "text/plain": [
       "<Figure size 432x288 with 1 Axes>"
      ]
     },
     "metadata": {
      "needs_background": "light"
     },
     "output_type": "display_data"
    }
   ],
   "source": [
    "df.Point_of_flooding.unique()\n",
    "sns.boxplot('Point_of_flooding', data = df)"
   ]
  },
  {
   "cell_type": "markdown",
   "metadata": {},
   "source": [
    "#### Exploratory Analysis for Manifestations feature"
   ]
  },
  {
   "cell_type": "code",
   "execution_count": 917,
   "metadata": {},
   "outputs": [
    {
     "name": "stdout",
     "output_type": "stream",
     "text": [
      " 0.0    133\n",
      " 1.0      6\n",
      "-1.0      1\n",
      "Name: Manifestations, dtype: int64\n",
      "0.0    133\n",
      "1.0      7\n",
      "Name: Manifestations, dtype: int64\n",
      "0.0    133\n",
      "1.0      7\n",
      "Name: Manifestations, dtype: int64\n"
     ]
    },
    {
     "data": {
      "text/plain": [
       "<matplotlib.axes._subplots.AxesSubplot at 0x7fe093c16410>"
      ]
     },
     "execution_count": 917,
     "metadata": {},
     "output_type": "execute_result"
    },
    {
     "data": {
      "image/png": "[encoded data removed]",
      "text/plain": [
       "<Figure size 432x288 with 1 Axes>"
      ]
     },
     "metadata": {
      "needs_background": "light"
     },
     "output_type": "display_data"
    }
   ],
   "source": [
    "#print(df.Manifestations.unique())\n",
    "print(df['Manifestations'].value_counts(dropna=False))\n",
    "#df['Manifestations'].mode()\n",
    "\n",
    "df.loc[(df.Manifestations == -1.0),'Manifestations']=1.0\n",
    "print(df['Manifestations'].value_counts(dropna=False))\n",
    "\n",
    "df['Manifestations'] = pd.to_numeric(df['Manifestations'],errors='coerce')\n",
    "print(df['Manifestations'].value_counts(dropna=False))\n",
    "\n",
    "sns.boxplot('Manifestations', data = df)"
   ]
  },
  {
   "cell_type": "markdown",
   "metadata": {},
   "source": [
    "#### Exploratory Analysis for Defect_in_the_network_of_trolleybuses feature"
   ]
  },
  {
   "cell_type": "code",
   "execution_count": 920,
   "metadata": {},
   "outputs": [
    {
     "name": "stdout",
     "output_type": "stream",
     "text": [
      " 0.0    121\n",
      " 1.0     19\n",
      "Name: Defect_in_the_network_of_trolleybuses, dtype: int64\n",
      "<bound method Series.mode of 0       0.0\n",
      "1       0.0\n",
      "2       0.0\n",
      "3       0.0\n",
      "4       0.0\n",
      "       ... \n",
      "135     1.0\n",
      "136     0.0\n",
      "137     0.0\n",
      "138     0.0\n",
      "139     0.0\n",
      "Name: Defect_in_the_network_of_trolleybuses, Length: 140, dtype: object>\n",
      " 0.0    121\n",
      " 1.0     19\n",
      "Name: Defect_in_the_network_of_trolleybuses, dtype: int64\n",
      "0.0    121\n",
      "1.0     19\n",
      "Name: Defect_in_the_network_of_trolleybuses, dtype: int64\n"
     ]
    },
    {
     "data": {
      "text/plain": [
       "<matplotlib.axes._subplots.AxesSubplot at 0x7fe0b473b9d0>"
      ]
     },
     "execution_count": 920,
     "metadata": {},
     "output_type": "execute_result"
    },
    {
     "data": {
      "image/png": "[encoded data removed]",
      "text/plain": [
       "<Figure size 432x288 with 1 Axes>"
      ]
     },
     "metadata": {
      "needs_background": "light"
     },
     "output_type": "display_data"
    }
   ],
   "source": [
    "#print(df.Defect_in_the_network_of_trolleybuses.unique())\n",
    "print(df['Defect_in_the_network_of_trolleybuses'].value_counts(dropna=False))\n",
    "#Defect_in_the_network_of_trolleybuses feature has 118 occurances as 0.0 and 17 occurances as YES. 2 missing values\n",
    "#and 1 occurances of 3.0, -8.0 and 2.0. -8 can be considered as outlier.\n",
    "\n",
    "#This feature also looks categorical and we can represent it as 0.0, YES as 1.0, missing value is replaced with mode\n",
    "#0.0 is considered as NO and rest of the values as YES\n",
    "print(df['Defect_in_the_network_of_trolleybuses'].mode)\n",
    "\n",
    "df.loc[(df.Defect_in_the_network_of_trolleybuses == ' '),'Defect_in_the_network_of_trolleybuses']=' 0.0'\n",
    "df.loc[(df.Defect_in_the_network_of_trolleybuses == ' YES'),'Defect_in_the_network_of_trolleybuses']=' 1.0'\n",
    "df.loc[(df.Defect_in_the_network_of_trolleybuses == ' 2.0'),'Defect_in_the_network_of_trolleybuses']=' 1.0'\n",
    "df.loc[(df.Defect_in_the_network_of_trolleybuses == ' 3.0'),'Defect_in_the_network_of_trolleybuses']=' 1.0'\n",
    "#Replace outlier with mode \n",
    "df.loc[(df.Defect_in_the_network_of_trolleybuses == ' -8.0'),'Defect_in_the_network_of_trolleybuses']=' 0.0'\n",
    "print(df['Defect_in_the_network_of_trolleybuses'].value_counts(dropna=False))\n",
    "\n",
    "df['Defect_in_the_network_of_trolleybuses'] = pd.to_numeric(df['Defect_in_the_network_of_trolleybuses'],errors='coerce')\n",
    "print(df['Defect_in_the_network_of_trolleybuses'].value_counts(dropna=False))\n",
    "\n",
    "sns.boxplot('Defect_in_the_network_of_trolleybuses', data = df)"
   ]
  },
  {
   "cell_type": "markdown",
   "metadata": {},
   "source": [
    "#### Exploratory Analysis for  Tree_on_the_road feature"
   ]
  },
  {
   "cell_type": "code",
   "execution_count": 921,
   "metadata": {},
   "outputs": [
    {
     "name": "stdout",
     "output_type": "stream",
     "text": [
      "0.0    134\n",
      "1.0      6\n",
      "Name: Tree_on_the_road, dtype: int64\n"
     ]
    },
    {
     "data": {
      "text/plain": [
       "<matplotlib.axes._subplots.AxesSubplot at 0x7fe0c6866ed0>"
      ]
     },
     "execution_count": 921,
     "metadata": {},
     "output_type": "execute_result"
    },
    {
     "data": {
      "image/png": "[encoded data removed]",
      "text/plain": [
       "<Figure size 432x288 with 1 Axes>"
      ]
     },
     "metadata": {
      "needs_background": "light"
     },
     "output_type": "display_data"
    }
   ],
   "source": [
    "#print(df.Tree_on_the_road.unique())\n",
    "print(df['Tree_on_the_road'].value_counts(dropna=False))\n",
    "df['Tree_on_the_road'] = pd.to_numeric(df['Tree_on_the_road'],errors='coerce')\n",
    "#Tree_on_the_road feature has values 0 and 1 so it's categorical by nature and values are 0 and 1\n",
    "#so we dont need to create any new feature/s for this.\n",
    "\n",
    "sns.boxplot('Tree_on_the_road', data = df)"
   ]
  },
  {
   "cell_type": "markdown",
   "metadata": {},
   "source": [
    "#### Exploratory Analysis for Semaphore_off feature"
   ]
  },
  {
   "cell_type": "code",
   "execution_count": 922,
   "metadata": {},
   "outputs": [
    {
     "name": "stdout",
     "output_type": "stream",
     "text": [
      " 0.0    125\n",
      " 1.0     12\n",
      "          1\n",
      " 2.0      1\n",
      " 4.0      1\n",
      "Name: Semaphore_off, dtype: int64\n"
     ]
    },
    {
     "data": {
      "text/plain": [
       "<matplotlib.axes._subplots.AxesSubplot at 0x7fe0c6885910>"
      ]
     },
     "execution_count": 922,
     "metadata": {},
     "output_type": "execute_result"
    },
    {
     "data": {
      "image/png": "[encoded data removed]",
      "text/plain": [
       "<Figure size 432x288 with 1 Axes>"
      ]
     },
     "metadata": {
      "needs_background": "light"
     },
     "output_type": "display_data"
    }
   ],
   "source": [
    "#print(df.Semaphore_off.unique())\n",
    "print(df['Semaphore_off'].value_counts(dropna=False))\n",
    "#print(df['Semaphore_off'].mode())\n",
    "#Semaphore_off has 125 occurances on 0, 12 occurance of YES, 1 occurance of 2.0, 4.0 and 1 missing value. \n",
    "#The feature looks like categorical in nature if we consider 0.0 ~ N0, 1.0 ~ YES so we can replace missing value with \n",
    "#mode and convert it to numerical with 0.0 as 0.0 and rest of the values as 1.0 and we don't need to create any new \n",
    "#feature/column\n",
    "df.loc[(df.Semaphore_off == ' '),'Semaphore_off']=' 0.0'\n",
    "df.loc[(df.Semaphore_off == ' YES'),'Semaphore_off']=' 1.0'\n",
    "df.loc[(df.Semaphore_off == ' 2.0'),'Semaphore_off']=' 1.0'\n",
    "df.loc[(df.Semaphore_off == ' 4.0'),'Semaphore_off']=' 1.0'\n",
    "#print(df.Semaphore_off.unique())\n",
    "df['Semaphore_off'] = pd.to_numeric(df['Semaphore_off'],errors='coerce')\n",
    "#print(df.Semaphore_off.unique())\n",
    "\n",
    "sns.boxplot('Semaphore_off', data = df)"
   ]
  },
  {
   "cell_type": "markdown",
   "metadata": {},
   "source": [
    "#### Exploratory Analysis for Intermittent_Semaphore feature"
   ]
  },
  {
   "cell_type": "code",
   "execution_count": 923,
   "metadata": {
    "scrolled": true
   },
   "outputs": [
    {
     "name": "stdout",
     "output_type": "stream",
     "text": [
      "0.0    138\n",
      "1.0      2\n",
      "Name: Intermittent_Semaphore, dtype: int64\n"
     ]
    },
    {
     "data": {
      "text/plain": [
       "<matplotlib.axes._subplots.AxesSubplot at 0x7fe0d4abf4d0>"
      ]
     },
     "execution_count": 923,
     "metadata": {},
     "output_type": "execute_result"
    },
    {
     "data": {
      "image/png": "[encoded data removed]",
      "text/plain": [
       "<Figure size 432x288 with 1 Axes>"
      ]
     },
     "metadata": {
      "needs_background": "light"
     },
     "output_type": "display_data"
    }
   ],
   "source": [
    "#print(df.Intermittent_Semaphore.unique())\n",
    "print(df['Intermittent_Semaphore'].value_counts(dropna=False))\n",
    "#Transform values to numeric values\n",
    "df['Intermittent_Semaphore'] = pd.to_numeric(df['Intermittent_Semaphore'],errors='coerce')\n",
    "#Intermittent_Semaphore feature has values 0 and 1 so it's categorical by nature and values are 0 and 1\n",
    "#so we dont need to create any new feature/s for this.\n",
    "\n",
    "sns.boxplot('Intermittent_Semaphore', data = df)"
   ]
  },
  {
   "cell_type": "markdown",
   "metadata": {},
   "source": [
    "# Feature Subset Selection"
   ]
  },
  {
   "cell_type": "markdown",
   "metadata": {},
   "source": [
    "#### Frequency distribution of Slowness_in_traffic_percent"
   ]
  },
  {
   "cell_type": "code",
   "execution_count": 927,
   "metadata": {},
   "outputs": [
    {
     "data": {
      "text/plain": [
       "Index(['Hour', 'Immobilized_bus', 'Broken_Truck', 'Vehicle_excess',\n",
       "       'Accident_victim', 'Running_over', 'Fire_vehicles',\n",
       "       'Occurrence_involving_freight', 'Incident_involving_dangerous_freight',\n",
       "       'Lack_of_electricity', 'Fire', 'Point_of_flooding', 'Manifestations',\n",
       "       'Defect_in_the_network_of_trolleybuses', 'Tree_on_the_road',\n",
       "       'Semaphore_off', 'Intermittent_Semaphore',\n",
       "       'Slowness_in_traffic_percent', 'Immobilized_bus_zero',\n",
       "       'Immobilized_bus_one', 'Immobilized_bus_twoOrMore', 'Broken_Truck_zero',\n",
       "       'Broken_Truck_one', 'Broken_Truck_twoOrMore', 'Accident_victim_zero',\n",
       "       'Accident_victim_one', 'Accident_victim_twoOrMore'],\n",
       "      dtype='object')"
      ]
     },
     "execution_count": 927,
     "metadata": {},
     "output_type": "execute_result"
    }
   ],
   "source": [
    "#df.columns"
   ]
  },
  {
   "cell_type": "code",
   "execution_count": 924,
   "metadata": {},
   "outputs": [
    {
     "data": {
      "image/png": "[encoded data removed]",
      "text/plain": [
       "<Figure size 432x288 with 1 Axes>"
      ]
     },
     "metadata": {
      "needs_background": "light"
     },
     "output_type": "display_data"
    }
   ],
   "source": [
    "sns.distplot(df['Slowness_in_traffic_percent']);"
   ]
  },
  {
   "cell_type": "code",
   "execution_count": 925,
   "metadata": {},
   "outputs": [
    {
     "data": {
      "image/png": "[encoded data removed]",
      "text/plain": [
       "<Figure size 432x288 with 1 Axes>"
      ]
     },
     "metadata": {
      "needs_background": "light"
     },
     "output_type": "display_data"
    }
   ],
   "source": [
    "sns.distplot(df['Slowness_in_traffic_percent'], kde=False, rug=True);"
   ]
  },
  {
   "cell_type": "markdown",
   "metadata": {},
   "source": [
    "### RFE"
   ]
  },
  {
   "cell_type": "code",
   "execution_count": 938,
   "metadata": {},
   "outputs": [
    {
     "name": "stdout",
     "output_type": "stream",
     "text": [
      "Best10 features:  (1, 2, 4, 11, 17, 20, 21, 22, 23, 24)\n",
      "Index(['Hour', 'Immobilized_bus', 'Broken_Truck', 'Vehicle_excess',\n",
      "       'Accident_victim', 'Running_over', 'Fire_vehicles',\n",
      "       'Occurrence_involving_freight', 'Incident_involving_dangerous_freight',\n",
      "       'Lack_of_electricity', 'Fire', 'Point_of_flooding', 'Manifestations',\n",
      "       'Defect_in_the_network_of_trolleybuses', 'Tree_on_the_road',\n",
      "       'Semaphore_off', 'Intermittent_Semaphore',\n",
      "       'Slowness_in_traffic_percent', 'Immobilized_bus_zero',\n",
      "       'Immobilized_bus_one', 'Immobilized_bus_twoOrMore', 'Broken_Truck_zero',\n",
      "       'Broken_Truck_one', 'Broken_Truck_twoOrMore', 'Accident_victim_zero',\n",
      "       'Accident_victim_one', 'Accident_victim_twoOrMore'],\n",
      "      dtype='object')\n"
     ]
    }
   ],
   "source": [
    "from sklearn.neighbors import KNeighborsClassifier\n",
    "from mlxtend.feature_selection import SequentialFeatureSelector as SFS\n",
    "from sklearn import preprocessing\n",
    "import warnings\n",
    "warnings.filterwarnings('ignore')\n",
    "dff = df \n",
    "X = dff.drop(['Slowness_in_traffic_percent'], axis = 1) \n",
    "y = df['Slowness_in_traffic_percent']\n",
    "\n",
    "lab_enc = preprocessing.LabelEncoder()\n",
    "y_encoded = lab_enc.fit_transform(y)\n",
    "\n",
    "# Create the sbs object and select best 10 features\n",
    "knn = KNeighborsClassifier(n_neighbors=10)\n",
    "# the param forward when set to False will do sequential backward selection\n",
    "sbs = SFS(knn,\n",
    "           k_features=10,\n",
    "           forward=False,\n",
    "           scoring='accuracy')\n",
    "\n",
    "sbs = sbs.fit(X, y_encoded)\n",
    "print(\"Best10 features: \",sbs.k_feature_idx_)\n",
    "print(dff.columns)"
   ]
  },
  {
   "cell_type": "markdown",
   "metadata": {},
   "source": [
    "### Chi-Sqaured"
   ]
  },
  {
   "cell_type": "code",
   "execution_count": 940,
   "metadata": {},
   "outputs": [
    {
     "name": "stdout",
     "output_type": "stream",
     "text": [
      "Chi-2 Scores [7.38392298e+02 1.68909418e+01 2.42895826e+01 2.27538462e+01\n",
      " 1.58404745e+01 8.75395193e+00 2.23333333e+01 1.17272727e+01\n",
      " 5.66666667e+00 4.74844920e+01 3.11764706e+00 1.78277606e+04\n",
      " 2.44540362e+01 8.05977614e+00 6.82458065e+00 2.88698752e+01\n",
      " 1.66666667e+01 4.95190330e+00 2.17928963e+01 1.30415619e+01\n",
      " 7.95057825e+00 6.34761228e+00 1.02838007e+01 4.87196992e+00\n",
      " 9.78996464e+00 1.02222046e+01]\n",
      "p values [1.63476918e-148 2.62036216e-001 4.22637311e-002 6.43948609e-002\n",
      " 3.23213149e-001 8.46482053e-001 7.20197595e-002 6.28194499e-001\n",
      " 9.74206748e-001 1.59945391e-005 9.98847270e-001 0.00000000e+000\n",
      " 4.03557109e-002 8.86188605e-001 9.41262601e-001 1.08821106e-002\n",
      " 2.74376713e-001 9.86470840e-001 8.29711366e-002 5.23253623e-001\n",
      " 8.91884848e-001 9.56954984e-001 7.41153980e-001 9.87515850e-001\n",
      " 7.77372565e-001 7.45763995e-001]\n"
     ]
    }
   ],
   "source": [
    "df2 = df\n",
    "pdf = pd.DataFrame()\n",
    "pdf['Slowness_in_traffic_class'] = pd.cut(df2.Slowness_in_traffic_percent, bins=15, labels=np.arange(15), right=False)\n",
    "#print(pdf)\n",
    "from sklearn.feature_selection import chi2\n",
    "X = X\n",
    "y = pdf\n",
    "chi2_scores, p_values = chi2(X,y)\n",
    "print(\"Chi-2 Scores\",chi2_scores)\n",
    "print(\"p values\",p_values)"
   ]
  },
  {
   "cell_type": "markdown",
   "metadata": {},
   "source": [
    "# Model building and testing"
   ]
  },
  {
   "cell_type": "code",
   "execution_count": null,
   "metadata": {},
   "outputs": [],
   "source": []
  },
  {
   "cell_type": "markdown",
   "metadata": {},
   "source": []
  },
  {
   "cell_type": "code",
   "execution_count": null,
   "metadata": {},
   "outputs": [],
   "source": []
  }
 ],
 "metadata": {
  "kernelspec": {
   "display_name": "Python 3",
   "language": "python",
   "name": "python3"
  },
  "language_info": {
   "codemirror_mode": {
    "name": "ipython",
    "version": 3
   },
   "file_extension": ".py",
   "mimetype": "text/x-python",
   "name": "python",
   "nbconvert_exporter": "python",
   "pygments_lexer": "ipython3",
   "version": "3.7.4"
  }
 },
 "nbformat": 4,
 "nbformat_minor": 2
}
